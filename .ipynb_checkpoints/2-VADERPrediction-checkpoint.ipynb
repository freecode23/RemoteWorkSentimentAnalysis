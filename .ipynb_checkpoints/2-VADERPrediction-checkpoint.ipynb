{
 "cells": [
  {
   "cell_type": "markdown",
   "metadata": {},
   "source": [
    "# Remote work sentiment analysis \n",
    "# Modelling Vader"
   ]
  },
  {
   "cell_type": "markdown",
   "metadata": {},
   "source": [
    "# 0-Resources<a id='0_Resources'></a>"
   ]
  },
  {
   "cell_type": "markdown",
   "metadata": {},
   "source": [
    "https://www.analyticsvidhya.com/blog/2021/01/sentiment-analysis-vader-or-textblob/\n",
    "\n",
    "jupyter lab --NotebookApp.iopub_data_rate_limit=1.0e10"
   ]
  },
  {
   "cell_type": "markdown",
   "metadata": {},
   "source": [
    "# 1-Setup<a id='1_Setup'></a>"
   ]
  },
  {
   "cell_type": "markdown",
   "metadata": {},
   "source": [
    "## 1.1 Import<a id='1.1_Setup'></a>"
   ]
  },
  {
   "cell_type": "code",
   "execution_count": null,
   "metadata": {},
   "outputs": [],
   "source": [
    "## for data\n",
    "import pandas as pd\n",
    "import numpy as np\n",
    "\n",
    "## for predicting\n",
    "from vaderSentiment.vaderSentiment import SentimentIntensityAnalyzer\n",
    "from sklearn.metrics.pairwise import cosine_similarity\n",
    "\n",
    "import my_functions as func\n"
   ]
  },
  {
   "cell_type": "markdown",
   "metadata": {},
   "source": [
    "## 1.2 Load Data<a id='1.2_Load_Data'></a>"
   ]
  },
  {
   "cell_type": "code",
   "execution_count": null,
   "metadata": {},
   "outputs": [],
   "source": [
    "df = pd.read_csv('tweets.csv')\n",
    "df = df.drop(['Language','username','date'], 1)\n",
    "# df = df.iloc[0:5000]\n",
    "# df.reset_index(inplace = True, drop = True)"
   ]
  },
  {
   "cell_type": "code",
   "execution_count": null,
   "metadata": {},
   "outputs": [],
   "source": [
    "df"
   ]
  },
  {
   "cell_type": "code",
   "execution_count": null,
   "metadata": {
    "scrolled": true,
    "tags": []
   },
   "outputs": [],
   "source": [
    "func.print_tweet(df,len(df))"
   ]
  },
  {
   "cell_type": "markdown",
   "metadata": {},
   "source": [
    "# 2-Cleaning for BERT and VADER"
   ]
  },
  {
   "cell_type": "markdown",
   "metadata": {},
   "source": [
    "## Remove 'read more'"
   ]
  },
  {
   "cell_type": "markdown",
   "metadata": {},
   "source": [
    "<span style=\"background-color:Teal\"> Lets remove phrases like **read more**, **learn more**, **find out more**, as they sually comes with links where to read them after<span>"
   ]
  },
  {
   "cell_type": "code",
   "execution_count": null,
   "metadata": {},
   "outputs": [],
   "source": [
    "df = func.remove_read_more(df)"
   ]
  },
  {
   "cell_type": "code",
   "execution_count": null,
   "metadata": {},
   "outputs": [],
   "source": [
    "# save data as we want to use this also for BERT\n",
    "df.to_csv('tweetBERT.csv', index=False)"
   ]
  },
  {
   "cell_type": "markdown",
   "metadata": {},
   "source": [
    "# 3-For VADER only"
   ]
  },
  {
   "cell_type": "markdown",
   "metadata": {},
   "source": [
    "## 3.1 Remove ending hashtags\n"
   ]
  },
  {
   "cell_type": "code",
   "execution_count": null,
   "metadata": {
    "scrolled": true,
    "tags": []
   },
   "outputs": [],
   "source": [
    "df_vader = df.copy()\n",
    "df_vader = func.remove_end_hashtag(df_vader)\n"
   ]
  },
  {
   "cell_type": "markdown",
   "metadata": {},
   "source": [
    "## 3.2 Lemmatize"
   ]
  },
  {
   "cell_type": "code",
   "execution_count": null,
   "metadata": {},
   "outputs": [],
   "source": [
    "df_vader['original_tweet'] = df_vader['tweet']\n"
   ]
  },
  {
   "cell_type": "code",
   "execution_count": null,
   "metadata": {},
   "outputs": [],
   "source": [
    "func.lemmatized_df(df_vader)"
   ]
  },
  {
   "cell_type": "markdown",
   "metadata": {},
   "source": [
    "## 3.3 Remove special char\n"
   ]
  },
  {
   "cell_type": "code",
   "execution_count": null,
   "metadata": {
    "scrolled": true,
    "tags": []
   },
   "outputs": [],
   "source": [
    "df_vader = func.remove_char_vader(df_vader)\n"
   ]
  },
  {
   "cell_type": "markdown",
   "metadata": {},
   "source": [
    "# 4-Pick Two pipeline"
   ]
  },
  {
   "cell_type": "markdown",
   "metadata": {},
   "source": [
    "## 4.1 Pipeline1: Split hashtag\n"
   ]
  },
  {
   "cell_type": "code",
   "execution_count": null,
   "metadata": {},
   "outputs": [],
   "source": [
    "# copy the data frame so we can split this\n",
    "df_vader_split = df_vader.copy()\n",
    "\n",
    "# create new column that we can use to identify which rows has been split\n",
    "df_vader_split['middle_hashtag'] = False"
   ]
  },
  {
   "cell_type": "code",
   "execution_count": null,
   "metadata": {},
   "outputs": [],
   "source": [
    "df_vader_split"
   ]
  },
  {
   "cell_type": "code",
   "execution_count": null,
   "metadata": {
    "scrolled": true,
    "tags": []
   },
   "outputs": [],
   "source": [
    "func.print_tweet(df_vader_split, len(df_vader_split))"
   ]
  },
  {
   "cell_type": "code",
   "execution_count": null,
   "metadata": {
    "scrolled": true,
    "tags": []
   },
   "outputs": [],
   "source": [
    "df_vader_split = func.custom_pipeline(df_vader_split,\n",
    "                     del_split_hashtag = True, #optional\n",
    "                     del_stopwords = True,  \n",
    "                     del_short_tweets = False)\n"
   ]
  },
  {
   "cell_type": "code",
   "execution_count": null,
   "metadata": {
    "scrolled": true,
    "tags": []
   },
   "outputs": [],
   "source": [
    "func.print_tweet(df_vader_split, len(df_vader_split))"
   ]
  },
  {
   "cell_type": "markdown",
   "metadata": {
    "tags": []
   },
   "source": [
    "## 4.2 Pipeline2: Don't Split Hashtag"
   ]
  },
  {
   "cell_type": "code",
   "execution_count": null,
   "metadata": {
    "scrolled": true,
    "tags": []
   },
   "outputs": [],
   "source": [
    "df_vader_nosplit = df_vader.copy()\n",
    "\n",
    "df_vader_nosplit = func.custom_pipeline(df_vader_nosplit,\n",
    "                    del_split_hashtag = False, #optional\n",
    "                    del_stopwords = True,  \n",
    "                    del_short_tweets = False)"
   ]
  },
  {
   "cell_type": "code",
   "execution_count": null,
   "metadata": {},
   "outputs": [],
   "source": [
    "print(df_vader_nosplit.shape)\n",
    "print(df_vader_split.shape)"
   ]
  },
  {
   "cell_type": "markdown",
   "metadata": {},
   "source": [
    "# 5-Refactor the two dfs, make sure they are of the same shape"
   ]
  },
  {
   "cell_type": "markdown",
   "metadata": {},
   "source": [
    "<span style='background-color:Teal'>We want to compare if splitting hashtags has the same score, so lets make sure they are of the same shape first to compare index by index easily<span>"
   ]
  },
  {
   "cell_type": "code",
   "execution_count": null,
   "metadata": {
    "scrolled": true,
    "tags": []
   },
   "outputs": [],
   "source": [
    "indices_to_remove = []\n",
    "for i in range(len(df_vader_nosplit)):\n",
    "    if(df_vader_nosplit.iloc[i].original_tweet not in df_vader_split.original_tweet.tolist()):\n",
    "        indices_to_remove.append(i)\n",
    "#         print('\\n',i)\n",
    "#         print(df_vader_nosplit.iloc[i].original_tweet)"
   ]
  },
  {
   "cell_type": "code",
   "execution_count": null,
   "metadata": {},
   "outputs": [],
   "source": [
    "df_vader_nosplit.drop(indices_to_remove, axis=0, inplace=True)\n",
    "df_vader_nosplit.reset_index(drop=True, inplace=True)\n",
    "df_vader_nosplit.shape\n"
   ]
  },
  {
   "cell_type": "code",
   "execution_count": null,
   "metadata": {},
   "outputs": [],
   "source": [
    "df_vader_nosplit"
   ]
  },
  {
   "cell_type": "markdown",
   "metadata": {},
   "source": [
    "# 6-Predict Sentiment with split hashtag"
   ]
  },
  {
   "cell_type": "markdown",
   "metadata": {},
   "source": [
    "<span style=\"background-color:Teal\">If compound score is +ve then sentiment is +ve, -ve compound score means negative sentiment<span>"
   ]
  },
  {
   "cell_type": "markdown",
   "metadata": {},
   "source": [
    "<span style=\"background-color:Teal\">Let's assign a score to each row in the df<span>"
   ]
  },
  {
   "cell_type": "code",
   "execution_count": null,
   "metadata": {},
   "outputs": [],
   "source": [
    "sid = SentimentIntensityAnalyzer()\n",
    "\n",
    "# 2. Assign Score function\n",
    "def assign_score(the_df):\n",
    "    \n",
    "    '''Assign compound sentiment score to each tweets in a dataframe'''\n",
    "    print('df length: ',len(the_df))\n",
    "    score_list = []\n",
    "    sentiment_list =[]\n",
    "    # 1. create new column for the scores\n",
    "    the_df['VaderScore'] = 0\n",
    "    the_df['VaderSentiment'] = ''\n",
    "\n",
    "    # 2. Get the score\n",
    "    for i in range(len(the_df)):\n",
    "#         print(i)\n",
    "        text = the_df.iloc[i].tweet\n",
    "        score = sid.polarity_scores(text)['compound']\n",
    "        if(score < 0 ):\n",
    "            sentiment = 'neg'\n",
    "        elif(score == 0):\n",
    "            sentiment = 'neu'\n",
    "        else:\n",
    "            sentiment = 'pos'\n",
    "#         print(score)\n",
    "        score_list.append(score)\n",
    "        sentiment_list.append(sentiment)\n",
    "    \n",
    "    \n",
    "    # 3. Update df scores\n",
    "    the_df['VaderScore'] = pd.DataFrame(score_list)\n",
    "    the_df['VaderSentiment'] = pd.DataFrame(sentiment_list)\n",
    "    "
   ]
  },
  {
   "cell_type": "markdown",
   "metadata": {},
   "source": [
    "<span style=\"background-color:Teal\">Let's make the prediction<span>"
   ]
  },
  {
   "cell_type": "code",
   "execution_count": null,
   "metadata": {
    "scrolled": true,
    "tags": []
   },
   "outputs": [],
   "source": [
    "# predict\n",
    "assign_score(df_vader_split)"
   ]
  },
  {
   "cell_type": "code",
   "execution_count": null,
   "metadata": {
    "scrolled": true,
    "tags": []
   },
   "outputs": [],
   "source": [
    "df_vader_split"
   ]
  },
  {
   "cell_type": "markdown",
   "metadata": {},
   "source": [
    "# 7-Predict Sentiment with non-split hashtag\n"
   ]
  },
  {
   "cell_type": "code",
   "execution_count": null,
   "metadata": {
    "scrolled": true,
    "tags": []
   },
   "outputs": [],
   "source": [
    "# Check if split and nosplit has the same size\n",
    "assign_score(df_vader_nosplit)\n",
    "df_vader_nosplit"
   ]
  },
  {
   "cell_type": "markdown",
   "metadata": {},
   "source": [
    "# 8-Compare split and non-split tweets"
   ]
  },
  {
   "cell_type": "markdown",
   "metadata": {},
   "source": [
    "<span style='background-color:Teal'>We want to see which is better. to split or not to split the hashtag<span>"
   ]
  },
  {
   "cell_type": "code",
   "execution_count": null,
   "metadata": {},
   "outputs": [],
   "source": [
    "def compare_tweet(the_df_split, the_df_notsplit):\n",
    "    count = 0;\n",
    "    for i in range(len(the_df_split)):\n",
    "        # only print where we there is hashtag in the middle of a sentence\n",
    "        # and if sentiment result is different      \n",
    "        if((the_df_split.iloc[i].middle_hashtag == True)\n",
    "        and (the_df_split.iloc[i].VaderSentiment != the_df_split.iloc[i].VaderSentiment)):\n",
    "            count +=1\n",
    "            print('****SPLIT******:')\n",
    "            print('TWEET: ', the_df_split.iloc[i].tweet)\n",
    "            print('SENTIMENT: ', the_df_split.iloc[i].VaderSentiment)\n",
    "            print('SCORE: ', the_df_split.iloc[i].VaderScore,'\\n')\n",
    "                \n",
    "            print('****NOT SPLIT******:')\n",
    "            print('TWEET: ', the_df_notsplit.iloc[i].tweet)\n",
    "            print('SENTIMENT: ', the_df_notsplit.iloc[i].VaderSentiment)\n",
    "            print('SCORE: ', the_df_notsplit.iloc[i].VaderScore,'\\n')\n",
    "    if(count == 0):\n",
    "        print('all sentiment result are the same')        "
   ]
  },
  {
   "cell_type": "code",
   "execution_count": null,
   "metadata": {},
   "outputs": [],
   "source": [
    "compare_tweet(df_vader_split, df_vader_nosplit)"
   ]
  },
  {
   "cell_type": "markdown",
   "metadata": {},
   "source": [
    "<span style='background-color:Teal'> There is no effect in splitting hashtag, I guess, the hashtag has not sentiment <span>"
   ]
  },
  {
   "cell_type": "markdown",
   "metadata": {},
   "source": [
    "# 9-View tweets of both sentiments"
   ]
  },
  {
   "cell_type": "code",
   "execution_count": null,
   "metadata": {},
   "outputs": [],
   "source": [
    "def print_sentiment_tweet(the_df, sentiment = 'neg'):\n",
    "    count = 0;\n",
    "   \n",
    "    if(sentiment == 'neg'):\n",
    "        print('printing Negative tweets:')\n",
    "        for i in range(len(the_df)):  \n",
    "            if(the_df.iloc[i].VaderSentiment == 'neg'):\n",
    "                print('\\n',i)\n",
    "                print(the_df.iloc[i].original_tweet)\n",
    "    else:\n",
    "        print('printing Positive tweets:')\n",
    "        for i in range(len(the_df)):\n",
    "            if(the_df.iloc[i].VaderSentiment == 'pos'):\n",
    "                print('\\n',i)\n",
    "                print(the_df.iloc[i].original_tweet)\n"
   ]
  },
  {
   "cell_type": "code",
   "execution_count": null,
   "metadata": {
    "scrolled": true,
    "tags": []
   },
   "outputs": [],
   "source": [
    "# 1. print negative\n",
    "print_sentiment_tweet(df_vader_split, 'neg')"
   ]
  },
  {
   "cell_type": "code",
   "execution_count": null,
   "metadata": {
    "scrolled": true,
    "tags": []
   },
   "outputs": [],
   "source": [
    "# 2. print positive\n",
    "print_sentiment_tweet(df_vader_split, 'pos')"
   ]
  },
  {
   "cell_type": "markdown",
   "metadata": {},
   "source": [
    "<span style='background-color:Teal'> \n",
    "There are positive tweets that still identifies the problem with remote work: <br>\n",
    "- I believe remote work is suitable for routine, transactional work, but I expect it  <span STYLE=\"font-weight:bold\">**limits culture**</span> to the middle of the curve. Atomic's flexible, co-located model is critical for our future success.\"<span>"
   ]
  },
  {
   "cell_type": "markdown",
   "metadata": {},
   "source": [
    "# 10-Compare number of positive vs negative tweets"
   ]
  },
  {
   "cell_type": "code",
   "execution_count": null,
   "metadata": {},
   "outputs": [],
   "source": [
    "df_vader = df_vader_split.copy()"
   ]
  },
  {
   "cell_type": "code",
   "execution_count": null,
   "metadata": {},
   "outputs": [],
   "source": [
    "df_vader[df_vader.VaderSentiment == 'neg'].shape"
   ]
  },
  {
   "cell_type": "code",
   "execution_count": null,
   "metadata": {},
   "outputs": [],
   "source": [
    "df_vader[df_vader.VaderSentiment == 'pos'].shape"
   ]
  },
  {
   "cell_type": "markdown",
   "metadata": {},
   "source": [
    "<span style='background-color:Teal'> \n",
    "There are 3 times more positive tweets than negative tweets<span>"
   ]
  }
 ],
 "metadata": {
  "kernelspec": {
   "display_name": "Python [conda env:root] *",
   "language": "python",
   "name": "conda-root-py"
  },
  "language_info": {
   "codemirror_mode": {
    "name": "ipython",
    "version": 3
   },
   "file_extension": ".py",
   "mimetype": "text/x-python",
   "name": "python",
   "nbconvert_exporter": "python",
   "pygments_lexer": "ipython3",
   "version": "3.8.5"
  }
 },
 "nbformat": 4,
 "nbformat_minor": 4
}
