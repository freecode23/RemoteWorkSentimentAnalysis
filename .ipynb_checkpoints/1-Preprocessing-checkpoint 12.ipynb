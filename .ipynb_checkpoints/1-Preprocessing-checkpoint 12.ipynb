{
 "cells": [
  {
   "cell_type": "markdown",
   "metadata": {},
   "source": [
    "# Remote work sentiment analysis \n",
    "# Preprocessing\n",
    "\n",
    "\n",
    "# Contents\n",
    "\n",
    "* [0. Resources](#0_Resources)\n",
    "* [1. Setup](#1_Setup)\n",
    "    * [1.1 Import](#1.1_Import)\n",
    "    * [1.2 Load Data](#1.2_Scrape_Data)\n",
    "* [2. Shape Data](#2_Shape_Data)\n",
    "    * [2.1 Remove non english tweets](#2.1_Remove_Non_English)\n",
    "    * [2.2 Remove hiring and ads tweets](#2.2_Remove_Hiring)\n",
    "    * [2.3 Remove username](#2.3_Remove_Username)\n",
    "* [3. Remove unwanted words and characters](#3_Remove_Unwanted)\n",
    "    * [3.1 Remove Http](#3.1_Remove_Http)\n",
    "    * [3.2 Remove Emoji](#3.2_Remove_Emoji)\n",
    "    * [3.3 Remove Mention](#3.3_Remove_Mention)\n",
    "    * [3.4 Remove Special Characters and Numbers](#3.4_Remove_Specials)\n",
    "* [4. Lemmatizing](#4_Lemmatizing)\n",
    "* [5. Remove Stopwords](#5_Remove_Stopwords)\n",
    "* [6. Remove Duplicates](#6_Remove_Duplicates)\n",
    "* [7. Save_Data](#7_Save_Data)\n",
    "* [8. Pipeline Functions](#8_Pipeline)\n",
    "    * [8.1 Remove Ending Hashtags](#8.1_Remove_Ending_Hashtags)\n",
    "    * [8.2 Split Hashtags Words](#8.2_Split_Hashtags_Words)\n",
    "    * [8.3 Remove Less Than 4](#8.3_Remove_Less_Than_4)\n"
   ]
  },
  {
   "cell_type": "markdown",
   "metadata": {},
   "source": [
    "# 0-Resources<a id='0_Resources'></a>"
   ]
  },
  {
   "cell_type": "markdown",
   "metadata": {},
   "source": [
    "github <br>\n",
    "https://github.com/mdipietro09/DataScience_ArtificialIntelligence_Utils/blob/master/natural_language_processing/example_text_classification.ipynb\n",
    "\n",
    "article 1<br>\n",
    "text analysis and feature engineering <br>\n",
    "https://towardsdatascience.com/text-analysis-feature-engineering-with-nlp-502d6ea9225d\n",
    "\n",
    "article 2<br>\n",
    "Text classification tdidf word2vec bert <br>\n",
    "https://towardsdatascience.com/text-classification-with-nlp-tf-idf-vs-word2vec-vs-bert-41ff868d1794\n",
    "\n",
    "article 3<br>\n",
    "BERT with no model training<br>\n",
    "https://towardsdatascience.com/text-classification-with-no-model-training-935fe0e42180\n",
    "\n",
    "\n",
    "**Topic Modelling**<br>\n",
    "LDA on trump tweets<br>\n",
    "https://medium.datadriveninvestor.com/trump-tweets-topic-modeling-using-latent-dirichlet-allocation-e4f93b90b6fe\n",
    "\n",
    "Bert keyword<br>\n",
    "https://towardsdatascience.com/keyword-extraction-with-bert-724efca412ea\n",
    "\n",
    "Bert topic<br>\n",
    "https://towardsdatascience.com/topic-modeling-with-bert-779f7db187e6"
   ]
  },
  {
   "cell_type": "markdown",
   "metadata": {},
   "source": [
    "# 1-Setup<a id='1_Setup'></a>"
   ]
  },
  {
   "cell_type": "markdown",
   "metadata": {},
   "source": [
    "## 1.1 Import<a id='1.1_Setup'></a>"
   ]
  },
  {
   "cell_type": "code",
   "execution_count": 1,
   "metadata": {},
   "outputs": [],
   "source": [
    "## for scraping\n",
    "import twint\n",
    "\n",
    "# Solve compatibility issues with notebook and RunTime errors\n",
    "import nest_asyncio\n",
    "nest_asyncio.apply()\n",
    "\n",
    "## for data\n",
    "import json\n",
    "import pandas as pd\n",
    "import numpy as np\n",
    "from sklearn import metrics, manifold\n",
    "\n",
    "## for pre-processing\n",
    "import re\n",
    "import nltk\n",
    "# nltk.download('wordnet')\n",
    "\n",
    "## for plotting\n",
    "import matplotlib.pyplot as plt\n",
    "import seaborn as sns\n",
    "\n",
    "## for language detection\n",
    "import langdetect\n",
    "import spacy\n",
    "from spacy_langdetect import LanguageDetector\n"
   ]
  },
  {
   "cell_type": "markdown",
   "metadata": {},
   "source": [
    "## 1.2 Scrape Data<a id='1.2_Scrape_Data'></a>"
   ]
  },
  {
   "cell_type": "code",
   "execution_count": null,
   "metadata": {
    "tags": []
   },
   "outputs": [
    {
     "name": "stdout",
     "output_type": "stream",
     "text": [
      "1392630666471297029 2021-05-13 06:59:59 +0700 <RecruiterDotCom> Recruiter .com's April 2021 recruiter index® has found that the demand for in-person jobs is outpacing that of remote work.   Hit the link below for the full Recruiter Index®.   https://t.co/vh2wufdTpO #recruiterindex #recruiters #recruitment #jobmarket #labormarket #hiringtrends\n",
      "1392630316494295042 2021-05-13 06:58:35 +0700 <rucsb> @TimSackett @lruettimann @FrankZupan @Lars +1. Real Estate Market would crash if there is no demand for commercial space.   Hybrid work / Remote work works . If we design for it. For decades, Office space worked as space to socialize with fellow human beings.\n",
      "1392630178359042054 2021-05-13 06:58:02 +0700 <ArneEkstrom1> Congratulations to Dr. Michael Starrett on successfully defending his dissertation!  Mike worked on everything from immersive VR with a treadmill to remote VR testing!  Great work Mike and looking forward to seeing what you do next with Dr. Liz Chrastil at UC Irvine!\n",
      "1392629498860826625 2021-05-13 06:55:20 +0700 <thirdnline> @AlvarezGibson Concur. My company was 100% \"you MUST work in the office\" and now they have said that is gone. More importantly many of our leaders have moved remote and we have hired remotely.  That is a genie that is REALLY hard to put back in the bottle.\n",
      "1392629417554284549 2021-05-13 06:55:01 +0700 <toofarnorth49> @mattreign Why not ask if we really need that thing? I think it would be fair that anyone that could work remote was privileged to do so, considering how many essential workers and small businesses got fucked over. Coming to to the office now feels like a teacher telling me to learn cursive\n",
      "1392629209269424128 2021-05-13 06:54:11 +0700 <uzomabenny> Dear Line Managers, Appraisal your subordinate based on their Job performance and not sentiment ,blood-line , religious group or tribe.  #HR #Career #peformanceappraisal #EmployeeExperience #remotework #employees\n",
      "1392628987835392001 2021-05-13 06:53:19 +0700 <LaPiezaio> ¿Quiere viajar y trabajar? Te contamos todo lo que tienes que saber para triunfar como #NómadaDigitale #RemoteWork🌎 ✈️   🗓️  miércoles, 19 de mayo 2021 a las 18:00 horas.  ✅ Regístrate aquí:  https://t.co/CY6aGxUJE2\n",
      "1392628793450319874 2021-05-13 06:52:32 +0700 <juliethrelkeld> @GlobeIdeas @JonLevyTLB I've had more opportunities to work cross-functionally and engage with company leadership in the past year than in the Before Times. Remote has flattened the org and led to better collaboration. But, sure, keep doing things the old way.\n",
      "1392628750475403267 2021-05-13 06:52:22 +0700 <docangelmtz1> Study reveals growing cybersecurity risks driven by remote work  #cyber #CyberSecurity #cybercrime #CyberAttack #cyberdefense  https://t.co/8QWdBG1mFU\n",
      "1392628596808712194 2021-05-13 06:51:45 +0700 <Diablerie617> @joeywreck I'm lucky, mine is moving to a hybrid model. Some work remote fully, some partial, some onsite normal.\n",
      "1392628404546162689 2021-05-13 06:51:00 +0700 <eclypsium> Shifting to a #remotework environment created challenges for many businesses &amp; government institutions. New tools allow you to gain visibility into #firmware vulnerabilities, #hardware misconfigurations, and other #cyberthreats. 👉  https://t.co/vFirFiQGl3 #firmsec #CyberSecurity  https://t.co/fhon6WXEza\n",
      "1392627869084393474 2021-05-13 06:48:52 +0700 <b_lamb21> Now hiring: devops engineers. I need 4 people for some big projects. Would prefer senior level but looking for specific skills in aws/azure so that can be flexible. Remote work if you want. (most of us are now anyway). #DevOps #NowHiring #tech #azure #AWS\n",
      "1392627813237366788 2021-05-13 06:48:39 +0700 <whfa_grow> Hi @usepixie are Hiring Remote!  (Anywhere 100% Remote)  👉 Product Designer  Apply now 👇 #remotejob #hiring #design   https://t.co/7mdXI0v82K\n",
      "1392627694404182020 2021-05-13 06:48:10 +0700 <chatterdigital> @heybereket  https://t.co/ynwfexrjuI - professionals from a range of industries who now specialise in SMM/SEO and embrace remote work!\n",
      "1392627668248522752 2021-05-13 06:48:04 +0700 <Archytas79> Last day of my temp job today - going to try to go remote/freelance, or get some of my personal projects off the ground instead of doing in-person fulltime positions. I worked 8h/5d then came home and worked 3h/4d. I've been feeling like I need more time to work on my projects.\n",
      "1392627496689012738 2021-05-13 06:47:23 +0700 <ChristalKeel> @JoelGratcyk I feel your pain.   I was looking for a new position recently. I had one company change their minds about remote work after three interviews and a formal offer. They decided at the last minute that they  wanting two days a week onsite. They were in Atlanta.  Me? Baltimore.  https://t.co/MmMSzNpUNI\n",
      "1392627415160168456 2021-05-13 06:47:04 +0700 <sgrowthguide> Learn the top business functions to outsource for your startup to boost growth and increase the longevity of your business in this latest post on the blog.  #outsourcing #businessgrowth #startupgrowth #remotework  https://t.co/az4YzIC4ho\n",
      "1392627192723558404 2021-05-13 06:46:11 +0700 <Visions2030_> We’re #hiring a P/T In House #Editor! Come work with us and dream forward positive futures! #job #freelance #remotework @WritersofColor    https://t.co/m2JTEpMIxo\n",
      "1392626911516446723 2021-05-13 06:45:04 +0700 <LeadingRemotely> There's a principle at work in Yelp and other online reviews that can inform remote leaders about how to deliver feedback more effectively. Read more:  https://t.co/uJYZOJT88M  https://t.co/lgHkhqdDNo\n",
      "1392626493302349824 2021-05-13 06:43:24 +0700 <bpptwiter> belajar belajar untuk melakukan remote code execution, work from home, work from anywhere in the world. jadi bisa remote dari mana aja. bisa reporting dari mana saja. dan bisa otomatisasi. bisa problem solving secara remote.\n",
      "1392626382040150019 2021-05-13 06:42:57 +0700 <CadientTalent> Although #remotework is here to stay, the ability to review I-9 documents remotely will end at some point. How will this affect your operations?   https://t.co/rXFDLpBoRG by @hrdive #HR #HRIssues #Compliance\n",
      "1392626061217656835 2021-05-13 06:41:41 +0700 <MojoJojoJoestar> @brausblood Wrapping-up remote work for the day... just gonna unwind later bc this week has been a lot lol\n",
      "1392625778857283585 2021-05-13 06:40:34 +0700 <EvanKirstel> 🤔Mmmmm @DaveMichels @chris_herd &gt; #WeWork CEO: 'Least Engaged' Workers Comfortable #WorkingFromHome  https://t.co/iDm2yH05fv #remotework #RemoteChat\n",
      "1392625739405660165 2021-05-13 06:40:24 +0700 <theindexseries> I’m pretty sure I’m jinxing it, but for the first time since the start of my industry’s busy season, my work inbox is empty, and my project list is down to five.   It’s the best I’ve ever done. In my entire career.   And yes, it’s largely in part because I’m 100% remote. #WFH.\n",
      "1392625715799990276 2021-05-13 06:40:19 +0700 <JobTripper> 😲Green Man Gaming are on the lookout for an EVP Performance Marketing  Fully remote! Based in 🇬🇧 UK   https://t.co/aNRXbQt8T6  #remote #job #remotework\n",
      "1392625447683248133 2021-05-13 06:39:15 +0700 <DonPadget> @RogerJBaker @HarrySawchuk housework if you live in a house. for some more remote, cabin fever work. if feeling sick, feverish cabin work. home office work anyone?\n",
      "1392625425571098637 2021-05-13 06:39:09 +0700 <youdoingtoomuch> @Isobelstormborn Yup. And seeing an article yesterday trying to frame it as a social interaction like ppl don’t have friends outside work and do volunteer work if they need community. Not everyone wants to befriend ppl they work with outside work lol. Plus remote work allows for travel.\n",
      "1392625309699112962 2021-05-13 06:38:42 +0700 <mango8679> @stenar That's why I'm keeping this remote job for the foreseeable future, haha. Same reason. Perfect plan, then! And if you want to own property in any of those places, just work from home and get a long-term visa and stay there long enough to gain citizenship (5-9 years depending)!\n",
      "1392625135551533061 2021-05-13 06:38:00 +0700 <IssquaredInc> It’s time for transition: How Microsoft Teams is better than Skype for Business? Learn more @  https://t.co/59Q4IAOtyD #meetings #microsoftteams #communication #remotework #workspace #features #remoteworkforce #communications #telecommunications #ISSQUARED  https://t.co/xmL7M975be\n",
      "1392624893464915970 2021-05-13 06:37:02 +0700 <KarinBellantoni> It is important for leaders to see the changes brought in by remote work as opportunities and not obstacles, and make their organization better than before through various facets of the remote culture.  https://t.co/0XGA7iRUmh  https://t.co/NucU2elQwE\n",
      "1392624772211634176 2021-05-13 06:36:34 +0700 <remotework_tix> @sugi_3104 かきのふらいなら・・・\n",
      "1392624742180347904 2021-05-13 06:36:26 +0700 <seokjinsjellie> I’m almost done w my first day of work y’all🥺 thank god i started when it’s still remote so I can scroll through stan twit to calm my anxiety as needed😭\n",
      "1392624288834916352 2021-05-13 06:34:38 +0700 <sleepscribbles> @ika_himee right!! another company i worked at did this to me as well, but they let me work there for 5 years until i came out as nb. this ones a remote job, so they don't know what i look like. but nikita is my real legal birth name &amp; i've definitely been given shit about it before\n",
      "1392624246225088512 2021-05-13 06:34:28 +0700 <paper_gs> In other words, of the Ss who requested to stay remote, nearly all of them show up (remotely) each day. Of those who requested in-person about half do. Why? Anecdotally, it’s work and childcare. They have the intention of returning (many made no progress remote) but then... 2/\n",
      "1392623767537418240 2021-05-13 06:32:34 +0700 <S_J_Lock> @si_mcav @__mns_____ @AcademicChatter I think the key, as with everything else, is to find a good PI. Someone you work well with and makes an effort to get and keep you involved as a remote worker. Post pandemic at least there will be plenty of people who can give advice on what it is like to work with a PI remotely!\n",
      "1392623499177390082 2021-05-13 06:31:30 +0700 <jspiro> This weird trick reduces the stress level of remote work (Slack admins hate this!). Try it tonight!  Set your Mention Badge theme color to the same as the background to generally reduce your stress level for unfinishable tasks, and elimitate the dopamine hit of clearing unreads.  https://t.co/hr0TjifIpv\n",
      "1392623121786605568 2021-05-13 06:30:00 +0700 <BrightfulHQ> What pre-pandemic job trends suggest about the post-pandemic future of the capital region @BrookingsInst -  https://t.co/HWdE6fcweq #remotework #remoteworking #remotejobs\n",
      "1392622907570802690 2021-05-13 06:29:09 +0700 <nosmall_feat> Happy belated Mother's Day hustlers! We see you making it work and continuing to hustle 💪  #MothersDay #RemoteWork  https://t.co/Uphxz1m9Gg\n",
      "1392622676137562115 2021-05-13 06:28:14 +0700 <incluzion> ⭐New Remote Job on Incluzion -👩🏾‍💻- Partner Success Manager⭐: 🏢Company Name: Mediavine | 🚀Job Type: All Others | 🌎Hiring From: US Only | 💰Salary: 60000-65000  https://t.co/mcDveMvAOe #remotework #remotejobs #wfh\n",
      "1392622672278810627 2021-05-13 06:28:13 +0700 <incluzion> ⭐New Remote Job on Incluzion -👩🏾‍💻- Junior Advertising Operations Specialist⭐: 🏢Company Name: Mediavine | 🚀Job Type: All Others | 🌎Hiring From: US Only | 💰Salary: 40000  https://t.co/rdRBGWmoeF #remotework #remotejobs #wfh\n",
      "1392622664397639682 2021-05-13 06:28:11 +0700 <incluzion> ⭐New Remote Job on Incluzion -👩🏾‍💻- Senior Ruby on Rails Engineer⭐: 🏢Company Name: Mediavine | 🚀Job Type: Software Development | 🌎Hiring From: US Only | 💰Salary: 125000 - 140000  https://t.co/ppsKhmky5s #remotework #remotejobs #wfh\n",
      "1392622422059323402 2021-05-13 06:27:13 +0700 <Wangchomper5000> @toekneema I wonder that too, but I don't think remote work has diminished the value of physical hubs as some people may suggest\n",
      "1392621986023624708 2021-05-13 06:25:29 +0700 <PureQuestioner> @bbbozzz @mattyglesias Agreed.  It is also where the people *will* live.  HSR makes many smaller cities and regions accessible which makes them viable for business, remote work, and living.  It might even alleviate the eastern corridor congestion.  Infrastructure has to be forward-looking.\n",
      "1392621956642459652 2021-05-13 06:25:22 +0700 <staceyepstein> Doing a lot of candidate interviews these days. Literally every time I ask why someone is leaving their current role, it's due to lack of confidence in their leadership. Everyone is debating hybrid, in-person, or remote, but the most important aspect of a job is who you work for.\n",
      "1392621926561075203 2021-05-13 06:25:15 +0700 <RodiBrown> I’ll watch dubs if I have to multitask because I’m obviously not fluent in Japanese. Today, I’ve had it on while doing my remote work and it’s just 💀.\n",
      "1392621870080565250 2021-05-13 06:25:02 +0700 <hotwireglobal> Cloud giants reported blockbuster earnings, highlighting  the impact remote work has had on cloud usage. @rosaliechan17 shares how this #digitaltransformation is here to stay in her @BusinessInsider article:  https://t.co/GRT0VdUQAL\n",
      "1392621713762963460 2021-05-13 06:24:24 +0700 <NellaSchh> So weird how we all decided to never replace the batteries in the air conditioner remote and instead beat the sh*t out of it to make it work forever.\n",
      "1392621438444638210 2021-05-13 06:23:19 +0700 <ronia422> Just wanted to put it out into the web-verse that I'm currently looking for remote employment as a Graphic Designer. If anyone knows of any positions, dm me! My website has examples of my work and \"about me\" stuff. Just putting my feelers out, thanks y'all  https://t.co/wonewCaG9K\n",
      "1392621373315420167 2021-05-13 06:23:03 +0700 <sullivan_pat13> For a #publicservice agency like Montgomery County Domestic Relations, the shift to #remotework was unprecedented. But thanks to #VDI and laptops, child support services continued uninterrupted. @StateTech #virtualization #cdwsocial  https://t.co/cucEsAPn6e  https://t.co/d7pk9f3aLx\n",
      "1392621366604668929 2021-05-13 06:23:02 +0700 <golangprojects> .@ExperientGroup is hiring: #Golang Developer #RemoteWork #Atlanta #GA 🇺🇸 #job #docker #remotejob  https://t.co/Yv4v1vkPdf\n",
      "1392621330172764162 2021-05-13 06:22:53 +0700 <Arborland92833> Well done remote students! 👏 We are so proud of you and all of your hard work. Thank you to everyone who tuned in to support our Remote Elementary Spring Recital! #ArborlandMontessori #Montessori #RemoteLearning  https://t.co/iYoTf3MxqS\n",
      "1392621197678895107 2021-05-13 06:22:21 +0700 <andrewljudson> @Tocelot Companies will either need to gravitate to in person (can be distributed in multiple offices) or completely remote ala Gitlab. In Gitlab's remote work manifesto they rail on hybrid being a bad solution, and this rings true with many people I have spoken with.\n",
      "1392621111939145732 2021-05-13 06:22:01 +0700 <daily_remote> 👋 Blacksmith Agency is hiring remotely for a Front-End WordPress Web Developer.          #RemoteJob #RemoteWork  #FrontendDeveloper      Apply now! 👇      https://t.co/zJcdpqxqxd\n",
      "1392621037649596428 2021-05-13 06:21:43 +0700 <TongSystems> Stay connected with your team as you work! To learn more about @Microsoft Teams for remote work, subscribe now.  https://t.co/azxyjkQYkM\n",
      "1392621035980271617 2021-05-13 06:21:43 +0700 <Monitoring_Labs> Stay connected with your team as you work! To learn more about @Microsoft Teams for remote work, subscribe now.  https://t.co/xxWhTcf9Sr\n",
      "1392620989427630080 2021-05-13 06:21:32 +0700 <angrybklynmom> @NikHamilton @JustinBrannan @PekingMike @Reader_LK @Sen_Gounardes And if the DOE had an ounce of wisdom, they would work with NYS &amp; make remote a centralized offering for the entire state.  Taxpayers shouldn't be forced to fund a completely inappropriate educational format that takes away from actual in-person learning.\n",
      "1392620228983537665 2021-05-13 06:18:30 +0700 <angrybklynmom> @NikHamilton @JustinBrannan @PekingMike @Reader_LK @Sen_Gounardes Exactly. It is far worse that we don't have a plan right now than it was last year!  A decision must be made right now about what the remote learning offering will look like in September, and work backward from there.\n",
      "1392620105830334467 2021-05-13 06:18:01 +0700 <Data3Limited> Having trouble with remote teams and poor internet connections? The LTE powered #SurfacePro 7+ could be the solution.  For insights into how it can help empower your team to work more effectively from home or on-the-go, read our blog here:  https://t.co/xWqCxv7ntj  https://t.co/Q1Ii2c4ldo\n",
      "1392619436365041664 2021-05-13 06:15:21 +0700 <BabyBoomerWritr> @CMichaelGibson It already is, for many tech companies. Several told their employees that remote work will be embraced, &amp; teams will rotate into the office as needed. Flexibility is very attractive for work that can be done online.\n",
      "1392619366458474501 2021-05-13 06:15:05 +0700 <BluntWealthSrvc> Remote work has had many impacts on our day-to-day life, but also the housing market. Read more.  https://t.co/70PE0mx2KM\n",
      "1392619359777050628 2021-05-13 06:15:03 +0700 <CatonsvilleTms> One surprise of the pandemic is how it demonstrated the effectiveness of remote work, which has opened markets to wider areas. That’s benefited some Black women in Maryland, who have been able to secure jobs from areas offering higher salaries.  https://t.co/5D5osZYzeY\n",
      "1392619359147855873 2021-05-13 06:15:03 +0700 <TowsonTimes> One surprise of the pandemic is how it demonstrated the effectiveness of remote work, which has opened markets to wider areas. That’s benefited some Black women in Maryland, who have been able to secure jobs from areas offering higher salaries.  https://t.co/pe8TPmhdfw\n",
      "1392619302763728899 2021-05-13 06:14:50 +0700 <RenodoRandy> @chris_herd On the money. They meet up in the lobby to go to lunch and then return to their separate floors after.  The same will be done with remote work.\n",
      "1392619273055608839 2021-05-13 06:14:42 +0700 <chrisgoosman> @madebyporter @lindytx21 @WSJ Bring back offices with doors, and I might be slightly more excited to go back to the office. But if it’s still an “open plan office” I’ll stick to remote work.\n",
      "1392619211000885248 2021-05-13 06:14:28 +0700 <petitepatti> @GlobeIdeas I work for a company, that had remote work, before the pandemic.  Employees split time in office and remote work.   Now we're all remote, but that will change back to the hybrid remote/office.\n",
      "1392619158626516992 2021-05-13 06:14:15 +0700 <joecacola> @gplewis Even if that's true (again, I disagree) there is a huge difference between \"hard + a payoff\" and \"hard for essentially no reason at all\" The latter is what you experienced, because there are plenty of other social teams that were paid more to work less hours who did better work!\n",
      "1392619146316288001 2021-05-13 06:14:12 +0700 <trumwill> @Motoconomist @RTodKelly He does but the arrangements with his office space look more like remote work than in-person, from an employer's perspective. (At lest th ebusiness model as I understand it.)\n",
      "1392618773547528208 2021-05-13 06:12:43 +0700 <SemiFeralFeline> @corncommunist The company I work for claims that innovation happens with incidental interactions. Ok, sure. Because a few product ideas came out of folks chatting in hallways, having people remote means they'll lose out on those ideas. Like people can't chat via Teams/Zoom/Slack/etc. Dumb.\n",
      "1392618746452262917 2021-05-13 06:12:37 +0700 <rstricks> Stay connected while working apart with @Microsoft Teams. Read this article to empower your remote work and contact Data Outsource to get started today!  https://t.co/1BZi6UDlE1\n",
      "1392618732946698245 2021-05-13 06:12:34 +0700 <johnnyrsm_tw> If anyone out there is looking for remote work check out  https://t.co/blZzmj3Wjw\n",
      "1392618232914210819 2021-05-13 06:10:34 +0700 <chriskoehn> @itsjemjam @JoshWComeau Glad you exposed me to this. What bizarre arguments to bring forth against remote work from the Boston Globe.\n",
      "1392618231794475017 2021-05-13 06:10:34 +0700 <itsaTravelOD> I have a course to help people find their first remote job, and my students are proving that anyone can land remote jobs— no matter their age.  I’ve officially had a 20-year old &amp; a 50-year old land their first job!\n",
      "1392618178459672580 2021-05-13 06:10:21 +0700 <itsaTravelOD> @christianacici Same\n",
      "1392618096419028994 2021-05-13 06:10:02 +0700 <wrkfrce> We’ve compiled 6 essential questions great managers should be asking their remote employees.  #remotework #futureofwork #management #leadership #hr     https://t.co/8eWqAdn8to\n",
      "1392618093378158593 2021-05-13 06:10:01 +0700 <Betterworks> Five ways the COVID-19 crisis will transform HR’s role:  1. Remote work will be a permanent feature for more orgs. 2. Nurturing culture will be more challenging.  Can you guess the other 3?!  https://t.co/r1vI8FgMSR\n",
      "1392617905775390723 2021-05-13 06:09:16 +0700 <JobHookup4U> Senior Site Reliability Engineer - Toronto/Perm (remote start) - join Innovation Team/Enterprise client. Work w 4 pilot SRE teams to automate, improve practices &amp; build tools. Python, Go, Openshift &amp; Kubernetes #SRE #sitereliabilityengineer #devops #openshift #python #kubernetes\n",
      "1392617707317563392 2021-05-13 06:08:29 +0700 <peterkemplawyer> @c28why Of course we do need a grid for national energy security purposes, but microgrids are often appropriate in rural &amp; remote areas. The grid needs to accommodate EVs &amp; that will be a two way street as well. My beef is with grid owners &amp; generators who have gouged &amp; plan to continue.\n",
      "1392617700053164038 2021-05-13 06:08:27 +0700 <Yax> Oh, well thank fucking god we got some chode nose citing a study from the 1970s to tell us how remote work is going to happen in the 2020s.\n",
      "1392617530968133636 2021-05-13 06:07:47 +0700 <solutions_covid> @RonaldNHughes And here's the thing, if they provide the remote option for those families that can work from home and/or have older kids, and encourage/require them to use it, then the kids in need can attend with far greater spacing...\n",
      "1392617345017843714 2021-05-13 06:07:03 +0700 <LevitheWilson> @WeWork Remote work from home will be the way forward lol\n",
      "1392617233063587844 2021-05-13 06:06:36 +0700 <CheriHusney> .@Littler Survey: Employees Want Remote and Hybrid Work More Than Employers Do #emplaw  https://t.co/sBH2Gusa0g\n",
      "1392616945418215434 2021-05-13 06:05:28 +0700 <MoondanceGiving> @acnewsitics Hybrid here and remote work = Barely need gas!\n",
      "1392616896428711941 2021-05-13 06:05:16 +0700 <RJSWriter> I'm watching these articles about how we're all going back to the office forever with bemusement. More than half of the new hiring we did this year was remote. Since we don't have an office at all right now, we are free to select what will actually work for the teams.\n",
      "1392616842523467781 2021-05-13 06:05:03 +0700 <BaltCoSun> One surprise of the pandemic is how it demonstrated the effectiveness of remote work, which has opened markets to wider areas. That’s benefited some Black women in Maryland, who have been able to secure jobs from areas offering higher salaries.  https://t.co/CiOVshAkRc\n",
      "1392616730518818817 2021-05-13 06:04:36 +0700 <draperandkramer> More than ever, renters are carefully examining the work-related amenities offered at multifamily communities before signing a lease. Our #insight this week features what remote workers seek from their apartment buildings.  https://t.co/BsGEzKJ1XG\n",
      "1392616698180628480 2021-05-13 06:04:29 +0700 <Aitch_El> @RedFiddler Re pre-paid phone, work out first what coverage you need. If you’re often in rural and remote areas you may have little choice but Telstra. I was happily on 3G Virgin (Optus network) until I moved to where only service is 4G Telstra. I hear good reports of Aldi (Optus n’work).\n",
      "1392616204146147329 2021-05-13 06:02:31 +0700 <DanielBustDavil> @violentkim66 @SNKPofficial @snk_oda @snk_oda I'm doing ur job and giving u western market insight. U should hire me for remote work of concept and storytelling.\n",
      "1392616052484296705 2021-05-13 06:01:55 +0700 <DrJaredWesley> Parents remote-teaching their younger children while trying to work: I see you. I hear you. I feel you.  https://t.co/PEcQHI778O\n",
      "1392616029835169793 2021-05-13 06:01:49 +0700 <_vividreams> Like I'm looking for remote work when I leave this place, deadass\n",
      "1392615830773407749 2021-05-13 06:01:02 +0700 <ajblain> WeWork’s CEO is clearly an absolute numbskull. In the short term WeWork loses a lot from remote working, but that is forced remote working in a pandemic. When organizations shift to work from where you’d rather be, WeWork *could* help service a massive emerging need.\n",
      "1392615723554545671 2021-05-13 06:00:36 +0700 <RemotePRJobs> .@BeMo_AC is looking for a #SocialMediaAssistant to assist the content team to build social media presence, monitor social media channels, and proof-read blog content.     #RemoteWork #PRJobs #CommsJobs  https://t.co/g6cRoKYcNL\n",
      "1392615674342780930 2021-05-13 06:00:24 +0700 <DOTGraphics2> Looking for ways to help employees feel appreciated during this time of remote work? Here are some ways you can create a \"Work From Home\" package to create that feeling of appreciation.   Learn more:  https://t.co/Z9N4dKasrm  #customprinting #printshop #workfromhome  https://t.co/ur2Z94LPWH\n",
      "1392615669032685584 2021-05-13 06:00:23 +0700 <DavidAcer4> @AkwyZ economics theory. taking a break. remote work. obstacles, things that don't work. critics; people who talk and judge. rich people want the rest of us to serve them. do it yourself  https://t.co/fGDUlpIRtA\n",
      "1392615633892872201 2021-05-13 06:00:15 +0700 <nodeskco> .@gremlininc is hiring remote!  Gremlin's got an exciting opportunity for a Senior Product Manager to join their talented team.  Apply now 👇  https://t.co/yj90VTSalF #remotework #remotejobs\n",
      "1392615579052388353 2021-05-13 06:00:02 +0700 <boardspaceBILL> I love jumping into video conferences. @patcrosscombe #bosspat would never invite me to join one, so I just pop into them unexpected. Why wait for an invitation when it is never coming?   #unicornmascots #videoconference #meeting #remotework #VideoConferencing  https://t.co/tmjns1q2Rs\n",
      "1392615579035475968 2021-05-13 06:00:02 +0700 <SARRAHealth> NOW OPEN: SARRAH Student Ambassador Program. Ambassadors will harness their connections and networks to advocate for rural and remote allied health professionals and influence SARRAH's work by providing their thoughts. Apply here:  https://t.co/6pZv7S3brP  https://t.co/mkcp6Mh5Jx\n",
      "1392615573717065729 2021-05-13 06:00:00 +0700 <THANKSBLOCK> Easily convert your $5 product into a $25+ gift kit // MAKE IT GIFTABLE // #workfromhome #remotework #affiliatemarketing // Powered by #THANKSBLOCK to help empower #Diversity...\n",
      "1392615572936921092 2021-05-13 06:00:00 +0700 <BrightfulHQ> The 10 Best Remote Career Fields For New College Grads @Forbes -   https://t.co/Eyg5QE0knu #remotework #remoteworking #remotejobs\n",
      "1392615154160910340 2021-05-13 05:58:20 +0700 <remoteworkhub> Web Designer &amp; Front End Developer at MedPB, LLC (Remote Job)  https://t.co/9M0Z4BvfaQ #remotework #remotejob #digitalnomad\n",
      "1392615084296388617 2021-05-13 05:58:04 +0700 <joecacola> @gplewis That year I accepted a social role that started at $36k in LA — but I didn't work weekends and had an insane amount of holidays. LA was a far cheaper city in 2013 than New York was too.\n",
      "1392614847209250819 2021-05-13 05:57:07 +0700 <joecacola> @gplewis I can't tell if you're joking — you do realize that being paid $32.5k in New York in 2013 to do full-time social media work was horrific, right? Especially from what I recall of the hours that Vayner demanded.\n",
      "1392614712798584834 2021-05-13 05:56:35 +0700 <jonathan_buckle> Can your network support secure remote and in-office work simultaneously? Read an #eBook to learn why this will be a necessitating factor for attracting talent, and about the technology you should consider as you retool your legacy network for #hybridwork  https://t.co/R3cHqTO3xj  https://t.co/bLyTFHXpDZ\n",
      "1392614571265990656 2021-05-13 05:56:01 +0700 <aletiam> [#Government #Workforce Blog Post] “Putting Work into Defining the Government Workforce”  We started with 9-5 at the office, then full-time #remotework, &amp; now we transition into a #hybrid workforce. What does the #FutureofWork look like?   https://t.co/owq0A5MG4C #GovEventsBlog  https://t.co/co7r0z3zNE\n",
      "1392614389853802496 2021-05-13 05:55:18 +0700 <JobTripper> 🌍AssistRx are hiring an Application System Administrator ( Pharmacy Software / PDX )  Fully remote! Based in 🇺🇸 US   https://t.co/ELd2pla2dN  #SQL #remote #job #remotework\n",
      "1392614210614534145 2021-05-13 05:54:35 +0700 <ksvassistantuk> Just Pinned to Homebased Work: How to Find Jobs That are Looking For Remote Employees  https://t.co/mn05Uqh1Pn  https://t.co/UBasDj3Ccs\n",
      "1392613856544018433 2021-05-13 05:53:11 +0700 <happyinspirit> Are we sure these hackers were Russian? Plenty of American hackers meant it when they said they wanted to continue to work remote. 🤣  https://t.co/ZUx2vXRSeC\n",
      "1392613837770272775 2021-05-13 05:53:07 +0700 <SCWIST> Applications are due May 15th for our #Quebec Coordinator position!  Apply now for remote, flexible, part-time work that will make a difference for girls interest in #STEM careers.  https://t.co/mLzBYvN4Jb\n",
      "1392613726134669315 2021-05-13 05:52:40 +0700 <Imani_Barbarin> Remote working concerns me, but not for the reason you think.   I’m worried employers will take even more liberties with their employees and their time using work from home as a veil.   It needs to continue because of accessibility, but every worker who does so should have\n",
      "1392613691732996098 2021-05-13 05:52:32 +0700 <AnnieW> I’ve been doing some work on a Netflix show lately and they are looking for storyboard people. Remote!  https://t.co/zkuSO4j9pH It’s a dark comedy and the art direction is very cool.\n",
      "1392613298223337477 2021-05-13 05:50:58 +0700 <MeanieMouse_> @ForeverToxiic @slayyyyerr Remote! I work from home in my pajamas.\n",
      "1392613190773657601 2021-05-13 05:50:32 +0700 <LeilaniDash_HR> Remote work doesn't work for all industries, but does work in many.  The pandemic forced a lot of companies to try it. Some kept it, others are reverting back-- it's such a great benefit to offer, and some studies say it leads to increased productivity and retention. #remotework\n",
      "1392613159542927362 2021-05-13 05:50:25 +0700 <DFrankenstein90> @SwiftOnSecurity I want a fully-hybrid model where offices are still open, yet you can work anywhere you want. That's actually how my employer operated pre-pandemic, and the office was still full. Unfortunately, they're signaling they want to move to “mostly-remote” post-pandemic.\n",
      "1392612967078760453 2021-05-13 05:49:39 +0700 <deathsocks> Do I want to connect my motherboards RGB lighting controller to my work remote desktop session? I'd say so, I'd say so.\n",
      "1392612638752870401 2021-05-13 05:48:21 +0700 <LoveChaosLife> 6/ Is it possible to abuse FT WFH? Yes.   Is managing a team, building trust, and being productive with remote teams easy? No. It's really REALLY hard.   Do I think it is productive and highly beneficial for teams to meet and work in person? Yes.\n",
      "1392612561657401347 2021-05-13 05:48:02 +0700 <OpportunityRus> 5 Signs Your Company Hasn't Adjusted to Remote Work Culture #entrepreneur #business  https://t.co/HMOagj96Qh\n",
      "1392612477419106306 2021-05-13 05:47:42 +0700 <weworkremotely> 🌏 New Remote Job! Trail of Bits: Cryptography Analyst   https://t.co/nhVzWrumEi #remotework\n",
      "1392612472427847682 2021-05-13 05:47:41 +0700 <weworkremotely> 🌏 New Remote Job! Trail of Bits: Blockchain Security Analyst   https://t.co/P79f9znvMH #remotework\n",
      "1392612313937678338 2021-05-13 05:47:03 +0700 <remotecircle> New Remote Job! Trail of Bits: Cryptography Analyst   https://t.co/8aTGlvjiDc  #remotework #weworkremotely\n",
      "1392612309776965637 2021-05-13 05:47:02 +0700 <remotecircle> New Remote Job! Trail of Bits: Blockchain Security Analyst   https://t.co/TgmysAes9D  #remotework #weworkremotely\n",
      "1392612062296256514 2021-05-13 05:46:03 +0700 <hidama> I refute the lame WSJ with this study:  “Remote employees were 18% more likely than in-office workers to say they enjoyed the freedom and flexibility of their work, satisfaction with their work environment (14%) &amp; happiness with their work situation (10%)”  https://t.co/SkakesUKrS\n",
      "1392611835803840513 2021-05-13 05:45:09 +0700 <WanderingMindSR> Any piece that tries to say why we should ditch remote work and move towards office again probably don't care about the disabled and neurodivergent\n",
      "1392611830267269120 2021-05-13 05:45:08 +0700 <remotejobmarket> New Remote Job 'Integrations Product Manager (Remote- Eastern Region)'. More Details on  https://t.co/pc3gCrjEmE #remotework #remotejobmarket #remotejob #fullremote\n",
      "1392611806313582593 2021-05-13 05:45:02 +0700 <gulfladee> The future of work will include hybrid strategies for global enterprises. Research in ComputerWeekly breaks down why #remotework in Europe is driving increased #IT budgets. Learn more on the findings here:  https://t.co/Xr1yhGRBPF  https://t.co/6FfqLYsS9z\n",
      "1392611718912745473 2021-05-13 05:44:41 +0700 <MizThatch> co-worker, who also does work that can be done 100% remotely. Our office of ~ 20 nurses have not been remote for one single day of COVID. Does my employer donate to Whitmer?  2/2 @mlive @MidmichiganW @BridgeMichigan @GLNnews  Why was the stay at home order not uniformly applied?\n",
      "1392611520106860545 2021-05-13 05:43:54 +0700 <seantully> @ActNormalOrElse I’ve written like 250 poems since we went to remote work. I would have probably written 5 if not lol\n",
      "1392611445691408385 2021-05-13 05:43:36 +0700 <MoonPalaceMedia> Looking for remote work as an assistant or reader. I am tech-savvy and a fast worker with a large portfolio of writing projects in diverse genres.  #HBO #ImagineImpact #ScriptPipeline #Rocliffe #WarnerMedia #ABCDisney #Netflix\n",
      "1392611050470658051 2021-05-13 05:42:02 +0700 <WeAreIpower> How to deal with remote working problem? - 81 percent of remote professionals have experienced workplace conflict.  - 46 percent use a work messaging app for their arguments.   #futureofwork #innovation #ipowerpartner #managementconsulting #HumanResources   https://t.co/AnM6CLvCD0  https://t.co/9zx5uFy10Y\n",
      "1392610977393389575 2021-05-13 05:41:45 +0700 <joshphp> @JWLevitt Lol I’m sayin. I was planning on moving 2k miles away and working remote, then this all happened and further cemented remote as the right choice for me to help attain goals/dreams outside work\n",
      "1392610865153675264 2021-05-13 05:41:18 +0700 <Rockjaw> Come work with me. Remote fine, Bay Area better, but we're flexible. Please only apply if you have real, demonstrable experience in gaming community roles. RTs appreciated. 6mth contract with possibility to extend.  #gamingjobs #cmgr #gamesjobs   https://t.co/44hOm16GPB\n",
      "1392610552535453698 2021-05-13 05:40:03 +0700 <fintech_matt> Study reveals growing #cybersecurity #risks driven by #remotework Report shows that changing #work styles and behaviors are creating new #vulnerabilities for companies, individuals, and their data.  #workfromhome #insiderthreats #cyberrisk #cyberthreat   https://t.co/uFEhOVCe6L  https://t.co/AXPIymmpRq\n",
      "1392610491692900357 2021-05-13 05:39:49 +0700 <weworkremotely> New Remote Job! creable: Senior Node.js Developer   https://t.co/gNxj4ZxoMl #remotework\n",
      "1392610307697221639 2021-05-13 05:39:05 +0700 <asidesart> Hearing my wife’s office wants to go back in person in a month after being remote is fucking wild. Higher ups don’t give a rats ass that people would rather work from home.\n",
      "1392610291377217540 2021-05-13 05:39:01 +0700 <VectorMarketing> Way to go! @UofSouthAlabama student Ch'kalaa Montgomery from our Mobile office is officially a Sales Rep! #SouthAlabama @usacareersvcs  #RemoteWork #VectorSummer #PartTimework  https://t.co/tfg9SItCdn\n",
      "1392610288881520640 2021-05-13 05:39:00 +0700 <HeidlageJJ> @velvetrevulva88 Work places should provide universal power supplies for remote workers.\n",
      "1392610068856664065 2021-05-13 05:38:08 +0700 <roxanneskelly> Remote work is great.  Safe commute.  Disability-friendly.  Level playing field with those who get their way by being physically imposing or 'in your face.'  Text-based discussions can be referenced later.\n",
      "1392609896835821569 2021-05-13 05:37:27 +0700 <SageVals> @JamesMelville @thedoctorxxx Agree. Many people can't access to services this way. And I don't just mean the elderly and others without the Tec. Remote methods of communication just don't work for many people, and certain diagnostic methods can't be done remotely.\n",
      "1392609063901581320 2021-05-13 05:34:08 +0700 <Continuum28> @peachboyfelix The school that I work at bought a ton of these for their teachers to use for remote teaching. An absolute godsend for the math teachers.\n",
      "1392609042023944192 2021-05-13 05:34:03 +0700 <wilfriedessing> The new normal of work has become the next normal of #RemoteWork, #learning, and resilience. @jcmeister examines 10 emerging trends for #HR to watch for in @Forbes. #FutureofWork #FlexibleWorking  https://t.co/YCWE6t0b5x  https://t.co/Ym2SaixtJM\n",
      "1392608715384135683 2021-05-13 05:32:45 +0700 <okeefe_artist> @Partiallyfrozen Nice. I’ve never been, but am heading to remote work in Asheville in June\n",
      "1392608581325832198 2021-05-13 05:32:13 +0700 <WinconSecurity> A new @proofpoint report confirms what many industry analysts have warned about widespread online vulnerabilities: 63% of Canadian businesses say they've seen an increase in cyber attacks since moving to a remote work arrangement during the #COVID19 crisis.  https://t.co/7Cr7YfjuUw\n",
      "1392608481480515584 2021-05-13 05:31:50 +0700 <Suvoozit> Do seasonal variations impact the model-based prediction process for GPP and net-photosynthesis?  How does it work in tropical sub-humid ecosystems? Check out our new publication in the Journal of Applied Remote Sensing? #remotesensing #Photosynthesis   https://t.co/q3TLvm7y6X\n",
      "1392608310881251330 2021-05-13 05:31:09 +0700 <bubbbleboi> @morgan_krakow @adndotcom Me! But prompted by my partner getting an internship here. COVID/the move to remote work allowed me to come with without issue\n",
      "1392608256799956995 2021-05-13 05:30:56 +0700 <Partiallyfrozen> @okeefe_artist Going to remote work from Southern Shores.\n",
      "1392608069373337604 2021-05-13 05:30:11 +0700 <TeamCoachingInt> Amid the #COVID19 outbreak, the challenges of #RemoteWork are many and #TeamCoaching hase become more important than ever. In this post, our co-founder Phil Sandahl looks at the many challenges found in coaching #VirtualTeams and how best to address them:  https://t.co/7gw3U9H2Ua\n",
      "1392608023315501060 2021-05-13 05:30:00 +0700 <BrightfulHQ> Why Some Families Still Prefer Remote School @nytimes  https://t.co/9yzjhtPWVw #remotework #remoteworking #remotejobs\n",
      "1392608022094962689 2021-05-13 05:30:00 +0700 <Topia_Official> #RemoteWork and #GlobalTalentMobility - Stay on top of tax risk, manage compliance and operations\n",
      "1392607982463164427 2021-05-13 05:29:51 +0700 <remote_wander> @Mr_Arizona2424 @MikeGroat1 @secupp It literally does work like that and it’s worked like that since the end of the Second World War. Why do you think the US dollar is the worlds reserve currency? We have pretty beaches?\n",
      "1392607962418401282 2021-05-13 05:29:46 +0700 <CSRiFoundation> We are looking for #STEM Trainer &amp; Coordinator for Tinkering Lab project with a leading NGO in Bangalore. Anyone with B. Tech/ B. Sc. Computer Science and IT. Work exp in STEM will be an added advantage Send cv at hello.csri@gmail.com Location: Bangalore Currently: Remote working\n",
      "1392607852200710145 2021-05-13 05:29:20 +0700 <greenfuzz> @JustJoshinNH The work I’m doing is either bar tending or working in a vets office. There’s no remote for that and when I have the work I’ve been doing it\n",
      "1392607562277785603 2021-05-13 05:28:10 +0700 <Vwampage> Oh my dog\n",
      "1392607369721520133 2021-05-13 05:27:24 +0700 <drgurner> @JesseTinsley I'm with you on commuting (and I extend that to business travel).  For me, those mean that more hours are spent sitting on a plane/train rather than being productive. I get in more work, in less time, and have less overhead if I stay remote...and that makes all of life better.\n",
      "1392607114657423364 2021-05-13 05:26:24 +0700 <workfrom> Cafe Anywhere is 🔥 today!   Cool peeps making #remotework awesome!🤩  https://t.co/GVbFLYKaaP\n",
      "1392607069904150530 2021-05-13 05:26:13 +0700 <IAMQDOT> @thatMeganRN CLEEEEAAARLY! I can’t believe he - a CEO of what is essentially a company that facilitates remote work - actually fixed his mouth to say this. Just dumb on every level.\n",
      "1392606649840377856 2021-05-13 05:24:33 +0700 <fedefilippone> Today’s digital-savvy employees are connected 24/7. The shift to #remote work has accelerated modernizing HR services &amp; experiences for employees. How do you design consumer grade delivery of #HR services ? Join @KPMG_US &amp; @Oracle on 6/7/21 to learn more.  https://t.co/MrdLoJfePA\n",
      "1392606642622148613 2021-05-13 05:24:31 +0700 <bloomberg_biz> @leg_nft You should gooooo especially since you work remote! It helps a lot to feel like ~part of the team~ plus you’ll save $ by not drinking\n",
      "1392606571503489025 2021-05-13 05:24:14 +0700 <Beardro_> Being able to travel and still work remote &gt;\n",
      "1392606383707594753 2021-05-13 05:23:29 +0700 <weworkremotely> New Remote Job! FLT Medical: Head of Product   https://t.co/fZAMCS7PWq #remotework\n",
      "1392606211808403458 2021-05-13 05:22:48 +0700 <jessicamalnik> Has anyone else noticed that all of the \"return to in-office work articles\" are all either written by or only quoting people who have a vested interest in the old way of doing business.  Remote work is the future. The pandemic only accelerated that trend.\n",
      "1392606063158075396 2021-05-13 05:22:13 +0700 <GlasgowTin> @MrWalker_Tweets Also, the results didn’t take in work done during remote learning. They were based on what the students had done up until mid March, plus an estimation of likely improvement. This year’s situation is very different but equally incomparable with previous years.\n",
      "1392606011857453058 2021-05-13 05:22:01 +0700 <daily_remote> 👋 Mandolin is hiring remotely for a Senior or Staff Software Engineer.          #RemoteJob #RemoteWork  #Jobtype:      Apply now! 👇      https://t.co/LkA3LccixW\n",
      "1392605528183001091 2021-05-13 05:20:05 +0700 <dialecticwork> With the switch to remote work, staying connected with co-workers has been more difficult than ever.   Check out the survey results below to learn about the impact this has on employee motivation and performance.  #workplaceculture #remotework #motivation #connection\n",
      "1392605481114406914 2021-05-13 05:19:54 +0700 <RemoteWorkNews> Permit granted, work restarts on remote road near Kake  https://t.co/EyF9LPSQwd\n",
      "1392605477243166726 2021-05-13 05:19:53 +0700 <RemoteWorkNews> Watch these 4 trends to see where rent prices are headed after the pandemic  https://t.co/qmsH9LzK0g\n",
      "1392605469039075330 2021-05-13 05:19:51 +0700 <RemoteWorkNews> WeWork's new CEO is not a fan of remote work  https://t.co/NvW0xWpFxl\n",
      "1392605441792913412 2021-05-13 05:19:45 +0700 <FashionlawyerGB> 20 June 2021: End of the coronavirus remote right to work concession  https://t.co/F4QExejJ45\n",
      "1392605265824915456 2021-05-13 05:19:03 +0700 <abuown> With inventory at an all time low, developers and lawmakers are looking to convert commercial spaces into affordable housing to counter the housing shortage as well as declining lease renewal as more opportunities for remote work arises. What's your  https://t.co/Ofnoda2Dau\n",
      "1392605140482355201 2021-05-13 05:18:33 +0700 <vincevickers> Today’s digital-savvy employees are connected 24/7. The shift to #remote work has accelerated modernizing HR services &amp; experiences for employees. How do you design consumer grade delivery of #HR services ? Join @KPMG_US &amp; @Oracle on 6/7/21 to learn more.  https://t.co/jGEdclXZOL\n",
      "1392605070022283266 2021-05-13 05:18:16 +0700 <NewTechTwin> All in all, remote working offers significant benefits. A better work-life balance is the top reason why many workers prefer staying at home rather than in the office. [Infographic] @StatistaCharts thx @lindagrass0 #RemoteWork #FutureOfWork #DigitalTransformation  https://t.co/0Tg053w7Hs\n",
      "1392604776945393668 2021-05-13 05:17:06 +0700 <DrTwerkSum> When you rely on being a “cultural fit” to advance yourself instead of actually being skilled, of course you don’t like remote work. It’s harder to exploit people’s work to your benefit when you are not sharing the same space.\n",
      "1392604774617526276 2021-05-13 05:17:06 +0700 <DrTwerkSum> Seriously, the sudden aversion to remote work feels rooted in white supremacy (like everything else).\n",
      "1392604615733092354 2021-05-13 05:16:28 +0700 <ChiefRemote> @adriftsoul1 @chris_herd Hybrid work arrangements are an easy way for companies to show \"progress\" on remote work without any commitment. In order to create a great remote culture, a company must commit to it without half-measures.  It won't come naturally.\n",
      "1392604347201200128 2021-05-13 05:15:24 +0700 <tom_giuliano> This Harvard Professor Reveals The Secret Sauce For Remote Work - And It Has Nothing To Do With Zoom  https://t.co/pRcdEoiVjN  https://t.co/xMhUrb5DGh\n",
      "1392604304171806727 2021-05-13 05:15:14 +0700 <YourBrandMrktng> We have created two new workshop series to help companies set themselves and their teams up to thrive in the new normal:  \"Leading a Remote Team\"  and  \"Work from Home Successfully\"  Find out more at  https://t.co/1w61tcat6m  #leadership  https://t.co/pkNLjsyqMf\n",
      "1392604259900919809 2021-05-13 05:15:03 +0700 <WantRemoteJob> New #remote #job Strategic Director, Acorn AI at @Medidata  https://t.co/0p8CYxlojJ #remotework #remotejob #hiring\n",
      "1392604255673102343 2021-05-13 05:15:02 +0700 <itsherhub> 𝗡𝗢𝗪 𝗛𝗜𝗥𝗜𝗡𝗚 𝗥𝗘𝗠𝗢𝗧𝗘 + Job: Media Communications Specialist🖥️      + Company: Childhood Nonprofit Organization💻     + Contract/Freelance⏰  + Remote📍 + Pay: $33.65/hr💰  🔗:  https://t.co/tbjnmywtZW  #remotejobs  #workfromhome #remotework #workfromhomejob #remotejob\n",
      "1392604255660527630 2021-05-13 05:15:02 +0700 <dotLA> Has your employer decided its stance on remote work? @thebenbergman wants to hear from you at ben@dot.la\n",
      "1392604005419864064 2021-05-13 05:14:02 +0700 <microverseinc> \"It's the only school that provides equal opportunity for all students around the world.\"  We love hearing about student experiences at Microverse. Here's what Microverse student Ari had to say about the program👇  #learnwithmicroverse #learntocode #remotework #remotelearning  https://t.co/NdtxDsB52C\n",
      "1392603992765739009 2021-05-13 05:13:59 +0700 <justremoteco> 🌎 Customer Care Representative position open at Augusta Sportswear  https://t.co/Fh1DQOFExW #remotework #remotejobs\n",
      "1392603928873816064 2021-05-13 05:13:44 +0700 <rolandixor> #RemoteWork #ImpromptuComics  https://t.co/B00Ry3ZjVZ\n",
      "1392603903947063305 2021-05-13 05:13:38 +0700 <TLCIncorporated> Lawn sprinkler remote valves offer a safe and contactless service option for your spring and fall startups. Once installed, you won't have to miss work or change your schedule to wait for our service technician!   https://t.co/7kRLi0iGJp  https://t.co/iq26POqV9Z\n",
      "1392603814184751109 2021-05-13 05:13:17 +0700 <Vwampage> I wish to know who Thanatos and Lernie and Meg are in this.\n",
      "1392603522881835009 2021-05-13 05:12:07 +0700 <alicia> @astridoverthere @osutein My take is that it’s easier to manage people who are in an office with you, but easier to do your own work when you’re remote\n",
      "1392603338630328322 2021-05-13 05:11:23 +0700 <devonadesso> the only reason i put \"i'd like to work in the office a few days a week' is bc i know i will simply never work out in a gym again if i'm 100% remote\n",
      "1392603334071123971 2021-05-13 05:11:22 +0700 <wideeyedla> @MoniseLSeward Go to Linked In and follow my friend Amy who switched over to Drupal coding and Accessibility Design from nursing. Remote work. Good pay. Miss your face.\n",
      "1392603264193990660 2021-05-13 05:11:06 +0700 <BrennanMcGuigan> Want to work remote? Here's a breakdown list of FANG companies that will let you.  https://t.co/UtvLkppQPW\n",
      "1392603067539886084 2021-05-13 05:10:19 +0700 <JobTripper> 🌍Eagle Genomics Ltd are hiring a Bioinformatician  Fully remote! Based in 🇬🇧 UK   https://t.co/apLDBlh2w6  #python #remote #job #remotework\n",
      "1392603049110147073 2021-05-13 05:10:14 +0700 <PM_Results> Why would anyone pick Zoom over either the free or paid versions of most of these packages?   https://t.co/tWoqTeoh0Q #remotework #remotejobs #COVID #wfh #workfromhome #digitalnomad #homeoffice #coworking  #zoommeetings #business  https://t.co/LruH9xWgfu\n",
      "1392602971943407622 2021-05-13 05:09:56 +0700 <DrTwerkSum> @audaciouskay The more I think about it, I think the aversion to remote work has a lot to do with certain people not having the competence to complete their job duties. They rely on toxic company culture, forced comradarie, their personality and complexion to advance themselves.\n",
      "1392602924350640132 2021-05-13 05:09:45 +0700 <Colleem3love> @IngrahamAngle @Jim_Jordan @FoxNews @KimReynoldsIA @newtgingrich @TomCottonAR So are you telling me I should leave my eight-year-old at home by his se I have no babysitter he is remote learning and I can't go back to work so are you telling me I don't count what I need does not matter what my son need does not matter safety is first what's wrong with y'all\n",
      "1392602760047206411 2021-05-13 05:09:05 +0700 <bsost_Brendon> @Watcher90329133 @theluthier63 Yeah, I've largely plodded on as usual, less socialising &amp; fraternisation obviously, but beyond that, day out sin the woods evening hammering away on the keyboard at this desk.  Annoyingly despite computing being very good at remote work, has adopted needless video conferencing,\n",
      "1392602517251379204 2021-05-13 05:08:08 +0700 <KDBWrites> @ErinAlMehairi We had to decide before there was a vaccine if our kids would go back or be remote for the year.  I work from home so we could do virtual lucky for us.\n",
      "1392602243757707272 2021-05-13 05:07:02 +0700 <annebibb> Some states are gearing up #returntonormal, but with 81% of employees favoring #remotework and all of the enticing benefits on both sides, normal might be #flexible.   https://t.co/6MwhguPzaB by Leandra Bernstein @NBCMontana #WorkLifeBalance #flexibleworking #backtowork  https://t.co/knv5Rva2yP\n",
      "1392602232823160833 2021-05-13 05:07:00 +0700 <jamesvgingerich> Are you having any issues securing your company's #RemoteWork in any of these functional areas? Contact @Expeflow today if you would like better, smarter #Workflow solutions in days or a few weeks rather than months or years!   https://t.co/7qsOHf4iTq  https://t.co/yf3SKR1m4B\n",
      "1392602191102414852 2021-05-13 05:06:50 +0700 <hell_ostranger> have worked remote for 4+ years. don't think i could ever again work a job where i was expected to be in the office every day.  pre-COVID i'd fly to on-site meetings about once a week or so and that was less draining that just commuting to &amp; working in an office 5 days a week.\n",
      "1392602026803179523 2021-05-13 05:06:11 +0700 <imagemage> Really sad seeing all these bad takes from CEOs. This pandemic has destroyed every argument against remote work. If you're a CEO forcing your workforce back into the workplace, say goodbye to that top talent you used to have, they have better options.\n",
      "1392601986214793219 2021-05-13 05:06:01 +0700 <Upwork> With many employers considering a return to the workplace, Upwork's Chief People Officer @ZoeSHarte has a message about #RemoteWork and hybrid workplaces: Embrace the change; don’t move away from it. @HRExecMag #BenefitsConf  https://t.co/ZMCsyHgtA3\n",
      "1392601955604733952 2021-05-13 05:05:54 +0700 <remote_work20> 在宅勤務を機に部屋の掃除をちゃんとしようと思ったが、いつまで経ってもやる気が起きない #リモートワークあるある  #リモート実務検定という資格ができたらしい リモート実務検定の現金キャッシュバックキャンペーンにエントリーしました！\n",
      "1392601869193646082 2021-05-13 05:05:33 +0700 <camdevs> 1. Elon 🚀 @elonmusk bc why would I choose anyone else? 2. Cuban 🦈 @mcuban bc he’s my favorite shark &amp; the best owner in basketball! 3. @foundersfund 4. Pomp 💎 @APompliano because he’s the goat 5. Crypto ₿ bc it is inevitable 👊🏾📈  No office drink because we work remote 😂\n",
      "1392601834381000712 2021-05-13 05:05:25 +0700 <Yahsus> CNBC: The time to negotiate an annual month of remote work may be now.  https://t.co/qXbISLFAuv  via @GoogleNews\n",
      "1392601730823634950 2021-05-13 05:05:00 +0700 <natlawreview> \"Re-Opening Strategies and Return to Work Policies After COVID-19 Pandemic\"  https://t.co/eyjAVFn9PW @KLGates #EmpLaw #RemoteWork #BusinessReopening\n",
      "1392601729703845890 2021-05-13 05:05:00 +0700 <wearehpr> Training is underway for the first cohort of the Remote Ready Hawaiʻi Pilot Program, which matches unemployed residents with remote work offered by companies outside the state.   https://t.co/HIIKaaXQtn\n",
      "1392601359912947716 2021-05-13 05:03:32 +0700 <HaroldSinnott> @Webex @socioevents Exciting news, @Webex ! This will be a remarkable acquisition to deliver a solution that enable customers to build  more meaningful end-to-end relationships with event attendees. 👏 👏    @Cisco @CiscoCollab @socioevents  #FutureofWork #RemoteWork #WFH #InclusiveRecovery\n",
      "1392601211157757952 2021-05-13 05:02:56 +0700 <DrJenMurphy> It's good to support remote work when it makes sense for the employees and the company (and let's not forget the 🌍). Give us examples of everyone winning if you actually want to motivate companies to adopt WFH. We need to know what right looks like versus what ppl want. 4/\n",
      "1392601115355664391 2021-05-13 05:02:33 +0700 <AdrianBrown20> During the pandemic, many people found that they preferred working remotely to working in an office. A new survey found that 42% of US workers who were remote said they'd look for a new job if their employer didn't let them work rem  https://t.co/WgLHvuqbDJ  https://t.co/398sLCEOLK\n",
      "1392600980936613894 2021-05-13 05:02:01 +0700 <JobHuntOrg> #JobSearchTips: Increase Your Work-From-Home Efficiency: 9 Handy Tools for Remote Workers by @MarkADyson --  https://t.co/nSJ7mmeFHW #RemoteWork #WorkFromHome #WFH\n",
      "1392600974783520775 2021-05-13 05:02:00 +0700 <OptimaECM> They say work expands to fill the time available for its completion, and meetings are no different. Learn how we limit meeting times and use other strategies to help clients achieve their goals. #remotework  https://t.co/rQofGSr9uT\n",
      "1392600929854230528 2021-05-13 05:01:49 +0700 <horizons_global> Does #RemoteWork help support diversity and inclusion? Some argue that the flexibility of a remote workplace is a boon for those with primary childcare responsibilities and other commitments. #HR #Employment   https://t.co/OF5zKWQM3N\n",
      "1392600733460094977 2021-05-13 05:01:02 +0700 <paydayhr> Who stays remote? Who comes in daily? Workday’s chief people officer shares some tools for mapping the return to work.  https://t.co/Y0oKtb6PV5  https://t.co/Fp0OdU1O48\n",
      "1392600718897336322 2021-05-13 05:00:59 +0700 <AuthenticPurpos> Would you like to travel to Puerto Rico for free! Discover Puerto Rico invites you to enter their “DESKOVER Puerto Rico program.” Winners will receive one roundtrip economy flight plus 14 nights' accommodation. The deadline to enter is May 13.  @discover_pr #remotework  https://t.co/BrBMQgHOoD\n",
      "1392600631760748550 2021-05-13 05:00:38 +0700 <PstafarianPrice> @See_Grean Looked at her other posts in the neighborhood group; she took in multiple kids to do remote-schooling while schools were closed, because their parents needed to work. A woman who leads by example :)\n",
      "1392600585573179397 2021-05-13 05:00:27 +0700 <CaptivaResort> Find a shady nook to gather with friends, read a book, or work remotely. A relaxing stay is waiting for you in #SiestaKey!   https://t.co/H1SFOS7SU9 #travel #remotework #relax  https://t.co/qy6pcMJ5Bm\n",
      "1392600563372679191 2021-05-13 05:00:22 +0700 <VectorRemote> There's never been more reasons to celebrate the hardworking professionals who make our healthcare system work. In honor of #NursesMonth, check out our latest video.  https://t.co/FO5GsDG2a7 #NursesWeek #VectorRemoteCare  https://t.co/aG1r0nkQxA\n",
      "1392600532091613184 2021-05-13 05:00:14 +0700 <LhillApplied> Learn how @crs_consultants uses Applied’s cloud-based products to operate in the new remote work environment while also becoming more efficient and growing the business.   https://t.co/Ir3RA7ySg2\n",
      "1392600522767618053 2021-05-13 05:00:12 +0700 <teamlewisglobal> A key takeaway from employers this year? Remote work flexibility is here to stay.⚡️ Here are 4 easy ways to revitalize your company culture with #WFH teams:  https://t.co/m8RWgZkZri\n",
      "1392600510075740166 2021-05-13 05:00:09 +0700 <danielherman_rj> Remote work has had many impacts on our day-to-day life, but also the housing market. Read more.  https://t.co/vam6VWMVhI\n",
      "1392600483915837442 2021-05-13 05:00:03 +0700 <remotejobsvault> Interested to #workfromhome for a #remote #job in Bitwarden (@bitwarden) as Integration Engineer?  https://t.co/KBU1YnDJ2l  #hiring #remotejob #remotework #customer #support\n",
      "1392600476227706893 2021-05-13 05:00:01 +0700 <myotherofficeBB> Advice from someone who was working remotely before the rest of us.   https://t.co/R956ffLL3r  #Work #RemoteWork\n",
      "1392600474214445059 2021-05-13 05:00:00 +0700 <westayinthegame> How are you handling office conflicts between remote workers?   https://t.co/51nIy43nB5   #hr #hmx #remotework #flexiblework\n",
      "1392600472515715077 2021-05-13 05:00:00 +0700 <BrightfulHQ> 74 General Trivia Questions (Easy, Medium, Hard!)  https://t.co/ijsY2gJjdI #remotework #remoteworking #remotejobs\n",
      "1392600312054177796 2021-05-13 04:59:22 +0700 <thessvm> Lmaoooo not this organization trying to talk negatively about remote work. Cause they know they’re wrong.   EMBRACE THE FUTURE B  https://t.co/uvppgZ4ZVt\n",
      "1392600080071512067 2021-05-13 04:58:27 +0700 <remoteworkhub> Product Analyst, Onboarding &amp; Engagement at Stack Overflow (Remote Job)  https://t.co/vW30oSLosh #remotework #remotejob #digitalnomad\n",
      "1392600008130797568 2021-05-13 04:58:09 +0700 <anne2_3> @Fred_Langlois_ I’m the weird one who hates remote working. I have no cut time between work and personal time now, and i live alone. It’s like a mega echo chamber and i hate it!\n",
      "1392599999398174722 2021-05-13 04:58:07 +0700 <Sneaky_Em> If anyone knows somewhere that's hiring cloud/infra engineers/SREs that's LGBT friendly please let me know. Highly preferably remote.   It's becoming more apparent that I work in a workplace that's actively LGBT hostile and takes no regard for their employee's mental health.\n",
      "1392599996340465666 2021-05-13 04:58:07 +0700 <nickpandher> @MacRumors @julipuli The M1 iMac becomes my day to day desktop - will remote to my Win 10 system as needed, but 95% of my work week allows for just using my Mac\n",
      "1392599898726432773 2021-05-13 04:57:43 +0700 <MeritHRjobs> #HRfolks - Thoughts? What are you hearing?  #hybridwork #remotework #pandemic @GlobeIdeas\n",
      "1392599861137223682 2021-05-13 04:57:34 +0700 <natrin> \"Everyone dies, so I've gotta get the grass next to my pool looking like a country club by like next week\" - Uncle Bob. He called to say that his remote koozie locators arrived and work great up to 100' away. Now he just needs to find a koozie.\n",
      "1392599780967256071 2021-05-13 04:57:15 +0700 <LaurenRazavi> Interested in digital nomads and the future of work?  Over the next 30 days, I'm writing 30 Atomic Essays as part of @dickiebush's Ship 30 For 30.  I'll share insights about remote work and borderless living from a decade on the road.  Follow along in this thread 👇\n",
      "1392599547919089666 2021-05-13 04:56:20 +0700 <anmarseb> @JaredHenriques Agree. I've always been a remote work person pre, during, and post pandemic. :)\n",
      "1392599527895408645 2021-05-13 04:56:15 +0700 <tmj_AZS_transp> If you're looking for work in #Chandler, AZ, check out this #Transportation job via the link in our bio: Pharmacy Service Technician - REMOTE WITHIN ARIZONA at CVS Health\n",
      "1392599507985125390 2021-05-13 04:56:10 +0700 <jocelynkrauss> I agree with so much here... and also think it leaves out several of the best parts of remote work. Worth a read and a debate.\n",
      "1392599400594223112 2021-05-13 04:55:45 +0700 <aBigOrangeHeart> Be sure to sign up for this event. Founder @danmaby and @michelleames will be talking with @geekunicornweb about all things mental health-related in remote work, as well as the fundraising we do at Big Orange Heart. We'd love for you to join us.\n",
      "1392599026806239241 2021-05-13 04:54:15 +0700 <SomethingGoodCG> ENROLLING NOW: Fall 2021 Leadership &amp; Reputation Academy!   #leadership #leadershipdevelopment #leaders #leaders #virtualleadership #remotework #futureofwork #somethinggood   @tyler_riddell @m_m_riddell    https://t.co/RRmvtm9UtL\n",
      "1392598930890928131 2021-05-13 04:53:53 +0700 <Ali_Merchant> @JesseTinsley You’re right Jesse.   I think remote when done right can make work meaningful.  If we can build connection, inclusion and disciplined processes, we can do this.  I ran remote teams for a decade. It takes work, but it’s a thing of beauty when it works.\n",
      "1392598723436425216 2021-05-13 04:53:03 +0700 <javascriptworks> Remote Mid/Senior Full Stack Engineer  with a competitive salary  ALICE Technologies is the world’s first artificial intelligence platform that understands construction.  #remotework #remotejobs # http #webdevelopment   https://t.co/1ZkB5ytOFk\n",
      "1392598647444066304 2021-05-13 04:52:45 +0700 <abbeylclark> Prettiest remote work view is in the middle of the LI Sound 💜  https://t.co/xsFiaI05CK\n",
      "1392598500999933955 2021-05-13 04:52:10 +0700 <OldDutchCap> @kevinswiber Yeah I love their business model is basically renting work space to remote employees but only employees who want to be in an office are \"engaged\"\n",
      "1392598431705845763 2021-05-13 04:51:54 +0700 <SayWithStyleVA> Best company knowledge base tool? 🤔 @Guru_HQ  @SharePoint  @simpplr  @asana   Without blowing the #executive budget out of the water... 🧐 #WFH #remotework #HR\n",
      "1392598406154104833 2021-05-13 04:51:47 +0700 <Roselover24> @chicklette_ I had a supervisor who hated that we had to work from home. He wanted us all to get hired full time by the state so we could have office parties. I reminded him that some of us could never have that happen. I live hours away from “the office “ and without remote work I’m home\n",
      "1392597767776841732 2021-05-13 04:49:15 +0700 <sdunn_dev> @JonLevyTLB We have been moving more and more jobs remote for decades! What do you think offshore work is? You clearly were paid for this load of nonsense.\n",
      "1392597479376498694 2021-05-13 04:48:06 +0700 <hell_ostranger> Surely, sir, you must be fucking joking — shitting on the efficacy of remote work by citing a source from DECADES BEFORE THE INTERNET EXISTED??   “In the '70s, MIT Professor Thomas J. Allen discovered that office communication increased exponentially the closer desks were”\n",
      "1392597435172544514 2021-05-13 04:47:56 +0700 <marlomajor> Me: \"Remote work is the worst form of slavery. If a company cared about you they'd ask you to bring your family, give you a place to pray, high ceilings, horizontal lighting, a garden to tend and ask you to come in to the office no less than three days per week.\"  The office:  https://t.co/gfv7bTje5S\n",
      "1392597042036412418 2021-05-13 04:46:22 +0700 <remotiveio> 🙌🏠💻 New Remote job, @codelittinc is hiring a Senior DevOps Architect (Americas)  #remotejob #DevOpsSysadmin #remotework   https://t.co/8XwYYBfnMp\n",
      "1392597019244449794 2021-05-13 04:46:17 +0700 <mlteal> Laughing out loud at the gifs I post in work Slack... often while also wondering if anyone else actually laughed 🙇‍♀️ #WorkFromHome #RemoteWork  https://t.co/8kGiKTMe3v\n",
      "1392596910385549312 2021-05-13 04:45:51 +0700 <LAMPmidwest> We have openings for remote interpreters! Find out more here:  https://t.co/JPqLtUYcbV  #1nt #RemoteInterpreting #Work #Hiring  https://t.co/JwmVkb2cT9\n",
      "1392596813291589632 2021-05-13 04:45:28 +0700 <remotejobmarket> New Remote Job 'Senior Manager of Field Marketing'. More Details on  https://t.co/1sMxSCq0Ki #remotework #remotejobmarket #remotejob #fullremote\n",
      "1392596753572978689 2021-05-13 04:45:13 +0700 <ValiantDesigner> Today’s digital-savvy employees are connected 24/7. The shift to #remote work has accelerated modernizing HR services &amp; experiences for employees. How do you design consumer grade delivery of #HR services ? Join @KPMG_US &amp; @Oracle on 6/7/21 to learn more.  https://t.co/euGVLG8asT\n",
      "1392596750444244992 2021-05-13 04:45:13 +0700 <GabbyLayton> Survey: Working Parents Will Quit Without Remote Work  https://t.co/JP4EqlJlRY  https://t.co/SbdyCfV5OA\n",
      "1392596719880310784 2021-05-13 04:45:05 +0700 <WantRemoteJob> New #remote #job Senior Product Marketing Manager, EU at @firefox  https://t.co/4ACS8Dnmx8 #remotework #remotejob #hiring\n",
      "1392596711349030918 2021-05-13 04:45:03 +0700 <RyersonDI> A significant share of Canadian businesses are anticipating #RemoteWork will continue post-#COVID19 pandemic. Yet, the potential for #Telework remains unequal.   Read our #PostPandemicSkills report on new working arrangements w/ @ppforumca @fsc_ccf_en   https://t.co/XFe8uZN0qb  https://t.co/AC3hCcZFkz\n",
      "1392596710959063040 2021-05-13 04:45:03 +0700 <Lever> Will the pandemic-induced shift to #remotework help organizations increase #diversity? Yes, some companies say—at least for technology jobs. #DEI @SHRM    https://t.co/z616VajoWa\n",
      "1392596599608590337 2021-05-13 04:44:37 +0700 <DannyGroner> \"The team, estimated to be around 100 people, includes many entry-level employees and workers who are new to the tech industry. Employees say the power imbalance makes it difficult to push back on the remote work policy.\"  https://t.co/PJyCaVkDW1\n",
      "1392596505991680001 2021-05-13 04:44:14 +0700 <RemotelyWire> Remote work could kill office culture, which is probably a relief for many  https://t.co/sXBwpaEVzi #RemoteWorking #WorkingFromHome\n",
      "1392596499536613376 2021-05-13 04:44:13 +0700 <manz97> Free Remote Desktop:  Looking for free remote desktop for your computer so that you can easily work from home using any computer. Here are some free remote desktop software's to consider. Link [[ This is a content summary only. Visit my website for full…  https://t.co/px6SI41o2i\n",
      "1392596477348827139 2021-05-13 04:44:08 +0700 <TXLandEAttorney> .@Littler Survey: Employees Want Remote and Hybrid Work More Than Employers Do #emplaw  https://t.co/WbczRASeMl\n",
      "1392596460416475139 2021-05-13 04:44:04 +0700 <WorkItDaily> 50+ remote jobs for anyone looking to be in the entertainment industry!   https://t.co/DmcViXsuXV   #jobs  #careers  #hiring  #recruitment\n",
      "1392596198805196800 2021-05-13 04:43:01 +0700 <Up2staff> Rockstardevelopers is looking for a Senior Webentwicklerfrontend Oder Fullstack #RemoteWork #AllOtherRemote   https://t.co/G9qbuHXOXQ\n",
      "1392596015887183874 2021-05-13 04:42:18 +0700 <HarveyLevin4> Today’s digital-savvy employees are connected 24/7. The shift to #remote work has accelerated modernizing HR services &amp; experiences for employees. How do you design consumer grade delivery of #HR services ? Join @KPMG_US &amp; @Oracle on 6/7/21 to learn more.  https://t.co/21UmHP1W2A\n",
      "1392595828120899588 2021-05-13 04:41:33 +0700 <PatrickMOConnor> The iPads helped our teachers deliver remote learning and although we’re transitioning back to in-person learning, it was good to see the iPads were still of use to the class.  Thanks to the Admin team and teachers for the tour and for your work educating the next generation.\n",
      "1392595812643913731 2021-05-13 04:41:29 +0700 <dking8608> Over the past year, many transitioned successfully to #remotework. Now as organizations are reopening, we identified five key steps to give workers the flexibility to work from home, at the office, and everywhere in between. #ReturnToOffice  https://t.co/dshotsSXjr\n",
      "1392595709942247426 2021-05-13 04:41:05 +0700 <Functionalworks> Core contributor to the development of the product  Check out this Remote Mid/Senior Full Stack Engineer role working with Http, Web development &amp; Purescript  #remotework #remotejobs # http #webdevelopment   https://t.co/WnAHMXSyjp\n",
      "1392595643592491017 2021-05-13 04:40:49 +0700 <elireyesmkt> Nop, the daily zoom meetings won't be more successful if we spent 2 hours of the working hours talking about issues instead of creating an inmediate solution to resolve it right away.  Effectiveness is key. #remotework\n",
      "1392595634960703490 2021-05-13 04:40:47 +0700 <si_mcav> @S_J_Lock @__mns_____ @AcademicChatter I have every confidence that I could do well in a remote postdoc, but that's to do with my own experiences and work style. It's probably not ideal for everyone.\n",
      "1392595625607372806 2021-05-13 04:40:44 +0700 <articulatebrian> Hmm...I've worked for @Articulate for 12 years now and we've always been 100% remote.  If your employer still thinks that working from home means you contribute less, it's time to find a new employer. #remotework  https://t.co/aEe9962Rz5\n",
      "1392595590140268552 2021-05-13 04:40:36 +0700 <JenSinger> SVA grad Nick Singer is looking for freelance or FT environmental concept art work, remote or in NYC area. Visit  https://t.co/qAUeW8FRtQ or DM me.  https://t.co/fBKGdmmsDA\n",
      "1392595556145434637 2021-05-13 04:40:28 +0700 <olearycrew> @ChloeCondon The best is thanks to @darrenmurph and team I actually have data to prove @WeWork wrong:  “If remote work was suddenly no longer an option, 1 in 3 respondents would quit their job.”  “82% agreed that remote work is the future of work”   https://t.co/cvUvuR2Vpk\n",
      "1392595444195278850 2021-05-13 04:40:01 +0700 <whtReign> @SarahNS74 Hey @SarahNS74, come work with me :-D. We are hiring a Senior Laravel Engineer and a Junior Field Engineer, fully remote and flexible! Take a look...  https://t.co/qsISwbiQuy\n",
      "1392595380706189312 2021-05-13 04:39:46 +0700 <lizzozillo> Told a colleague that I was going to remote work from Mexico City this summer &amp; his response? “I didn’t know Mexico had wifi”.  https://t.co/kxPC01aSlc\n",
      "1392595310971658254 2021-05-13 04:39:29 +0700 <sdunn_dev> @GlobeIdeas @JonLevyTLB I have been remote working for over 15 years at same job. I don't have a 4 hour commute, I don't get as sick,  and I actually work longer because I can control my schedule. I don't wasted banter with social butterflies, and most meetings have been converted to Slack.\n",
      "1392595293791682560 2021-05-13 04:39:25 +0700 <KoifmanSharon> Use #remotework as a way to battle unemployment! Great strategy Hawaii 😎  #unemplotment #WFH #thefutureofwork    https://t.co/ufSTywZbKE  https://t.co/qwFvvJKGzf\n",
      "1392595129093996545 2021-05-13 04:38:46 +0700 <DigitalJucelab> The simple yet effective morning routine to help entrepreneurs make the most of their day #entrepreneur #morningroutine #success #stressmanagement #remotework #wfh   https://t.co/Le9Z8WBOkq  https://t.co/Le9Z8WBOkq\n",
      "1392595098291118084 2021-05-13 04:38:39 +0700 <weworkremotely> New Remote Job! Inclusion System Canada: Full Stack Developer  https://t.co/KI5uBmcTLJ #remotework\n",
      "1392595094101008389 2021-05-13 04:38:38 +0700 <CityAM> Boris Johnson confirms working from home advice set to go on 21 June   The PM is confident office working will come back en-masse  https://t.co/GggGtkmLPR  #BorisJohnson #WorkingFromHome #WorkFromHome #WFH #RemoteWork #BackToWork #Office #remotework #Pandemic #Work #Commute\n",
      "1392594811102892035 2021-05-13 04:37:30 +0700 <Monumentsmusic> @keanesian Haha.  This is such a stupid generalization. For parents and people caring for relatives, remote work is a godsend. So cool let’s just assume those people are “less engaged.”\n",
      "1392594464640704513 2021-05-13 04:36:08 +0700 <remote_work20> 「リモートワークを当たり前にする」をミッションに掲げ、オンラインアシスタントサービスや個人事業主のマッチングサービスなどを手がけているのが、株式会社キャスター。  #リモート実務検定という資格ができたらしい\n",
      "1392594335087173638 2021-05-13 04:35:37 +0700 <JFClaudeMSM> The Mental Health Implications of Permanent Remote Work - The Good Men Project  https://t.co/7VaORS8jtk\n",
      "1392594298139418629 2021-05-13 04:35:28 +0700 <CryptoInfoFeed> @brian_armstrong It's also important to reduce costs by 10% to 15% via remote work force.\n",
      "1392594261066059779 2021-05-13 04:35:19 +0700 <CaliforniaCFW> Our partner @JuniperNetworks is expanding their team with a Director of Diversity &amp; Inclusion role! This is a fantastic #REMOTEWORK opportunity to join an organization with leaders committed to being #drivenbydifferent  #hiring #jobopportunity #jobopening  https://t.co/ZrJYkGpzLq\n",
      "1392594210977718278 2021-05-13 04:35:07 +0700 <Mizoonashi> @waitworry WeWork is literally the dumbest idea of all the incredibly dumb things we come up that should never exist. it's literally just remote work that you don't need an office to do but instead of just doing that you have to go in to a fake office and do it\n",
      "1392594185371389959 2021-05-13 04:35:01 +0700 <AquentAustralia> There are also some downfalls to working from home — FOMO; not having your colleagues around you and the energy they bring  https://t.co/DRBT8LjJsf Sonia Gouveia, @AquentAustralia’s GM in Sydney talks remote vs the office on our blog #remotework #workculture #flexibleworking #wfh\n",
      "1392594005913911301 2021-05-13 04:34:18 +0700 <Invest4Velocity> @SleepwellCap Big 3 US Airlines and Southwest  Incredibly useful and important to the economy but I don’t like them as long-term investments. Lot of risks.  -Capital intensive -Competition on price creates margin pressure -High fidelity remote work reduces need for lucrative business travel\n",
      "1392593989627518982 2021-05-13 04:34:14 +0700 <mypromen69> @BlizzardCareers I’ve just seen that you have no open positions in remote. As a big fan and gamer, It would be a dream to work with you, but I have a family in Spain. Have you considered to open this kind of positions? Each day more and more frequent.\n",
      "1392593433638883331 2021-05-13 04:32:02 +0700 <Allwork_space> With the right #hospitality-inspired design strategy in place, the #workplace won’t just rebound — it will be a more sought-after workplace than before &amp; a much-welcomed reprieve from #remotework.  https://t.co/Wq6LiY3Mhh via @workdesignmag    #workdesign #designers @CooperCarry  https://t.co/mfoQTgLzCj\n",
      "1392593192609062913 2021-05-13 04:31:04 +0700 <DChesterSmith> As an international infrastructure group, @balfourbeatty is keeping remote collaboration cost-effective for 6,000+ employees with @Masergy's help! Check out this case study on how @balfourbeatty powers remote work in the cloud. #UCaaS #multicloud #WFH  https://t.co/fL7XWlP0sv\n",
      "1392593052510953474 2021-05-13 04:30:31 +0700 <HomewoodReston> Whether you are attending a business meeting or just need to squeeze in a few hours of work, our hotel is made to make your remote business experience as smooth as possible. #freeWiFi #businesshotel #HomewoodSuites #Reston  https://t.co/AE6gFlA9j0\n",
      "1392592990691016706 2021-05-13 04:30:16 +0700 <Rise_Broadband> Remote work continues to be a hot topic.  https://t.co/dL3NaDSalI\n",
      "1392592972332609543 2021-05-13 04:30:12 +0700 <MotivationABC> How To Lead A Team In A Remote Work Environment, Successfully  https://t.co/O0eosHpAgl #remote #management\n",
      "1392592971929948162 2021-05-13 04:30:12 +0700 <ThinkRemote> According to a comprehensive report created by the #SanDiego Association of Governments, most companies don’t expect their staff to #WFH after the pandemic. And surprisingly, the vast majority stated they wouldn’t be offering #remotework options at all.   https://t.co/EovtXis3BO\n",
      "1392592923884023810 2021-05-13 04:30:00 +0700 <BrightfulHQ> Weight loss app Lose It mulls 100% remote work in exchange for salary cut @BosBizJournal  https://t.co/lRsvChTe6T #remotework #remoteworking #remotejobs\n",
      "1392592911368347659 2021-05-13 04:29:57 +0700 <vandamuel> 🕦                    🧚🏾‍♀️ 💨  Pumps ♡ 13 months ♡ Remote work ♡  💤 🛌\n",
      "1392592665431183361 2021-05-13 04:28:59 +0700 <Richard_Florida> @AdamMGrant I read. One thing I can’t reconcile is that Bloom et al estimate   remote work generates a 5% increase in overall productivity. Could the savings and commuting time compensate for the 20% reduction in labor productivity. I am legitimately confused.\n",
      "1392592601040183296 2021-05-13 04:28:43 +0700 <ImStillDan> @ABC After more than a year remote schooling two kids who don't get along and living in middle of my wife's remote office while she did a job that required her to literally work 7-days a week from April 2020 to April 2021, I'd gladly do an unspecified stretch in solitary.  https://t.co/zbtXPl2fg2\n",
      "1392592276614955008 2021-05-13 04:27:26 +0700 <kevinttully> How Hybrid Remote Work Improves #Diversity and #Inclusion  https://t.co/zqkj0TrGVB @Forbes #hr #workforce #dei  https://t.co/opMLXuv7ZQ\n",
      "1392592267987374080 2021-05-13 04:27:24 +0700 <caromaryphaitch> @kdc Remote work isn’t for everyone but those reasons are all bullshit &amp; I could refute every single one\n",
      "1392592126567845889 2021-05-13 04:26:50 +0700 <adfskitteh> @ChloeCondon But see, he makes a living off of people in remote work scenarios. So this comment makes him EDGY, and the article CLICKABLE...don't you see the genius?  Yawn.\n",
      "1392592056334254080 2021-05-13 04:26:33 +0700 <mwgnz> @RayFK we were already an outlier here with \"you can work from home one day a week\" in the before times, but being remote by default is works new normal and it's fucking great.\n",
      "1392591735763607555 2021-05-13 04:25:17 +0700 <JobTripper> 👍Borrowell are now hiring a Paid Marketing Specialist  Fully remote! Based in 🇨🇦 Canada   https://t.co/2dj1ot4b4X  #SQL #remote #job #remotework\n",
      "1392591686962921473 2021-05-13 04:25:05 +0700 <karenkroll> Posting for a friend: SVA grad with Blender experience is looking for freelance/full-time work in environmental concept art, remote or NYC area. Contact @jensinger for details.\n",
      "1392591674682003457 2021-05-13 04:25:03 +0700 <CrowdWeek> We are growing and looking for BOLD, extraordinary and highly energetic people to join our mission and Unlock Human Potential &gt;&gt;  https://t.co/hHP4qNBSZw   #careers #entrepreneurs #remote #remotework #digitalnomads #entrepreneur #career  https://t.co/rE0RmIjnfJ\n",
      "1392591664120741897 2021-05-13 04:25:00 +0700 <JoeHappa> The pandemic made people realize that a lot of jobs can be done remote after all. Will people still work for the company that they are in if the top officials want to go back to offices?\n",
      "1392591663164497923 2021-05-13 04:25:00 +0700 <BitcoinerJobs> Want to help build the first RGB enabled mobile wallet using #Kotlin &amp; #JetpackCompose?!  @pandoracoreag is hiring an #Android Developer to work on MyCitadel wallet!  Based in Switzerland OR Remote.  Check it out! 👇  #Bitcoin #BitcoinerJobs   https://t.co/5GarQPohyE\n",
      "1392591577953017866 2021-05-13 04:24:39 +0700 <jessica_android> Curious about remote work at Facebook? Tune in as senior leaders at Facebook company unpack the vision for remote work and how we’re setting teams up for success. RSVP today for exclusive access on 5/25:  https://t.co/Ojdnh7SYXP.  #FacebookLife #RemoteWork  https://t.co/tsF8vvPKMd\n",
      "1392591566586486806 2021-05-13 04:24:37 +0700 <kyork20> Force time off for your employees. The unlimited PTO movement and remote work experiment means people don’t know how to unplug. Force them to! 💯\n",
      "1392591268652494850 2021-05-13 04:23:26 +0700 <dellgoetz> How to take the best of \"Remote Work\" back to the office.  #happiness #remote #jobs #work #returntowork #adecco  https://t.co/phtYjQTSkH\n",
      "1392591232694685706 2021-05-13 04:23:17 +0700 <MethodsLeaders> Building psychological safety and a healthy team dynamic can be hard when you're working remotely. We want to help, so we're hosting a webinar tomorrow with @davidburkus   Register now:  https://t.co/Z4Xqw8VrvP  #RemoteWork #Leadership  https://t.co/iVwkm7hLKf\n",
      "1392591159667699717 2021-05-13 04:23:00 +0700 <daily_remote> 👋 Tutuka is hiring remotely for a Technical Writer API.  Salary: $25000K - $35000K  #RemoteJob #RemoteWork  #Writing #Api #TechnicalWriting  Apply now! 👇   https://t.co/75cHMEpvdq\n",
      "1392590591683268610 2021-05-13 04:20:44 +0700 <JonLetchford> @tobyns Office is essential for the intangibles like: “can I get your eyes on this code?”  Remote is better for task freedom, deep work, ideation etc\n",
      "1392590574599897088 2021-05-13 04:20:40 +0700 <teaaddict13> @Shaylove68Brown @JoannaConn3lly @WSJ “I don’t know why our company can’t attract more diverse talent.”   #RemoteWork #WorkFromAnywhere #TalentAcquisition #Recruitment #DEI #HR  https://t.co/qofQml2rub\n",
      "1392590514201849857 2021-05-13 04:20:26 +0700 <tweetmeetvoid> @mat_schmaltz I live in Victoria, so yeah.  Me too.  Covid is giving us the chance to rethink migration to major urban centres, and it could mitigate the housing crisis in the long term.  As soon as i've got stable remote work, i'm buying a house in a remote part of the country.\n",
      "1392590490680406025 2021-05-13 04:20:20 +0700 <GenlCounNews> Littler Survey: Employees Want Remote and Hybrid Work More Than Employers Do  https://t.co/SaRlcRFqN2\n",
      "1392590456912072704 2021-05-13 04:20:12 +0700 <CapitolPresence> Remote work’s lookin reaaaal good right about now #workwherever #gas  https://t.co/VKYZLNenh3  https://t.co/jqXyeo3WAd\n",
      "1392590337554534400 2021-05-13 04:19:44 +0700 <InstillCulture> @AdamMGrant Completely agree.  We need blocked time and fewer interruptions throughout the day. This will be a key area to manage for #remotework.  That said, we believe that WFH during a pandemic vs. regular WFH are two different things.\n",
      "1392590216016269316 2021-05-13 04:19:15 +0700 <incluzion> ⭐New Remote Job on Incluzion -👩🏾‍💻- Customer Service Manager⭐: 🏢Company Name: Benetech | 🚀Job Type: All Others | 🌎Hiring From: Remote; Palo Alto, CA | 💰Salary: D.O.E.  https://t.co/5Xg2JSXLjQ #remotework #remotejobs #wfh\n",
      "1392590205555671041 2021-05-13 04:19:12 +0700 <incluzion> ⭐New Remote Job on Incluzion -👩🏾‍💻- Digital Content Manager⭐: 🏢Company Name: Benetech | 🚀Job Type: All Others | 🌎Hiring From: Remote; Palo Alto, CA | 💰Salary: D.O.E.  https://t.co/uSn181KFTO #remotework #remotejobs #wfh\n",
      "1392590151390429184 2021-05-13 04:18:59 +0700 <BMLIFE2370> おはようございます。今日も顔笑りましょう😀外は雨模様なので本日は家に籠っていつものように Remote Work With ＃BABYMETAL DEATH 🤘🦊良き一日を‼😀🌸🍅link- https://t.co/QOsyTY7Rds\n",
      "1392589944229662721 2021-05-13 04:18:10 +0700 <jilleduffy> UGH 1st: remote work is not new  2nd: What you've been doing during this global pandemic? It's not remote work. It's surviving a pandemic  https://t.co/3TjPnq89qa  3rd: Remote work isn't limited to ppl who are \"tech-savvy enough to do it.\" GROAN!  https://t.co/kDhn2PSTLR\n",
      "1392589913279934464 2021-05-13 04:18:03 +0700 <Xoriant> A surge in remote working has focused on cloud services to support work-from-home requirements, maintain business continuity and build business resilience.  Source @Gartner_inc   via @antgrasso    https://t.co/oFg9me8uaX   #RemoteWorking #CloudComputing  #cloud #automation  https://t.co/6W8WtRHHWz\n",
      "1392589907361677323 2021-05-13 04:18:01 +0700 <WLHpodcast> Is your remote team compensated for their time? Or the work they produce? What if they find a way on their own to be more productive? What if they can create more value by working shorter, smarter hours? Fascinating, right?   https://t.co/BYsz9Ilwrg\n",
      "1392589771675901953 2021-05-13 04:17:29 +0700 <amymacbiologist> #bear #postdoc #blackbear #job  Developing Close-Kin #MarkRecapture Methods to #Monitor Black Bear #Populations apply by June 1 #Mississippi #USA (#remotework negotiable)  https://t.co/6ZFQoTcQvi  https://t.co/f8CTUfdCzs\n",
      "1392589770262409220 2021-05-13 04:17:28 +0700 <joelgarry> San Diego employers are mostly not allowing remote work post-pandemic, report finds  https://t.co/LBuKA62Onw\n",
      "1392589649999138817 2021-05-13 04:17:00 +0700 <HRCurator> Author Talks: Tsedal Neeley on why remote work is here to stay—and how to get it right  https://t.co/vEFZqzJ3fA via @McKinsey #RW #WFH #FutureofWork\n",
      "1392589615744393220 2021-05-13 04:16:52 +0700 <ScalablePath> We are #hiring a Full Stack Node/React Developer to join the team and work on a client project! This is a remote, part-time position (approximately 4 hours/day) with the potential of becoming full-time. If you're qualified for the role, apply here:   https://t.co/EVSeuokd0V  https://t.co/R4A7N6Y1QF\n",
      "1392589519522779137 2021-05-13 04:16:29 +0700 <tedmccrann> @Adam_Karpiak no, but i have found that creatives tend to do better as a group vs accounting or something.  They can work remote forever but some people need other people in the room.  I still feel that bullpens make better recruiters than zoom does.  not arguing, just engaging and learning\n",
      "1392589516829913089 2021-05-13 04:16:28 +0700 <miraoberman> First day of remote learning with two 7 yo.  Cannot fathom how my friends in the US did this for a full year.  Or how people without privilege (flexible work, multiple devices) function at all.  Please #GetVaccinated and #StayHome\n",
      "1392589181474549761 2021-05-13 04:15:08 +0700 <Allwork_space> You can't miss the world's largest #remotework conference: @RunningRemote  #RunningRemote will teach you next-level, actionable strategies &amp; tactics you can utilize the very next day to manage &amp; grow your #remoteteam. 👉🏼  https://t.co/vIuopUcQNi 📅 May 21 🤑 -20% \"allworkspace\"\n",
      "1392589164365893633 2021-05-13 04:15:04 +0700 <attnyatwork> Product Spotlight: The New Standard for Law Firm Collaboration. @MyCaseInc Law firms are in the midst of a remote working revolution.  https://t.co/y29lxV9YRl #MyCase  https://t.co/IcbtUTkQMe\n",
      "1392589158510645249 2021-05-13 04:15:03 +0700 <WantRemoteJob> New #remote #job Senior Build Engineer at @firefox  https://t.co/bdESPRWmmC #remotework #vacancy #hiring #workfromhome\n",
      "1392589101744807936 2021-05-13 04:14:49 +0700 <teaaddict13> @Shaylove68Brown @JoannaConn3lly @WSJ Thank you. I’m in talent acquisition &amp; I’ve been pushing for remote work w/hiring managers for years. The pandemic has validated what most in recruiting have been saying for a long time. If your company cannot remain flexible, it’s a candidate’s market out there &amp; you will lose.  https://t.co/j0Lp42StUD\n",
      "1392589065552371712 2021-05-13 04:14:40 +0700 <ZoeSHarte> The good news is that many companies have come to realize their worst fears about #RemoteWork have not come true, and there are many things about remote work that improved engagement, productivity and more. @HRExecMag  https://t.co/LV7btPelKm\n",
      "1392588916658683907 2021-05-13 04:14:05 +0700 <kivil> @liet Bin defa dedik: Bu uzaktan çalışma değil, bu evden çalışma bile değil Bu pandemi şartları altında, aç kalmak ve ölmek arasında tercih yapmamak için zorunlu olarak evde çalışma. Hala buna \"remote work\" diyip nasıl istatistik yapıyorlar!\n",
      "1392588809519329280 2021-05-13 04:13:39 +0700 <TravisFischer> Conference room meetings with remote attendees up on the wall are one of the greatest anti-patterns for effective collaboration in a distributed work world.   As we head into the hybrid remote/office phase of going back to work, do your part to kill this practice with fire.\n",
      "1392588738765676549 2021-05-13 04:13:23 +0700 <food_enjoyer> Remote work isn’t a new concept and an office culture that breeds this feeling is shit anyway. Terrible article. Remote work rules and is the way of the future.\n",
      "1392588670880780289 2021-05-13 04:13:06 +0700 <AllOfItWNYC> @EightTons @SirPatStew Yup. Remote work strikes. Fixing it.\n",
      "1392588661376626689 2021-05-13 04:13:04 +0700 <Allwork_space> If you’re a #remoteworker eager for a fresh start, you’re not alone. Follow our tips, and you are sure to make your move in the most seamless and sustainable manner possible. &gt;&gt;&gt;  https://t.co/5VkRYJMWd8  #remotework #wfh #worknearhome #workfromanywhere #workingremotely  https://t.co/BaXvNQTunh\n",
      "1392588659786977285 2021-05-13 04:13:04 +0700 <Allwork_space> #WORKPLACECULTURE: WHY NOW IS THE TIME TO RETHINK YOUR OFFICE 🚀 In a world where #remotework is commonplace, is #companyculture still relevant? &gt;&gt;&gt;  https://t.co/cHmgI5jFzO  #workplace #employeeengagement #management #remoteleadership #officespace @officeprinciple  https://t.co/X6OJCfKV14\n",
      "1392588566941814788 2021-05-13 04:12:42 +0700 <AllOfItWNYC> @BestMarkMiller @WilliamShatner @SirPatStew Thank you for being so gracious about this. Remote work strikes again. None of us are in the same room. We are working to fix it. And I'd like to say Mark, you have excellent social media manners. You could teach a course in Twitter etiquette. (If there is such a thing....)\n",
      "1392588188154224640 2021-05-13 04:11:11 +0700 <meredithnudo> This. I never want to work in an office again unless I'm on a business trip. Remote + flex hours is the best thing to ever happen to my mental health, energy levels, and productivity.   I'm not job hunting now, but if I ever had to, remote + flex will be non-negotiable.\n",
      "1392588152603348995 2021-05-13 04:11:03 +0700 <ilovearlingtonv> Amid Local Tech Boom and Rise of Remote Work, New Planning Director Charts Arlington’s Future    https://t.co/6BGkrmeIpR #ArlingtonVA  https://t.co/HB1lkmk8rU\n",
      "1392588061918187520 2021-05-13 04:10:41 +0700 <HellerHeat> Who else has been stuck in an IT labyrinth with a PC that won’t work and your remote in a new job? This guyeeeeee\n",
      "1392587932154929160 2021-05-13 04:10:10 +0700 <mr_txstbobcat> This Harvard Professor Reveals The Secret Sauce For Remote Work - And It Has Nothing To Do With Zoom  https://t.co/gDqGp2P63x  https://t.co/oPJfdkrzpz\n",
      "1392587751200018442 2021-05-13 04:09:27 +0700 <ExecuSource_> Onboarding a #remote employee is more challenging than doing it in-person.  The goals, however, remain the same 👇  #WFH #WorkingFromHome #RemoteWork  https://t.co/GkGTgBNOlB\n",
      "1392587650402504707 2021-05-13 04:09:03 +0700 <kellyland_mmm> Social Media Work from Jobs – List of Who Hires   https://t.co/EIVVpRXEJm  #workathome #remotework  https://t.co/0B8oidSTTZ\n",
      "1392587573973987333 2021-05-13 04:08:45 +0700 <tah18> @Megan_Cossey @AGZimmerman @the_zim I understood this last spring 2020, but at some point, NYC families who live and work in the city should no longer be expected to accommodate people who have chosen to relocate (and I know of quite a few).  Can't extend remote learning just for this\n",
      "1392587384932372480 2021-05-13 04:08:00 +0700 <AndySpence> The History of Remote Work  A quick look back before we zoom too far into the future...   https://t.co/4SxOJDfxj6\n",
      "1392587146188541958 2021-05-13 04:07:03 +0700 <RealizedWorth> Make working from home work for you, with these tips and tricks from the completely remote team here at RW!   #WFH #CSR #remoteworkers  https://t.co/pHxJcXLtyQ\n",
      "1392586989233393670 2021-05-13 04:06:25 +0700 <AbelNun19030291> Google Relaxes Its Remote Work Policy, Allowing 20% Of Workers To Work From Home  https://t.co/sqp3ub50gc  Join #ecoin #earnbysharingnews  https://t.co/Spnb0oTrVR\n",
      "1392586925681348614 2021-05-13 04:06:10 +0700 <Blogging__Guide> 7 Useful Tips to Help Remote Workers Cope | Blogging Guide  https://t.co/K6J3oQqeJ9 #remotework #wfh #productivity #bloggingguide #medium #writer #freelancer #health\n",
      "1392586896002355201 2021-05-13 04:06:03 +0700 <JEDC_Juneau> Remote work has seen an expansion in past years, and many organizations and businesses transitioned to remote work during the pandemic. Juneau is a great location for remote workers to relocate to, and this would benefit Juneau's economy. #ChooseJuneau #RemoteWork #JEDCInsight  https://t.co/9mpy2Bdxcz\n",
      "1392586877501382658 2021-05-13 04:05:59 +0700 <compa_as> If you're building your remote/hybrid work tech infrastructure, reach out to @Compa_as to discuss remote compensation and tools - We'd love to connect! @SHRM #HR #HRleadership #RemoteWork #WFH #HybridWork #FutureOfWork  https://t.co/pv3QtRNdqx\n",
      "1392586825198448640 2021-05-13 04:05:46 +0700 <LeadtoEnergize> What are you doing differently to connect with your remote workers?  I am scheduling more one-on-one meetings so that I can support our Coaches to overcome the barriers they encounter and make sure they feel cared about.  #leadershipcoaching #remotework #virtualwork\n",
      "1392586781887971331 2021-05-13 04:05:36 +0700 <weworkremotely> 🌏 New Remote Job! Simple Thread: Experienced Visual Designer   https://t.co/o0Zy7w0A1p #remotework\n",
      "1392586771322609668 2021-05-13 04:05:33 +0700 <gulfladee> A new program highlighted on Axios is working to bring broadband access to families in need of internet access during a time of increased #remotework and #virtuallearning. Learn more on the new program and the 825 broadband providers participating:  https://t.co/AOAzoPEmQk  https://t.co/EVJnlAhESn\n",
      "1392586462172909569 2021-05-13 04:04:20 +0700 <barracudacore> @burntbreakfast_ @rlysrslit has one contest wrapping up on 05/18 to get your work printed on a coffee mug. Next month we’re opening up for a Taco Bell chapbook/remote residency contest where the winner gets a $300 gift card. Check us out!\n",
      "1392586322590806023 2021-05-13 04:03:46 +0700 <remotecircle> New Remote Job! Simple Thread: Experienced Visual Designer   https://t.co/v7vTyl1azF  #remotework #weworkremotely\n",
      "1392586241254768640 2021-05-13 04:03:27 +0700 <CPark_1985> We don’t need offices anymore. Remote work is where it’s at...\n",
      "1392586130508460036 2021-05-13 04:03:01 +0700 <RicohTweets> 2020 taught us that informal \"water cooler\" moments play a large role in connecting people &amp; team building. Join Ricoh @Eagles @TexasLonghorns &amp; @TeamHendrick to learn why communication, transparency &amp; creativity are key in #remotework.  https://t.co/Gf0i4atJdL #FocusOnForward  https://t.co/JksGEOYMTE\n",
      "1392586129984139267 2021-05-13 04:03:01 +0700 <JoyceAMullen> The transformed work environment ushered in a new paradigm that requires all organizations to take a hard look at how they’ll address remote and anywhere work in the future. #FutureOfWork  Use the Lessons of 2020 to Create Your Anywhere-Work Strategy ➡️  https://t.co/Qy4oOJ5E8R  https://t.co/U1RfZ8F9rO\n",
      "1392586070248853506 2021-05-13 04:02:46 +0700 <RemoteWorkNews> Offices can reopen May 24 in Michigan – but don't expect traffic jams  https://t.co/9CSNona58i\n",
      "1392586065261772802 2021-05-13 04:02:45 +0700 <RemoteWorkNews> WeWork's CEO said people who are most comfortable working from home are the 'least engaged ...  https://t.co/ESowhBrRbY\n",
      "1392586061239422976 2021-05-13 04:02:44 +0700 <RemoteWorkNews> Remote work expert weighs in on post-pandemic office trends  https://t.co/ipgIVgM8Ab\n",
      "1392586056994807809 2021-05-13 04:02:43 +0700 <RemoteWorkNews> Training Underway in Remote Ready Hawaiʻi Pilot Program  https://t.co/6b81YWua4p\n",
      "1392586025923317763 2021-05-13 04:02:36 +0700 <Spherion_PAjobs> With a patchwork of conflicting public-health guidelines, remote working-related stress, work-life imbalances and health concerns factored in, it is no surprise workers are worn out. What can we do to help?  #spherionpajobs #workplacetrends  https://t.co/hg9ipGRzSu\n",
      "1392585875402346496 2021-05-13 04:02:00 +0700 <CoolpoVideo> Did you know... with Coolpo Tools, you can control its #360Camera. #hybridlearning #education #remotework #remoteworking #wfh #wfa #videoconference #meetings #business #Coolpo #intelligence #Wednesday #Wednesdaymorining #Wednesdays #B2B #marketing  https://t.co/nkbTQR7ZT9\n",
      "1392585839255855104 2021-05-13 04:01:51 +0700 <henryoloughlin> @JonLevyTLB I agree that hybrid won't work but I think remote will win out, not office.  One force you didn't cover is the access to talent.  Companies can hire 1 of 8 million people in NYC, or 1 of 300+ million across the country. They'll choose the bigger talent pool (remote).\n",
      "1392585677209014276 2021-05-13 04:01:13 +0700 <VuejsJob> 🔥 @VUEJS FREELANCE WANTED!  🏢 HereTask 🇦🇺 Gold Coast QLD, Australia, Remote Allowed   https://t.co/aCUGziPoj3  #vuejs #vuejobs #australia #remotework\n",
      "1392585596514803713 2021-05-13 04:00:53 +0700 <weworkremotely> 🌏 New Remote Job! Shogun: Principal Data Engineer   https://t.co/Re3S1hRVJv #remotework\n",
      "1392585583554404354 2021-05-13 04:00:50 +0700 <screencasto> If you need ideas to incorporate video into your business, here's a guide to help you. Video can help increase communication and collaboration in the workplace. Use video to provide updates, demos, and more! #remotework #remoteworkers #businesssolution  https://t.co/qfV2hq75kY  https://t.co/wmg7hkg2RY\n",
      "1392585574633050117 2021-05-13 04:00:48 +0700 <TheBOSSNetwork> From Remote Work to Hybrid Work: The Tech You’ll Need to Link Home and Office @WSJ  https://t.co/Mt59j3iXiF #BOSSTip\n",
      "1392585533235372036 2021-05-13 04:00:38 +0700 <Lulvslouis> @iPUBERTBELLA Join @markbowker &amp; Adam Lotz's discussion on how #DaaS is enabling business agility &amp; secure remote work. Learn more about what services like Citrix Virtual Apps &amp; Desktops can do for your organization!\n",
      "1392585511445975041 2021-05-13 04:00:33 +0700 <nodeskco> .@articulate is hiring remote!  Articulate's got an exciting opportunity for a Senior Product Designer to join their talented team.  Apply now 👇  https://t.co/AEvC6trric #remotework #remotejobs\n",
      "1392585510514831360 2021-05-13 04:00:33 +0700 <howtoproject> Profit isn't about making more money. It's about keeping more money.  #howtoproject #cashflow #workfromhome #remotework #projectmanagement #employee #team #businesstips #hire  https://t.co/XGGY3jjfzR\n",
      "1392585508958744581 2021-05-13 04:00:32 +0700 <itsherhub> 𝗡𝗢𝗪 𝗛𝗜𝗥𝗜𝗡𝗚 𝗥𝗘𝗠𝗢𝗧𝗘 + Job: Senior Content Executive🖥️      + Company: SEO Agency💻     + Full-time⏰  + Remote, United Kingdom📍 + Pay: Unspecified💰  🔗:  https://t.co/yqrDazhRqa  #remotejobs  #workfromhome #remotework #workfromhomejob #remotejob\n",
      "1392585441921191937 2021-05-13 04:00:16 +0700 <MomentLightbulb> In Episode 044 - Converting Seminars To Virtual, With Todd Brown, @LightbulbJo chats with a master productivity expert @gtdintheuk about pivoting to virtual.  Listen here -  https://t.co/MkIMjF3hA1  #VirtualClassroom #RemoteWork #VILT #Webinar #LiveOnlineLearning #Podcast  https://t.co/koCTQ2KAXQ\n",
      "1392585431103967240 2021-05-13 04:00:14 +0700 <careersingov> Many companies were forced to move to remote work this past year, and many did so with great success. So is it here to stay? @SaaSBPM breaks down what you need to know. #remotework #workfromhome #flexiblework  https://t.co/UQ7LWNB4QG\n",
      "1392585399814529026 2021-05-13 04:00:06 +0700 <Adam_Pinnacle> Seeking UI/UX Developer for 6 month contract. Indianapolis but can be remote. Work with Adobe XD and HTML/CSS. DM me if interested.\n",
      "1392585393627963394 2021-05-13 04:00:05 +0700 <LuigiIacobellis> Want to learn how to restore a deleted file in #MicrosoftTeams ? Check out this tutorial!    https://t.co/kxpEqV8xwm #Microsoft #Microsoft365 #Office365 #MSFT #MSTeams #Remotework #MicrosoftEDU #YouTube #Howto #Tutorials #SharePoint #SharePointOnline\n",
      "1392585389085532166 2021-05-13 04:00:04 +0700 <andreaszutenbac> #remotework #productivity  https://t.co/S3o9OGN7Ag\n",
      "1392585372459229188 2021-05-13 04:00:00 +0700 <BrightfulHQ> More Americans returning to the office but remote work is here to stay @NBCMontana -  https://t.co/U6dus11oow #remotework #remoteworking #remotejobs\n",
      "1392585301785260033 2021-05-13 03:59:43 +0700 <cljohnst> A recent @Kforce survey found that 63 percent of respondents would be “very likely” to move if given the opportunity to transition fully to remote work. Still, employees crave connection and flexibility.  https://t.co/dgBw8xqXRd via @stpetecatalyst\n",
      "1392585262883086342 2021-05-13 03:59:34 +0700 <ARLnowDOTcom> Arlington's new planning director is charting a path for the county amid Amazon and tech-fueled growth, remote work, and rising housing costs  https://t.co/MIEIq5z7c8\n",
      "1392585255815684096 2021-05-13 03:59:32 +0700 <twicetheMF> @B_REInvest I lowkey think something similar is coming. Think folks are going to start putting a premium on smaller, more secluded communities where all the necessities come from known sources (your neighbors) and remote work will enable more folks to choose that\n",
      "1392585174689452034 2021-05-13 03:59:13 +0700 <GeorgeRatiu> And here, Americans have spoken quite clearly this year - a majority prefer #remotework for many reasons  https://t.co/sAcni6RI9d\n",
      "1392585156435714052 2021-05-13 03:59:08 +0700 <andrewthesmart> i think the recent outbursts of panic among CEOs about remote work indicate something which social critics have long known; companies are not really only about profit or making money - it's about social control, exercising authority, imposing a hierarchy on social relations.\n",
      "1392585128954810370 2021-05-13 03:59:02 +0700 <remotecircle> New Remote Job! Shogun: Principal Data Engineer   https://t.co/IKG5zb12CI  #remotework #weworkremotely\n",
      "1392585110407553037 2021-05-13 03:58:57 +0700 <theHRtalent> A post-pandemic, digitally-enabled work organization brings with it profound HR transformation including innovative job design, new digital competencies, remote work, transformed work relationships, new functional units, new positions and new management p… https://t.co/TsB5XlPJze\n",
      "1392585082318200836 2021-05-13 03:58:51 +0700 <yashara> Well this is a very self-serving \"analysis\" that @WeWork CEO is touting. Does he not know that #remotework has been shown to be far more effective statistically? This is based on over 800,000 EE's  https://t.co/heI0x2m5Cb\n",
      "1392585054807896064 2021-05-13 03:58:44 +0700 <remoteworkhub> Senior Software QA Engineer at Tenfold (Remote Job)  https://t.co/S3vbP12IO5 #remotework #remotejob #digitalnomad\n",
      "1392584947148496897 2021-05-13 03:58:19 +0700 <GeorgeRatiu> On #remotework, it seems that Google has spoken: “The future of work is flexibility,” Mr. Pichai said. He said the changes aimed to help staff do their best work.  https://t.co/CzFmPhvpIO\n",
      "1392584731573723136 2021-05-13 03:57:27 +0700 <thesleepybandit> if you don't trust your people to get the job done from home just say that. if remote/hybrid work models make it harder for you to ignore that your employees are people with other (dare i say higher) priorities than this job just say that.\n",
      "1392584704499408896 2021-05-13 03:57:21 +0700 <Eeeszy> @suldrew @Ahsha_Safai Yes! Many of us need to work, study, or take care of kids - and without remote we were excluded from the most impactful commenting.\n",
      "1392584632063901696 2021-05-13 03:57:03 +0700 <Rtyson18> @comcastcareers Who could i get in contact to ask about remote jobs? I live in the US but i will be moving to Honduras soon. I was wondering if i could work from another country online.\n",
      "1392584513537052674 2021-05-13 03:56:35 +0700 <issa__streamer> @papichamplu No degrees, just certificates so it's not expensive and most jobs start u at like 14hr in FL, and there's remote work so it's a W for me and my needs rn\n",
      "1392584447388700678 2021-05-13 03:56:19 +0700 <rquickenden> Microsoft 365 admin center network connectivity is now generally available (that means released to all).  #microsoft365 #connectivity #enterprisenetwork #sdwan #remotework #hybridwork   https://t.co/yNfpIJ6FOA\n",
      "1392584083826528259 2021-05-13 03:54:53 +0700 <AllOfItWNYC> @BestMarkMiller @WilliamShatner @SirPatStew I know. I know. The perils of remote work strike again. None of us are in the same room.  Trying to fix now.  Gotta say Mark ...THANK YOU for being so gracious.  You should run a Twitter manners course!\n",
      "1392583780590931979 2021-05-13 03:53:40 +0700 <mintulipames> @elliotsang @artisqueer Bachelors in biology  Wanted to pursue medicine  But doing my MBA Currently  With concentration in Healthcare analytics  Looking for work in Texas and to build up my resume Completely okay with remote work for outside of Texas as well\n",
      "1392583746696753152 2021-05-13 03:53:32 +0700 <issielapowsky> For all the talk of remote work being just fine (and I do a lot of that talking) there is something to be said for shoe leather reporting and @BrendanBordelon proved that today, for sure.\n",
      "1392583695488401409 2021-05-13 03:53:20 +0700 <hippyadam> @UselessLuke @p1anetmatt @shrimp3r @JimsterSeventy1 @Gray_1x @TheNaughtyJay Think reading about dickhead bosses insisting on 8 hour surveillance of staff via webcam permanently put me off the idea tbh. If you can't trust your staff to work unsupervised you've got bigger problems than remote working imho.\n",
      "1392583461739827204 2021-05-13 03:52:24 +0700 <weworkremotely> 🌏 New Remote Job!  Sparkle CMS: Front End Dev with Strong CSS skills (remote)  at   https://t.co/thK5QzhdEy  #remotework\n",
      "1392583279975575552 2021-05-13 03:51:41 +0700 <vsystemsUSA> Now that your team has proven #remotework is a viable option, are you sure you can sustain it securely for the long haul? Learn more -  https://t.co/dwMJ3BlXHp  https://t.co/JXQdGSaF2i\n",
      "1392583237545906179 2021-05-13 03:51:31 +0700 <semtexsue> @Lostock_Henge @MrTRoach He's a cock. I worked full time as a teacher all the way through. Mainly cos my ex head was, well I can't say without being unprofessional but he insisted we all work full time as well as delivering remote learning. The fear and anxiety nearly led to a breakdown.\n",
      "1392583205002358788 2021-05-13 03:51:23 +0700 <Cesar_Mdla> Remote operations are here to stay! Manufacturers everywhere are redesigning their operations to accommodate remote experts and dispersed teams. Cisco Secure Remote Work can help - Learn more! @CiscoGateway  https://t.co/z8t4f0yKuB  https://t.co/ngJLXYE5Ra\n",
      "1392583196873674754 2021-05-13 03:51:21 +0700 <teaaddict13> Erica Larson tells @WSJ there is an easy way for potential employees to spot toxic companies to work at and this is it.   WeWork offices are like an assault to the senses and can be hell to work in depending on which disability someone has. Embrace remote work or lose talent.\n",
      "1392583118784192517 2021-05-13 03:51:03 +0700 <voodleme> Remote working tip: It gets really easy to blur the lines between home and work. To help with this, schedule lunch time in your calendar to remind yourself to step away from the computer and get some fresh air… &amp; then Voodle about it 😉   #voodleme #remotework #hybridwork\n",
      "1392583051813740552 2021-05-13 03:50:47 +0700 <pattyjburns> @Tocelot This is why we created @Commons__. The remote/hybrid work conundrum is ultimately a social networking problem -- I.e how can we make it as easy to connect online as we do irl\n",
      "1392582980720287749 2021-05-13 03:50:30 +0700 <art_bechstein> @WSJ This is hilariously false.  Remote workers have one metric attached to their value: their output.  People who like to hang around offices want credit for their attendance, as if their presence has inherent value, regardless of the quality or quantity of their work.\n",
      "1392582873165799425 2021-05-13 03:50:04 +0700 <mjbensi> Despite what it may seem, remote work makes teamwork even more important — which makes considering team fit even more important.  https://t.co/CZ9ocxt1nb  https://t.co/ulsvVC5ty8\n",
      "1392582605850173442 2021-05-13 03:49:00 +0700 <BKing_Esq> @mshookhoover Remote supervising tip: do weekly check-ins (if law clerk needs more work, how’s life, etc.); ask if clerk needs writing sample; make sure atty’s/clerk’s goals are met\n",
      "1392582415239974913 2021-05-13 03:48:15 +0700 <yoheinakajima> The Unbundling of Google Workspace  With the rise of remote work, we saw a huge uptick in collaboration tools, a space I'm tracking closely.  Sharing some interesting trends/startups 👇\n",
      "1392582378271428610 2021-05-13 03:48:06 +0700 <mg_co_cpa> ❓ Are you still setting up physical meetings with your accountant? 58% of SMBs don’t demand meeting their accountants face-to-face anymore.   Read more amusing accounting facts here:  👉🏼  https://t.co/XKy1K3h2ew   #MGCo #AccountingStatistics #Accountant #SMB #RemoteWork  https://t.co/WNoYLDt4Jm\n",
      "1392582356125589506 2021-05-13 03:48:01 +0700 <skaragiannis> @NovaGreece @LinkedIn @privacyint This is an email client, what you’re saying makes no sense. The link is badly formed   There might be a tracking code in an unsubscribe link, I understand this, so you identify the email that needs to be unsubscribed  But this should not lead to a LinkedIn page. Check your code\n",
      "1392582149287600130 2021-05-13 03:47:11 +0700 <prionflux> @ecothreat 👀 omfg these remote tech and media workers are going to be the death!  I wanna move back south so bad and have for quite a while but like... what am I gonna do, work at a grocery store?  Btw have you seen rent in avl recently?! It’s insane\n",
      "1392581966625656834 2021-05-13 03:46:28 +0700 <simplicio823> @Noahpinion The WeWork CEO is against remote work?\n",
      "1392581691869433868 2021-05-13 03:45:22 +0700 <IndieHackers> ✉️ Newsletters for remote work: - Prosper Circle: Remote jobs at the most exciting companies in the world, sent to your inbox — all handpicked by @salilsethi. Free. - Remote Weekly: AI collects hundreds of work from home jobs per week (weeding out the garbage). Freemium.\n",
      "1392581687754821635 2021-05-13 03:45:21 +0700 <IndieHackers> 📋 Job boards (cont…) - Remote Hunt: A job board with a newsletter that helps people find remote work that fits their personality. - Reddit: Check out r/forhire, r/WorkOnline, r/HireaWriter, and other subreddits. - Remotewx: This is a remote work aggregator by @remotewxcom.\n",
      "1392581686337093637 2021-05-13 03:45:21 +0700 <IndieHackers> 📋 Job boards (cont…) - We Work Remotely: The largest remote work community in the world. Job listings are pricey so every gig listed is a serious opportunity. - NoDesk: Free for job seekers. It has remote jobs for developers, designers, customer support, product, and more.\n",
      "1392581685007507458 2021-05-13 03:45:21 +0700 <IndieHackers> 📋 Job boards (cont…) - Working Nomads: Remote-only job board with a focus on developers. Also has jobs in marketing, writing, sales, etc. - Workew: Workew aims to provide people with long-term remote work-from-home opportunities.\n",
      "1392581669945847813 2021-05-13 03:45:17 +0700 <IndieHackers> 🛠 General (cont…) - Outsourcely: Very freelancer-friendly. And it focuses on long-term remote work opportunities. Their cut: Freemium. - Hacker News: There’s a monthly post where people can comment with freelance positions. Link in article. - Lots more in the original article.\n",
      "1392581505772367872 2021-05-13 03:44:38 +0700 <c4men> @MunkinArts @GlobeIdeas @JonLevyTLB This article is so out-of-touch with the new reality.  The world is changed forever. And we just had a year-plus sample size of effective remote work.  The companies that force people back for the sake of it will be the ones losing top talent in droves.\n",
      "1392581278386593794 2021-05-13 03:43:44 +0700 <PlunkettCiara> @irishcongress Social Policy Officer, @drbambrick, joins me on #KildareFocus @kfmradio on Thursday, on ICTU's  submission on the right to request remote working &amp; its warning that people doing so could have to accept work rate tracking tech  #TuneIn from 2  https://t.co/sls56ulkar\n",
      "1392581192797593604 2021-05-13 03:43:23 +0700 <VictorBlaga87> @WSJ Commercial real estate will fight remote work trend tooth and nail. They can't afford allowing remote work to become a thing.\n",
      "1392581052154187783 2021-05-13 03:42:50 +0700 <MackinacCenter> State Claims Business Groups Involved In Permanent Mask Mandates They Strongly Oppose | Workplace regulators want masks, health monitoring, social distancing and remote work going forward   https://t.co/t4X1g4JI39\n",
      "1392580734725074948 2021-05-13 03:41:34 +0700 <alexzub_io> @caelanhuntress @cornett So many managers (and managers of managers) are used to presenteeism, rewarding employees to be at their desks 9 to 5, looking busy while not getting much done.  Completely getting rid of that practice is what I love in remote work and fully-distributed teams!\n",
      "1392580429140664328 2021-05-13 03:40:21 +0700 <ActiveBatch> Monitor and manage critical #workloads from anywhere with ActiveBatch MobileOps  https://t.co/KE4YT0gNZh #remotework  https://t.co/XzQrBZlfGt\n",
      "1392580417547472896 2021-05-13 03:40:19 +0700 <JobTripper> ⚡Barn2 Plugins have an opening for a Senior WordPress Plugin Developer (remote)  Fully remote! Based in 🇬🇧 UK   https://t.co/MV7JGOkNZ6  #php #css #freelance #javascript #remote #job #remotework\n",
      "1392580355031437313 2021-05-13 03:40:04 +0700 <Citrine_io> The @Citrine_io team is looking for a Data Analysis Engineer to work with our customers to solve challenging problems at the intersection of materials science and machine learning. Learn more about the role here. #hiring #remote #stemjobs #techjobs  https://t.co/iALTDJcjS9\n",
      "1392580348857491457 2021-05-13 03:40:02 +0700 <Paylocity> Join Paylocity &amp; Checkr at 10 AM PT on May 19th for a candid conversation to learn more about setting your organization up for success when it comes to #remotework and employee flexibility.  Claim Your Spot Now:  https://t.co/p4uIU3DjXI   #PCTYPartners  https://t.co/ml9hY0KEQ4\n",
      "1392580338430353408 2021-05-13 03:40:00 +0700 <BitcoinerJobs> Another great opportunity for you #Rust Devs out there!  @lnp_bp Standards Association is hiring a Rust Developer to work on the RGB protocol and LNP/BP tech stack!   Based in Switzerland OR Remote!  Check it out! 👇  #Bitcoin #BitcoinerJobs    https://t.co/Veifqsiqt4\n",
      "1392580145467232257 2021-05-13 03:39:14 +0700 <eltorodk> @_holyshift @polotek Very true - also. More collaboration does not equal less work. Capitalism is the reason all these remote workers still have a job\n",
      "1392580126014119936 2021-05-13 03:39:09 +0700 <madsbrodt> @elbasfar10 I think remote work is definitely more difficult, since you're competing with literally everyone. That means companies/recruiters can expect more from the applicants 🤔\n",
      "1392580029561937920 2021-05-13 03:38:46 +0700 <weworkremotely> New Remote Job! Mighty Digits: Senior Full-Stack Django Developer  https://t.co/oNQvJVlS90 #remotework\n",
      "1392579908254187525 2021-05-13 03:38:17 +0700 <bnshdd> Im tired of faking sleep or for the remote not to work faj2a\n",
      "1392579814498963471 2021-05-13 03:37:55 +0700 <QuarterbacThe> A short list of things that love pulling a Houdini:  Chapstick  Pens at work Remote Lighter Keys That other sock That one thing in the fridge/pantry Me, 15 mins before my shift over\n",
      "1392579751575961600 2021-05-13 03:37:40 +0700 <lonelyaguacate> I don’t get it we all work remote now who cares if you don’t have gas\n",
      "1392579308204400640 2021-05-13 03:35:54 +0700 <remote_work20> 情シスのリモートワークお困り事　「運用管理あるある」をなくすIT基盤とは？  #リモート実務検定\n",
      "1392579247458295808 2021-05-13 03:35:40 +0700 <KxBenson> @r0wdy_ Yup and it sucks because people tend to leave rural for cities. I am interested to see how much that changes if/when places continue to support remote work.\n",
      "1392578919107153926 2021-05-13 03:34:21 +0700 <ERE_net> Executive Recruiter at BOB Search (Anywhere): Executive Recruiter - Aerospace &amp; Defense Retained Executive Search Firm Remote work opportunity Base salary plus commission and bonus offered. Boyle...  https://t.co/HEdBSgEcFs\n",
      "1392578845459447811 2021-05-13 03:34:04 +0700 <Nerfman55> Let's connect to discuss how #virtualdesktop infrastructure can help your #stateandlocal or #federal agencies with #remotework — and whatever comes next! #VDI #futureofwork @StateTech #cdwsocial  https://t.co/6IKTpNGzog  https://t.co/cRdKqVcENe\n",
      "1392578824194379778 2021-05-13 03:33:59 +0700 <rmknuth> Come work with me at @wicket_io! We’re one of Ottawa's fastest growing companies, and Great Place To Work Certified.  We have remote positions in Canada available for DevOps and Developers.  Check out our postings at  https://t.co/lMFFTdfJUB and let me know if interested.\n",
      "1392578668141191169 2021-05-13 03:33:22 +0700 <FionaSmall> @PlainProcess @GerardAraud The housing crisis is multi-faceted. The change to remote work will move the necessity from people having to live in Dublin, where the cost and demand was very high.\n",
      "1392578665767178252 2021-05-13 03:33:21 +0700 <securitrons> specifically the fear of being perceived that is SO bad even remote work doesn't help\n",
      "1392578436875669504 2021-05-13 03:32:26 +0700 <imoldandlame> My disabilities, social anxiety, and very introverted personality don’t make me not engaged just because wfh is much better for me. I honestly work better from home for many reasons. Fuck off trying to basically call those of us who want to stay remote lazy.\n",
      "1392578291559591937 2021-05-13 03:31:52 +0700 <EgyptianMuse> Sitting on zoom meetings watching people get excited to soon return to onsite work is like watching the people get excited to board the Titanic #remotework #WorkFromAnywhere #work\n",
      "1392578215877677056 2021-05-13 03:31:34 +0700 <RoryTyer> Latest exhibit of a CEO exhibiting socially unaware leadership &amp; communication. There’s a nuanced conversation to be had about the pros and cons of remote work but this is just not helpful.\n",
      "1392578206335709186 2021-05-13 03:31:31 +0700 <BeanworksAP> “There’s less overtime in accounting and we’re happy about that.” – Alabama’s @FlyHSV airport is showing us how airports can adapt in the age of remote work.  https://t.co/pFXtoZ2mex #accounting #automation #cloud #huntsville #alabama\n",
      "1392578110391001088 2021-05-13 03:31:09 +0700 <DarksideEnt_msp> Stay connected with your team as you work! To learn more about @Microsoft Teams for remote work, subscribe now.  https://t.co/giGi2IDj5q\n",
      "1392578069131563012 2021-05-13 03:30:59 +0700 <zaxer10> Convinced my boss to let the team work remote the rest of the week since ain’t nobody got gas. I’m really for the people.\n",
      "1392578065318961153 2021-05-13 03:30:58 +0700 <colinize> regional focus, but yet another notch in the \"pro\" column for remote work  https://t.co/afJGhRhkjI\n",
      "1392578009094189057 2021-05-13 03:30:44 +0700 <Paul_IPv6> @bryanl i've been the remote person working with a team(s) at an office for a while. that's given me a lot of practice at how to work without a lot of face to face. been interesting seeing others finally gaining the sames skills/epiphanies.  your list is spot on.\n",
      "1392577971962085379 2021-05-13 03:30:36 +0700 <dampmoose> @MaxxKarales I THINK I CAN JUST DO A REMOTE INSTALL AND THEN IT’LL WORK OFF THE DISK WHEN I GET IT AHHH\n",
      "1392577925413756930 2021-05-13 03:30:24 +0700 <elbasfar10> @madsbrodt So excited to hear this actually.  I thought its framework all recruiters ask for especially for remote work.\n",
      "1392577902227623941 2021-05-13 03:30:19 +0700 <Melinda_paints> 2/3 approached you and wanted to collaborate? Given the current \"remote work at home\" climate &amp; the fact the private/public tech ops are done in-house or online. Keep in mind this venture could be kid-centric as well as adult-centric, what would your business plan look like?  https://t.co/6I1I4KQZIl\n",
      "1392577837476032512 2021-05-13 03:30:03 +0700 <KOSE_Union> The plan allows for agencies to determine their own remote work policies and accommodations and includes thoughtful workplace protections for health risks the virus poses to state workers and their families.\n",
      "1392577824330973185 2021-05-13 03:30:00 +0700 <BrightfulHQ> The Case for Letting People Work From Home Forever @WIRED  https://t.co/54PKYdV8CY #remotework #remoteworking #remotejobs\n",
      "1392577689450684417 2021-05-13 03:29:28 +0700 <cstampeen> @NateCow Too many remote workers work a lot harder and longer than those who go in-house.  And…there are people who really, really need to work around others.  Introverts, extroverts… Trying to put so many types of people into one box just makes me angry.\n",
      "1392577318833565699 2021-05-13 03:28:00 +0700 <GDSalesGroup> Work remotely with Enterprise! Get our most powerful software with remote access that’s protected with state-of-the-art security, so you &amp; your team can collaborate from anywhere. Save an average of 42 hours per month with QuickBooks! See Plans &amp; Prices:  https://t.co/Nh0OUNUH78\n",
      "1392577231160070144 2021-05-13 03:27:39 +0700 <MultiCultural7> Working Parents Would Rather Quit Than Go Back to the Office, New Poll Reveals Nearly two-thirds of parents would quit their job if their employer nixed remote work, the new survey shows. #job #jobs #recruitment #careers #jobsearch… https://t.co/4OLzGC49eu  https://t.co/nrk8ROI0lq\n",
      "1392577224243662855 2021-05-13 03:27:37 +0700 <raliaga> My take re: future of #remotework: Decision makers in companies will do whatever setup gives them more power, regardless of data or hypotheses to test.   Then the chips will fall and reshuffles will happen.   Most of them will lose greatly. Few will win big.   Where will you be?\n",
      "1392576796332228610 2021-05-13 03:25:55 +0700 <mthiele10> Still weird when I’m finishing lunch with my wife and I hear myself say “OK, I’ve got to go back to work now” just before I go upstairs to my office. #WFH #Remotework #WFA\n",
      "1392576771439083522 2021-05-13 03:25:49 +0700 <RDesatan> @NewsGuyGreg People need to stop settling for the piss poor tech and management wages in Florida. You can do those jobs remote.  Work for an out of state company and make double or more.\n",
      "1392576618019893254 2021-05-13 03:25:13 +0700 <BeeBalthazar> That's the last sick day I'll take for a while. Remote work and sick days go together like fresh road apples and vanilla ice cream.\n",
      "1392576614505009161 2021-05-13 03:25:12 +0700 <bryanl> Being remote over the last year has taught us some lessons about work:  1. Communication is too compartmentalized 2. Trust doesn’t need face-to-face interactions 3. Employee convenience can be factored into the work day 4. Spontaneous idea generation isn’t really a thing\n",
      "1392576572457160705 2021-05-13 03:25:02 +0700 <CrowdWeek> Career Alert!!! 🙋‍♀️🙋‍♂️  We are looking for BOLD and Extraordinary people to join our mission: Unlock Human Potential and Power Breakthroughs Together!  Apply here &gt;&gt;  https://t.co/ZiXr06nulD   #entrepreneurs #remotework #digitalnomads #career #opportunity #work #WFH #socialmedia  https://t.co/6LZqliwg6r\n",
      "1392576393276502022 2021-05-13 03:24:19 +0700 <Vox_ISM> Stay connected with your team as you work! To learn more about @Microsoft Teams for remote work, subscribe now.  https://t.co/0hLiP9nCEx\n",
      "1392576276985155587 2021-05-13 03:23:51 +0700 <StoutSystems> We’re #hiring a Full Stack React Developer. This is a #remotejob with salary of $80-95K. Learn more and start your application:  https://t.co/ozY2M3XLfq  #remotejobs #remotework #fullstack #reactdeveloper #techjobs #itjobs #nowhiring #detroitjobs #womenwhocode  https://t.co/JQcLUkZKJf\n",
      "1392576275424894988 2021-05-13 03:23:51 +0700 <RandomMom7> @gator_gum I work for DSBN and this has not been announced yet. They said that virtual ELEMENTARY school is closing and that accomodations will be made for those who need remote. That has always been an option in DSBN. Im not saying they wont be doing hybrid, but this has not been announced\n",
      "1392576177144008707 2021-05-13 03:23:28 +0700 <foraldatadriven> Make-A-Wish Foundation transitioned to remote work within a week of the pandemic; thanks to technology from #MicrosoftTeams, staff members are able to continue with its mission. Learn how they did it by accessing this article.  https://t.co/h19D3jmIvr\n",
      "1392576071216795648 2021-05-13 03:23:02 +0700 <arbeitnow> Looking to work as Werkstudent Performance &amp; Growth Marketing (w/m/d)? #Informationtechnology #highschoolorequivalent #Parttime #student(college) #Germany #hiring #jobs 👇  https://t.co/1jQc2LoGOa\n",
      "1392575964002017280 2021-05-13 03:22:37 +0700 <basedology> @PaulSkallas Fortunately, I work in an ultra high skill industry and can get another remote job tomorrow, the company knows this and told us we can do whatever we like from now on\n",
      "1392575908897116161 2021-05-13 03:22:24 +0700 <ddnesbitt> There’s no reason to believe the CEO of a co-working space provider would have any sort of ulterior motive in delivering an opinion on remote work, right?\n",
      "1392575884977135618 2021-05-13 03:22:18 +0700 <Godden_Sudik> The past year has forced many of us to utilize remote working. We have embraced keeping employees plugged in while also allowing for extended travel. Here is Martin enjoying the sunshine of Ecuador to visit family while still keeping in touch with his team members. #remotework  https://t.co/t4RkuHkDTV\n",
      "1392575861568589824 2021-05-13 03:22:12 +0700 <MyrinKela> @RoseWiltshire @Sam198247235291 I'm so sorry. That's horrible on the park of your work, and it sounds like you're really suffering. Maybe you can ask to stay remote if going back in feels like too much too soon for you?\n",
      "1392575813636300801 2021-05-13 03:22:01 +0700 <daily_remote> 👋 AppEvolve is hiring remotely for a Senior React Developer.          #RemoteJob #RemoteWork  #FrontendDeveloper      Apply now! 👇      https://t.co/DlYtTNNDOu\n",
      "1392575810616311811 2021-05-13 03:22:00 +0700 <learntoperform> @AdamMGrant A lot of learning happens at the workplace as “informal learning”.  Remote work makes it more difficult. Yet it is not impossible.\n",
      "1392575584514068481 2021-05-13 03:21:06 +0700 <Incindery1> @StephenLevin33 @NYCSpeakerCoJo It’s a huge part of electorate that is most vulnerable—600,000-700,000 nyc public school families choosing remote. City biggest employer.  Tell him to stand up for protecting those ppl from covid.  Remote school &amp; work are fine.  Masks are good.  The real estate guys...\n",
      "1392575395963318272 2021-05-13 03:20:21 +0700 <WriteResilient> The organization I work with is looking for a consultant to help us with writing, editing and coordination for our Impact Stories learning initiative. The posting is here:  https://t.co/EtJoZNaDFE Please share! Good remote work for writers and editors.\n",
      "1392575378858913794 2021-05-13 03:20:17 +0700 <cloudwareafrica> Subscribe for the latest updates on how @Windows #VirtualDesktop enables faster capabilities with remote work and how you can apply these practices to your business.  https://t.co/OlfSimUmoE\n",
      "1392575375599931392 2021-05-13 03:20:16 +0700 <andouilles> my current job was even like “it’s just not possible to work from home full time. we need to go back to the office.”  fucking why? we’ve been working remote for over a year? WHY can’t we make it permanent? clearly we’re getting our jobs done?\n",
      "1392575329731059723 2021-05-13 03:20:06 +0700 <vastITservices> As companies adapt to ongoing shutdowns and authorize continued remote work situations, strengthening company VDI capabilities has become a focus of effort for many #IT teams. Discover how to support remote work here.  https://t.co/ZI5hhdYyti  https://t.co/Z5Elt9Gbxc\n",
      "1392575296398888964 2021-05-13 03:19:58 +0700 <NateCow> @cstampeen Wow, no kidding. I want to stay remote because I’m better off living in Nebraska while still being able to work for LA studios, not because I want to just chill at home. Others have their own, equally valid reasons that have nothing to do with “engagement.”\n",
      "1392575272092790784 2021-05-13 03:19:52 +0700 <lschmeiser> TL;DR — Stop framing the remote work vs. in-office work debate in terms of what CEOs want. Start framing in terms of whether their wants reflect any understanding of good management or good business fundamentals.\n",
      "1392575268523438082 2021-05-13 03:19:51 +0700 <begeland> Five Ways Leankor’s Enterprise Work And Project Management Solution Transforms Complexity To Profitability -  #PMP #PPM #project #Agile #cybersecurity #planning #ai #SAFe #coronavirus #virtual #mindmap #remote #COVID19 #scaledagile #bitcoin #webdesign  https://t.co/mRE1Q6THzN\n",
      "1392575123996168198 2021-05-13 03:19:17 +0700 <Ale_n_Metal> @BatsouElef No. I live in a small city where most IT workers either work for the public sector or are remote contractors\n",
      "1392575089917538306 2021-05-13 03:19:08 +0700 <Chris__Dee> Some interesting opportunities with the rising star of the broadband industry including remote work availability. Check it out.\n",
      "1392575032006696977 2021-05-13 03:18:55 +0700 <JobHookup4U> Looking for REMOTE WORKERS for your Tech project??? TEEMA has 1000  Consultants working in Canada &amp; the USA, latest technologies, payroll services - we can find the IT talent you need! kbarr@teemagroup.com #remoteworkers #Javascript #cloud #Java #Devops #TestEngineers #remotework\n",
      "1392574983013081095 2021-05-13 03:18:43 +0700 <IncluzionJobs> .@goldshovel tweeted a new remote job.  #incluzion #remotejobs #wfh #ReignyDayJobs #remotework #workfromhome #remoteworking #remoteworking #jobsearch #workanywhere #jobs #digitalnomad #hiring #remoteoffice #stayathomejobs #work #remoteworklife   https://t.co/n1TUsRlyOR\n",
      "1392574956731568132 2021-05-13 03:18:37 +0700 <IncluzionJobs> .@meganmorrone tweeted a new remote job.  #incluzion #remotejobs #wfh #ReignyDayJobs #remotework #workfromhome #remoteworking #remoteworking #jobsearch #workanywhere #jobs #digitalnomad #hiring #remoteoffice #stayathomejobs #work #remoteworklife   https://t.co/FFmpFaxbsd\n",
      "1392574844278018053 2021-05-13 03:18:10 +0700 <workfrom> Live coworking is going down!   Hop over to the cafe and let's knock out some to-dos together 🙌   https://t.co/FupvYGvRlR  #remotework #live #coworking  https://t.co/HdF9RZtpfa\n",
      "1392574828935368705 2021-05-13 03:18:06 +0700 <lacklustre_> this thread is drenched in a lack of comprehension. it presumes that work is the pinnacle of importance, and the most important relationships are built at work. that is absolutely backwards. also the fact that the phrase “too convenient” is listed as a reason to stop remote work.\n",
      "1392574674727432192 2021-05-13 03:17:29 +0700 <TheFoodCorridor> The Food Corridor is hiring a Client Success Manager! Come work with an amazing team to reach our mission of enabling efficiency, growth, and innovation in local food systems. #innovation #hiring #team #customersuccessmanager #saas #remotework #remoteteams  https://t.co/0Tn7XYwsCO\n",
      "1392574601494925312 2021-05-13 03:17:12 +0700 <69olimrb> @ArmandDoma hard disagree. remote work would be miserable in the city. it isn’t that hard to socialize in suburbia.\n",
      "1392574598760353793 2021-05-13 03:17:11 +0700 <Trekkw2ks> If coding isn't your thing. It's ok. None technical crypto jobs do exist. Check out  https://t.co/IaSE46wyBV  #Remotework #TheyDoExist  https://t.co/nURaR5gEx0\n",
      "1392574357898158083 2021-05-13 03:16:14 +0700 <LuluMcSideways> @shannoncoulter Absolutely.  This was in response to the original poster’s argument that downsizing would be an incentive for CEOs to allow more remote work.  They have no incentive if they can’t get out of their lease.  They also love their big, fancy buildings.\n",
      "1392574318421311489 2021-05-13 03:16:04 +0700 <WaddellMJ> There is more than one \"right\" answer to the remote/hybrid work question. Feel free to ignore anyone who suggests otherwise.\n",
      "1392574306320719872 2021-05-13 03:16:02 +0700 <ksfruneaux> With inventory at an all time low, developers and lawmakers are looking to convert commercial spaces into affordable housing to counter the housing shortage as well as declining lease renewal as more opportunities for remote work arises. What's your  https://t.co/jMLBU9HqyO\n",
      "1392574301157707776 2021-05-13 03:16:00 +0700 <Christi24477042> @MeganShore1 @OECTAProv @fordnation @BlessedCarloHP Happy to hear that you're children have excelled in the remote learning environment. This may be beneficial for some students. As a teacher in the hybrid model, it doesn't work for those students attending both in person and remote.\n",
      "1392574263257821185 2021-05-13 03:15:51 +0700 <Mr_Arizona2424> @remote_wander @MikeGroat1 @secupp Yeah that worked out for Trump who had world leaders laughing at him. Also I like that you think cause we have a massive military force that we just use it anytime a country doesn't play ball with us. It doesn't work like that anymore.\n",
      "1392574255322255361 2021-05-13 03:15:49 +0700 <technairellc> The top websites to find remote jobs  #websites #remotework #job #Apple #android #CRT #laptops #coding #code #100DaysOfCode #CodeNewbie  https://t.co/Ztk7gOmpbM\n",
      "1392574214176006144 2021-05-13 03:15:40 +0700 <Goog1114> Succeeding at #remotework takes more than tech. In this CDW Tech Talk webcast, learn why the key to success is organizational leadership that supports culture change and embraces flexible work settings. #JoinCDW #cdwsocial  https://t.co/DWg5tYgv2P  https://t.co/c7JbwlbE6x\n",
      "1392574203866533893 2021-05-13 03:15:37 +0700 <Gurgling_MrD> In the era of remote work, printers are a potential attack point that make corporate networks and data vulnerable. HP expands security services for printers at home or in the office... via @zdnet #infosec #tech #WednesdayWisdom  https://t.co/PbJpIzpZuz\n",
      "1392574127643545600 2021-05-13 03:15:19 +0700 <mario_grasso> This Harvard Professor Reveals The Secret Sauce For Remote Work - And It Has Nothing To Do With Zoom  https://t.co/LBCal3oSGi\n",
      "1392573936274223110 2021-05-13 03:14:33 +0700 <realmleviticus> The top websites to find remote jobs  #websites #remotework #job #Apple #android #CRT #laptops #coding #code #100DaysOfCode #CodeNewbie  https://t.co/IX2LEtUB6S\n",
      "1392573686427766784 2021-05-13 03:13:34 +0700 <demew> anybody with an opinion on remote work that is only informed by their experience of the last year really doesn't know what they're talking about\n",
      "1392573480101679104 2021-05-13 03:12:45 +0700 <mmencherogarcia> @PaulSkallas ah, please don't wake me up from the dream of remote work.   Guess there is an advantage to living in a country where vaccination is going very slowly...\n",
      "1392573070519513090 2021-05-13 03:11:07 +0700 <StarMeUpOS> 👉Enhance connections among other teams and leaders across the company: This is a positive way to embrace community, which in times of remote work, can be a valuable strategy to connect and feel engaged.\n",
      "1392572980463431686 2021-05-13 03:10:45 +0700 <awsamuel> Tell me your most ridiculous #remotework problem. You know, the problem that is not really a problem.   Maybe I should call these “first work problems”.\n",
      "1392572807368818694 2021-05-13 03:10:04 +0700 <flexjobs> Dreading that return to the office? You’re not alone! You have options and we are here to help you find a job that fulfills your work life and your personal life. #remotework #jobs #careeradvice #TikTok  https://t.co/mu53onxdBd\n",
      "1392572712359534593 2021-05-13 03:09:42 +0700 <StarMeUpOS> What can I do to improve my remote teams’ experience? #RemoteWork #HR #HumanResources\n",
      "1392572578607157248 2021-05-13 03:09:10 +0700 <mhdchamber> #medhat is a great community to #WFH , @macleans ranks us 21st in #Canada for remote work! @CF_Entre_Corp talks about the gig economy's potential in Medicine Hat as a result of #COVID19   Check out the latest Business Beat  https://t.co/fdnXSrA9i3  https://t.co/EUSBPkYM48\n",
      "1392572492699496449 2021-05-13 03:08:49 +0700 <lollieshopping> @coffee_n_curses I swear, there's a PR campaign to feed the masses a bullshit anti-Remote Work narrative.\n",
      "1392572294036434962 2021-05-13 03:08:02 +0700 <chris_herd> @TomCayman I still think this is one of my least controversial tweets! I’m not saying companies won’t work between both physical spaces and remote, rather I’m focussing on how the organization operates\n",
      "1392572041384112130 2021-05-13 03:07:02 +0700 <blugoddessrocks> @GlobeIdeas @JonLevyTLB Two of my friends have already been informed their companies will be selling their properties and both will become work from home permanently.  I’ve worked remote from 2013 till 2018, it’s not an illusion, a lot of companies have already switched to the remote/WAH model.\n",
      "1392572026938855428 2021-05-13 03:06:58 +0700 <andrewmartonik> @sirjordandodge It’s just so silly to think that one work style is applicable to everyone. Some prefer an office, some prefer remote, some a mix. Recognizing that people are different, teams are different, and work types are different is important! Not sure why this is so absolutist nowadays.\n",
      "1392571950925590528 2021-05-13 03:06:40 +0700 <eoin_jennings> @Derek_duPreez You're ahead of trend - everyone will want to work remote at a seaside resort now!  Why pay so much for a stuffy flat in Brixton\n",
      "1392571748021846025 2021-05-13 03:05:52 +0700 <WeAreCiTEA> Did you work remotely during Covid? What is the future of remote working in performing arts? @PIPAinfo, @uk_theatre and @SOLTnews want to hear your thoughts. Complete this short survey to help shape their thoughts. 👇👇👇  https://t.co/YK9BLWZxLU\n",
      "1392571602873708544 2021-05-13 03:05:17 +0700 <wto605> @SwiftOnSecurity I really don't think it's fair to compare the last year to remote work. Normal remote work involves in person socialization and travel (both personal and work related) which were absent this year.\n",
      "1392571558611271687 2021-05-13 03:05:06 +0700 <senwill> Digitizing Secure Remote Work &amp; Trusted Workplace: Join Cisco Meraki and security and compliance company, Theta Lake, as we explore how businesses can balance workplace disruptions with remote workers @  https://t.co/evfhPJUdNJ\n",
      "1392571545508270080 2021-05-13 03:05:03 +0700 <JaredWel> In a time where the new normal includes #remotework and e-learning, #connectivity has become a necessity. Axios breaks down expert insights into how connectivity has become essential and the critical need to close the #digitaldivide gap:  https://t.co/W9XEX3BJlR  https://t.co/g1XrbHCP5b\n",
      "1392571542685593603 2021-05-13 03:05:03 +0700 <SOEKOCCESS> Chinese dreams on Native American land: A tale of cannabis boom and bust. In the pandemic, hundreds of Chinese migrants who lost their jobs moved to a remote city on the Navajo Nation Indian reservation in New Mexico, to do what they thought was legal agricultural work.\n",
      "1392571530794573826 2021-05-13 03:05:00 +0700 <ThinkRemote> INSANE❗️❗️  Many #pets are being abandoned because as people need to return to the office, they no longer have time to care for them 😡  What kind of people do this? We are in shock!   Read the full article here⬇️  @NevadaSPCA #remotework #officework   https://t.co/oQEjEidNKb\n",
      "1392571393913630729 2021-05-13 03:04:27 +0700 <ohersin> Kindness is contagious and a culture of generosity benefits both the organization and its people. Timely encouragement from @ovulsezer as remote work continues to take its toll on human relationships.   https://t.co/X1t3vi5AlO\n",
      "1392571358207426567 2021-05-13 03:04:19 +0700 <Sharp_Business> The past year has shifted the way we look at #officetechnology trends like remote work, collaboration, and #cybersecurity. Our VP of Marketing, @bmadaio, explores these trends in the post-covid era via @imagingchannel. Read more here:  https://t.co/wBNotuIj3C #SimplySmarter  https://t.co/JjeOj9EEpt\n",
      "1392571198605828106 2021-05-13 03:03:41 +0700 <StriderTB> @edsbs \"Disruption\" is only good if it means workers get less or companies get more. Remote work because of the pandemic is the most disruptive event I've been through in 20+ years of professional life, and the only one with an upside for workers, so of course it has to go.\n",
      "1392571123993300993 2021-05-13 03:03:23 +0700 <Allwork_space> Remote working can improve the #employeeexperience, but companies also benefit from adopting these arrangements by cutting costs, boosting #productivity and more.  #FutureofWork #Business #RemoteWork #EX    https://t.co/SlpE1l9civ\n",
      "1392570901284245509 2021-05-13 03:02:30 +0700 <Allwork_space> Denver-based startup @flatfilers has operated with a #remoteteam even before the pandemic hit, allowing it to find the right footing that supports their distributed workers.  #FutureofWork #Business #RemoteWork #WFH    https://t.co/RrXXyHCbqX\n",
      "1392570780538609665 2021-05-13 03:02:01 +0700 <kensington> Hybrid Workforce Management: 5 Tips to Ensure Success ☑️   Working in the shadow of the COVID-19 pandemic has disrupted the way we do things.  Click below for 5 tips for the success of a hybrid working environment 👇   #RemoteWork #WorkplaceWellness #WFH    https://t.co/8jnPNFhonB\n",
      "1392570661961310208 2021-05-13 03:01:33 +0700 <courtneynash> 💯  ableist and it's also just... completely not true? You'd think a ghoul like this would see the opportunity to wring 2+ more hours of work each day out of his people. (Remote company  leaders: don't do that, it's terrible.)\n",
      "1392570650796113921 2021-05-13 03:01:30 +0700 <PMvoices> Working from home is here to stay. How can you support team members that fear #remotework? PM @kbondale offers some advice &gt;&gt;  https://t.co/3gjTpdtNuM #pmot #disruption  https://t.co/eEVJOqHLRc\n",
      "1392570640650149893 2021-05-13 03:01:28 +0700 <VirtualVocation> Thank you to @Writerslife78 for shouting out Virtual Vocations  in their latest article for places to find remote/work from home jobs!👏 💻 Check it out!   https://t.co/oW5fu78EXt  #WorkFromHome #RemoteJobs\n",
      "1392570589911691264 2021-05-13 03:01:16 +0700 <Scalelogic> Click here to read the blog:  https://t.co/d6Z6VJD6aK  We keep hearing \"the new normal\". But is it? Businesses are no longer defined by geographic location, and workers can work from anywhere. Learn about a new future in a #hybridenvironment. Read the #blog today. #remotework  https://t.co/BQGlcPceaR\n",
      "1392570562178916356 2021-05-13 03:01:09 +0700 <Sc0ttMcC> As an international infrastructure group, @balfourbeatty is keeping remote collaboration cost-effective for 6,000+ employees with @Masergy's help! Check out this case study on how @balfourbeatty powers remote work in the cloud. #UCaaS #multicloud #WFH  https://t.co/e3MXm4U6dj\n",
      "1392570560350093312 2021-05-13 03:01:08 +0700 <TheShaunzor> @sayhivolarius This is how I’m feeling. My job is starting to be like “Yay the office is opening soon!”, but it’s like 80/20 want to continue remote work. Honestly productivity is through the roof!\n",
      "1392570553941233668 2021-05-13 03:01:07 +0700 <redyucca> @AdamMGrant Very surprised by these numbers. Should be the opposite. #remotework should have created increased efficiency and agility\n",
      "1392570491563556864 2021-05-13 03:00:52 +0700 <insightassetgrp> During the pandemic, many people found that they preferred working remotely to working in an office. A new survey found that 42% of US workers who were remote said they'd look for a new job if their employer didn't let them work rem  https://t.co/WqGcrKGmA7  https://t.co/nNyahc8UWD\n",
      "1392570469698711557 2021-05-13 03:00:47 +0700 <AbstractaUS> Make remote work part of your digital transformation!  Via @TechBeaconCom   #RemoteWork #Software  https://t.co/vdoOuAsss8\n",
      "1392570454519468039 2021-05-13 03:00:43 +0700 <itsherhub> 𝗡𝗢𝗪 𝗛𝗜𝗥𝗜𝗡𝗚 𝗥𝗘𝗠𝗢𝗧𝗘 + Job: Marketing Summer Intern🖥️      + Company: Healthcare Platform💻     + Full-time⏰  + Remote📍 + Pay: $10,000💰  🔗:  https://t.co/xlzKpl0nfT  #remotejobs  #workfromhome #remotework #workfromhomejob #remotejob\n",
      "1392570443425591300 2021-05-13 03:00:41 +0700 <PopUpSalesTeam> Remote work is changing our lives: Here’s what we can do better  https://t.co/m6PKFY5Sh2 via @cambridgetimes #WorkingFromHome  https://t.co/lJNCrODwf6\n",
      "1392570402321227776 2021-05-13 03:00:31 +0700 <mattbeckman> World leaders, you're ngmi.  You'll figure out *real soon* that the rise of decentralization &amp; remote work means that PEOPLE no longer give a shit about your borders/wars because many of us have friends &amp; coworkers from other countries who are affected by your war mongering.\n",
      "1392570384080416773 2021-05-13 03:00:26 +0700 <JimmyCannoli> So I’m officially full remote work from home.  I’m. So. Happy. 🙏🏻🙌🏻\n",
      "1392570363146551313 2021-05-13 03:00:21 +0700 <BigEggFilms> Very privileged to work with @TrustDevCom and some of the other incredible charities in Brighton, making these remote videos. The work they do really is amazing! @AmazeSussex @thebevy @Possabilityppl @adhdawareuk #moulsecoombcommunitymarket #pankhurstpantry\n",
      "1392570333681618947 2021-05-13 03:00:14 +0700 <brsuttles> So, every time I come across these irresponsible tweets about remote work I’m calling them out.  Productivity was down because our fellow citizens, our friends, &amp; our family were sick &amp; dying.  Grieving, worrying, being sick, no child care decreases productivity. #WorkPropaganda\n",
      "1392570283584892928 2021-05-13 03:00:02 +0700 <DerbySchoolsKS> Angie (Remote Kindergarten Teacher, Tanglewood) was nominated by a parent who shared, “Mrs. Cooper has made kindergarten remote learning fun for her students. She’s so interactive &amp; my daughter loves her. Because I work remotely, I sit behind my daughter all day.\n",
      "1392570280963420160 2021-05-13 03:00:02 +0700 <remotejobsvault> Interested to #workfromhome for a #remote #job in Bitwarden (@bitwarden) as Product Marketing Manager?  https://t.co/70W7p80YDN  #hiring #remotejob #remotework #sales #marketing\n",
      "1392570279998619651 2021-05-13 03:00:02 +0700 <BrightfulHQ> San Diego employers are mostly not allowing remote work post-pandemic, report finds @sdut  https://t.co/Cq3KyXCIqI #remotework #remoteworking #remotejobs\n",
      "1392570245517283333 2021-05-13 02:59:53 +0700 <bhollyer> @Peston There are 300k school governors (unpaid) who have continued to work with school leaders, to ensure the onsite and remote learning has minimised any learning loss. Your comments undermine all we do. I presume you are not a governor...\n",
      "1392570139514658816 2021-05-13 02:59:28 +0700 <remoteworkhub> Product Manager II (Remote) at Eden Health (Remote Job)  https://t.co/daPZs9KOJJ #remotework #remotejob #digitalnomad\n",
      "1392570116773089280 2021-05-13 02:59:23 +0700 <Prodoscore> Knowing how t not only KEEP but also IMPROVE your client relationships in #RemoteWork environments can be tricky.   In our newest blog, we uncover our tried-and-tested approach to maintaining client relationships without face-to-face interaction.  https://t.co/E2jPFLna9V  https://t.co/qa6ViaTVqM\n",
      "1392570088742658049 2021-05-13 02:59:16 +0700 <Firozeb> Air ambulance operations can’t be disrupted with unexpected challenges. Learn how #VMware Workspace ONE enabled @angel_medflight to continue transporting patients during a company-wide shift to remote work.  https://t.co/Q7JhD5vu9t\n",
      "1392569913357766666 2021-05-13 02:58:34 +0700 <DavisMattek> FRESH @taekcast w/ @ThePME   Coronacasting, best Clive Owen movies, home gyms, unemployment, NFL schedule release, remote work and way way way more  Direct:  https://t.co/GMLqadJkLy  iTunes:  https://t.co/2LKzlevxkn\n",
      "1392569875344855041 2021-05-13 02:58:25 +0700 <TheyWfh> We are happy to announce:  Since this week we bring you #news covering #digitalnomad and #remotework from all over the globe !!!  Check it out!   https://t.co/mxSKKTZH4f\n",
      "1392569866465464322 2021-05-13 02:58:23 +0700 <ThinkMcGowan> Attorneys are adapting to a new way of working in today's remote work environment. Program Administrators—get updates on @Zurich's Lawyers Professional Liability program and hear the latest trends in their 2021 update on Wednesday, May 19:  https://t.co/BjCm7hHLlF  https://t.co/PbmSJJB1qI\n",
      "1392569706800951298 2021-05-13 02:57:45 +0700 <DoppelGregor> @CZEdwards That's the point I was trying to make apologies if it was unclear.  They are failing to take into account the benefits of remote or hybrid work even just to the employer, which are considerable if the business can adapt.\n",
      "1392569668355907585 2021-05-13 02:57:36 +0700 <SpaghettiKozak> @fufufnyk0 @GlobeIdeas Good idea. Plus, some folks may still have to commute, but with more remote work they'll have an easier time of it with less traffic and crowding. Safer too. Tired drivers, morning or evening, are likely to have accidents.\n",
      "1392569610675830785 2021-05-13 02:57:22 +0700 <ChristianZeder> Das Kombinieren von #Cumunda #BPMN, #dotnet und #Angular in einer verteilten Webapplikation ist herausfordernd, macht aber viel Spass. Lust auf die Herausforderung?    #WeAreHiring #jobs #remotework #BusinessProcessAutomation\n",
      "1392569529700651010 2021-05-13 02:57:03 +0700 <TrippBraden> The Top 5 Things 2020 Taught Us About Remote Work  https://t.co/9ZNG0ZTpMk #leadership #entrepreneurs #remotework #careers  https://t.co/zE0oauZk8M\n",
      "1392569422682988544 2021-05-13 02:56:37 +0700 <podmotion> 8 Lasting Effects of Remote Work That Will Reshape Workplaces  https://t.co/Wx5upEvBGG\n",
      "1392569399823929345 2021-05-13 02:56:32 +0700 <happypamcakess> Did I get dressed and put sunscreen on my face only to end up getting too lazy to leave my room? Yes. I’ll work remote from here today\n",
      "1392569384519012358 2021-05-13 02:56:28 +0700 <TraderTodd> *WeWork CEO Says but uhh not a centralized company office, more a remote work one   *WeWork CEO Says please don’t make my entire business model irrelevant\n",
      "1392569165278420992 2021-05-13 02:55:36 +0700 <ebboyd> I hope companies don't conclude that remote work doesn't work. It's a skill that has to be learned, and when you master it, it works great!\n",
      "1392569135184457732 2021-05-13 02:55:29 +0700 <DrinkinginJapan> You’re damn right I’m excited about my new Tron Funkin Blow shirt #Fubarmovie  https://t.co/po8OuxQxz8\n",
      "1392569088589897731 2021-05-13 02:55:18 +0700 <lucidmeetings> Great tips here from Rick Lent and Nancy Settle-Murphy: Leading Virtual Meetings That Actually Get Work Done  https://t.co/ChADgOXsKy #bettermeetings #remotework  https://t.co/BaXFYAIRvE\n",
      "1392569085968277504 2021-05-13 02:55:17 +0700 <JobTripper> 😆EMW, Inc. are looking for an AAS-SC2021/001498 - Web Application Developer (NS), off-site -WED 19th May  Fully remote! Based in 🇧🇪 Belgium   https://t.co/TROr3K10Gy  #SQL #css #javascript #remote #job #remotework\n",
      "1392569001620934660 2021-05-13 02:54:57 +0700 <_Meisha_> @Its_MissSiSi We need to start planning beach dates and picnic dates while we work remote!!! Like legit take our laptops to the park!\n",
      "1392568934809972737 2021-05-13 02:54:41 +0700 <IaugOrlando> Avaya: Find out how Alta California Regional Center streamlined remote #collaboration for 95% of their workforce with Avaya #Cloud Office by @RingCentral  https://t.co/H11b77vVyO #remotework  https://t.co/GMJDCgdL71\n",
      "1392568931651522560 2021-05-13 02:54:40 +0700 <ShahinKhan> @AdamMGrant Focused time to work and learn is necessary. So is the ability to work from anywhere when possible.  Remote was viewed as impossible by too many employers until they were forced into it. It has worked. That part is over.   We need to shake off 100 year old perceptions of work.\n",
      "1392568891239370756 2021-05-13 02:54:31 +0700 <RyanZohoury> @AL416905 @elonmusk That might work for some things but I’m sure there’s a lot of things we don’t want to be glass like parts in your car or TV remote and it’s hard to find other cheap materials with similar properties.\n",
      "1392568806221000708 2021-05-13 02:54:10 +0700 <Avaya> Find out how Alta California Regional Center streamlined remote #collaboration for 95% of their workforce with Avaya #Cloud Office by @RingCentral  https://t.co/w9fejUqJR7 #remotework  https://t.co/npXYxLunOe\n",
      "1392568746762506242 2021-05-13 02:53:56 +0700 <saalon> Meaningful study of a time where nothing else was going on except more remote work.\n",
      "1392568708690628608 2021-05-13 02:53:47 +0700 <juliepagano> So sick of the thinkpieces about productivity of work during the last year. Everyone being thrust into WFH unexpectedly during a global catastrophe that had a very real impact on mental &amp; physical health, childcare duties, etc. is in no way an accurate measure of remote work.\n",
      "1392568707151499273 2021-05-13 02:53:47 +0700 <EllaSheinfeld> Forming New Collaborations in Remote Work  https://t.co/tD0kruL1ne\n",
      "1392568687060652032 2021-05-13 02:53:42 +0700 <tmj_CAN_gensci> If you're looking for work in Ottawa, Canada, check out this #GeneralScience job via the link in our bio: Senior Statistical Programmer (Remote) FSP at Covance by Labcorp #statistics\n",
      "1392568659655135233 2021-05-13 02:53:35 +0700 <DorssemontJente> Hybride werken de toekomst?! voor mijn thesis ontwierp ik een product-service om 'spontane #sociale interactie' op afstand mogelijk te maken. Interesse in een gratis webinar? Kennis delen?  Just join! #remotework #digitalconnectivity #employeewellbeing    https://t.co/nmcDNnA005\n",
      "1392568646300422147 2021-05-13 02:53:32 +0700 <The_JobDuck> Want to manage your time and have a more balanced work-life?  Then, Job Duck is the place for you! We offer an excellent remote work setting with great teammates!   This is your time to shine! Visit our website and find the perfect role for you!    https://t.co/XXeGcQDXiv\n",
      "1392568639291723777 2021-05-13 02:53:30 +0700 <ReverseJames_> I should just remote work in NOLA in the fall 🤔\n",
      "1392568509381627910 2021-05-13 02:52:59 +0700 <DrivenInsights> Seeking remote SaaS Finance Director to fuel our growth. Work as full-time SaaS Finance Director and work tightly with our clients and Driven Insights accounting &amp; finance team.  Manage day-to-day finance operations. Work from your home office.  https://t.co/aSdTLi8q3E\n",
      "1392568230397497348 2021-05-13 02:51:53 +0700 <nairaxev> @AdamMGrant Let's completely ignore that this happened at a year of additional stress and challenges due to the pandemic and pin the productivity reduction on remote work becaues apparently we are idiots like that.\n",
      "1392567982828658689 2021-05-13 02:50:54 +0700 <ramiajjuri> Obviously remote work was not only factor in productivity but man are meetings killing any chance at deep work.   How about we “circle back” and “double click” on this ‘meet all day, work all night’ culture developing at many tech companies.\n",
      "1392567978936393734 2021-05-13 02:50:53 +0700 <howlongisnow73> @SandeepMathrani I completely disagree with you and I'm very insulted by your blanket statement about remote workers, which is clearly biased given your position. I am a passionate remote worker and no one is more passionate about remote work than I am.\n",
      "1392567965774614529 2021-05-13 02:50:50 +0700 <ignore89039500> @MadThunderdome It’s a distributor. $DDR. Actually a very well managed business though with a good track record, but trades punchy on people capitalising a bit too much of the lockdown / remote work boom imo. There’s a bit of financial engineering and some other interesting tidbits too.\n",
      "1392567812309258243 2021-05-13 02:50:13 +0700 <DistantJob> Many skills become critical in a #remoteworker. However, there’s one underrated skill that makes or breaks most teams: #ownership.  Listen to the full conversation with Stephen Sommers 👉  https://t.co/osZNkaTXYZ  #remotework #WFH #podcast  https://t.co/Xe6N9l4iwQ\n",
      "1392567793921499143 2021-05-13 02:50:09 +0700 <RightCr0wd> Remote work: 3 resolutions for leaders in 2021   https://t.co/ecP4AB1edg #returntowork #COVID19 #postcovid #newnormal #futureofwork #smartbuildings\n",
      "1392567730465820673 2021-05-13 02:49:54 +0700 <NathanMattise> These roles are 1) remote work + 2) likely eligible for @ars_union and all the benefits that shall bring.  cc @NABJ @WritersofColor @WomenWriters @aaja @ScienceWriters @NAHJ @mediagazer @CfWiJ @najournalists @weischoice @studyhallxyz @DisabledWriters @NewhouseMag @mandyhofmockel\n",
      "1392567714372374529 2021-05-13 02:49:50 +0700 <meli_cep27> i need an opinion! so i admittedly waited till the absolute last second to do work for this one class i’m taking, which means i don’t have grades for any of them, P/F deadline is today, but i’ve already P/F three classes since the start of remote school, should i P/F?\n",
      "1392567278181535748 2021-05-13 02:48:06 +0700 <RobFassina> Employees expect a high quality work-from-anywhere experience. Create new employee experiences and empower individuals to work their own way, with remote room and desk booking, pathfinding and other location-aware solutions. Discover the hybrid workplace:  https://t.co/6YfSwQMgJm\n",
      "1392567184719761411 2021-05-13 02:47:44 +0700 <AndrsJ1> Peter Weckesser, Chief Digital Officer at Schneider Electric, shares his experience and learnings from his fully digital onboarding at Schneider Electric in his new blog:  https://t.co/EhNPizzQHe #DigitalTransformation #RemoteWork #LifeIsOn  https://t.co/9h8df3lzbk\n",
      "1392567020466675714 2021-05-13 02:47:04 +0700 <NCTAitv> The U.S. internet has held up incredibly well amid the massive shift to remote work and learning that began in 2020. Get the latest data and updates on our COVID-19 Internet Dashboard  https://t.co/5NDJ9mZDgA  https://t.co/dcV5fmI5oA\n",
      "1392566933208317958 2021-05-13 02:46:44 +0700 <YASH_Tech> #ITinfrastructure #hybridworkplace #remotework #ITsecurity are just some of the topics discussed by our panel of distinguished #ITleaders in The #eroundtable for #Infra Leaders @YASH_Tech. Stay tuned for more updates.  https://t.co/Pp05jWNLvx  https://t.co/oolC8MXP09\n",
      "1392566862924455940 2021-05-13 02:46:27 +0700 <CONNECTIONS_US> Please join us for our Networking Discussion: The Role of Technology for Remote Work #CONNUS21\n",
      "1392566750974287876 2021-05-13 02:46:00 +0700 <iMediaTechnolo1> Your best resourse for IT support tech tips for business: cyber security , VOIP, work remote, and cloud.  https://t.co/OTvA9o5oUO  https://t.co/uidrDu4g6C\n",
      "1392566705042362370 2021-05-13 02:45:49 +0700 <CryptoJobsList> 👍 Featured opportunity:  💼 CFO at 🏛️ Trustswap @TrustSwap/  🌍 Remote  Apply now,     or share with your friends! 👇  #CryptoJobs #TechJobs #HiringNow #RemoteJobs #RemoteWork  https://t.co/8yH4yBzxFO\n",
      "1392566681101164549 2021-05-13 02:45:44 +0700 <runforthesun> As we emerge from this pandemic world full of remote work, conference calls from your dining room table, and having kids and dogs burst in while you're finishg up an important report, a lot of us are actually looking forward to returning to an office.\n",
      "1392566647567831042 2021-05-13 02:45:36 +0700 <jamiegelbtuch> Will Remote Work Lead to More Diversity in Tech?  https://t.co/aCS7Iu2txT #tech #DEI #remotejob\n",
      "1392566577111965696 2021-05-13 02:45:19 +0700 <remotejobmarket> New Remote Job 'Senior Engineering Manager, CodeQL'. More Details on  https://t.co/rGOnbu1nbV #remotework #remotejobmarket #remotejob #fullremote\n",
      "1392566573559341060 2021-05-13 02:45:18 +0700 <BarneyPackardII> Remote work has had many impacts on our day-to-day life, but also the housing market. Read more.  https://t.co/zFqtkQ4v34\n",
      "1392566573366398976 2021-05-13 02:45:18 +0700 <Garr_Financial> Remote work has had many impacts on our day-to-day life, but also the housing market. Read more.  https://t.co/0KCzxsVsjX\n",
      "1392566571462283268 2021-05-13 02:45:17 +0700 <WaterStWealth> Remote work has had many impacts on our day-to-day life, but also the housing market. Read more.  https://t.co/HEnrhpVRDe\n",
      "1392566530920132611 2021-05-13 02:45:08 +0700 <TAB_ZThree> As an increasing number of business operations go digital, it is amazing to see the abundance and quality of tools that facilitate the process of going virtual.    https://t.co/NStWAp9xAZ  #TABBoards #culture #z3pd #remotework #remoteteams #virtualculture  https://t.co/1oMPPgaos7\n",
      "1392566523827531779 2021-05-13 02:45:06 +0700 <TalentCulture> What does work look like for you these days? Onsite? Remote? Or somewhere in-between?  Check this advice on how to achieve balance with flexible work arrangements  https://t.co/cck5zOXOC1 by our CEO @MeghanMBiro via @indeedemployers  #hybridwork #wfh #productivity #worktrends  https://t.co/NRwqmqINiU\n",
      "1392566522263085065 2021-05-13 02:45:06 +0700 <quaversal> In the latest #Quaversal Newsletter-how did your business change in 2020? #RemoteWork and #PersonalDevices on your organization's #network? Plus more on #Meraki and #OpenSource.  https://t.co/pZ0YGhWS94 #BeBetterWithQuaversal #CiscoPartner #Networking #Meraki #CIO #CTO #CISO\n",
      "1392566498279886850 2021-05-13 02:45:00 +0700 <RalphRBaker> Will Remote Work Lead to More Diversity in Tech?  https://t.co/KAPpyu8f0n\n",
      "1392566437894623239 2021-05-13 02:44:46 +0700 <elizparks> we are talking about remote work and technology -- today at CONNECTIONS and the impact that #SMBS have on the economy and workforce in general #CONNUS21 #tech #technology #workathome #remote  https://t.co/u58Rq8N0MT\n",
      "1392566425294983168 2021-05-13 02:44:43 +0700 <jacobjost> Gosh, why would a a commercial real estate CEO want to convey an anti-remote-work message?\n",
      "1392566291999887367 2021-05-13 02:44:11 +0700 <GoRemote1> Employees want the flexibility to decide when it makes sense to go to the office. Research also shows that employees are more productive when they have to option to work remotely.\n",
      "1392566266003705857 2021-05-13 02:44:05 +0700 <GoRemote1> The COVID pandemic led to millions of employees shifting to 100% remote work. In addition, employees look forward to moving to more hybrid remote work models that mix in-person and virtual meetings.  https://t.co/zTD30a68UB\n",
      "1392566252388892674 2021-05-13 02:44:01 +0700 <VectorMarketing> Student success is one of our favorite things! @MuskingumUniv student Kennath Dorsey @kennath_dorsey from our office in North Dayton is officially a Sales Rep! #MuskingumU   #RemoteWork #Sales #SummerWork  https://t.co/SU6qfFTh20\n",
      "1392566249440296964 2021-05-13 02:44:01 +0700 <fedscoop> Don't miss the #riverbedsummit on 5/26! Join leaders from government &amp; industry as they share strategies around optimizing and accelerating current IT investments, moving to hybrid, multi-cloud environments, enabling long-term remote work &amp; more!  https://t.co/xMINI6abdF  https://t.co/ZRnUeGjoZa\n",
      "1392566243086028806 2021-05-13 02:43:59 +0700 <RitzHerald> Remote Work to Drive Home Purchase Decisions in the Next Six Months   https://t.co/AYUDHuxfFa\n",
      "1392566148626063366 2021-05-13 02:43:37 +0700 <BrossVee> Tech makes more gig work possible while covid sped up trend for remote work but #PROAct outlaws a worker’s right to CHOOSE freelance! Why make it harder to gig? #noproact @Sen_JoeManchin @BlackFreelance1 @SenAngusKing @SenMarkKelly @senrobportman @Mike_Saltsman @USChamberAction\n",
      "1392566106326503426 2021-05-13 02:43:27 +0700 <weworkremotely> 🌏 New Remote Job!  Tutuka: Card Programme Implementation Specialist  at   https://t.co/QNulAwCi2w  #remotework\n",
      "1392566073501884421 2021-05-13 02:43:19 +0700 <egong4real> @Adam_Karpiak The new world of remote work is showing who all the clueless leaders are\n",
      "1392565988537798657 2021-05-13 02:42:58 +0700 <wayneatherholt> Remote work expert weighs in on post-pandemic office trends  https://t.co/oL8SB9uCKA\n",
      "1392565901036249088 2021-05-13 02:42:38 +0700 <remotedailylive> Remote Daily resident musicians and cultural curators @Eleanordubinsky &amp; Dario host music superstar @jcgrandbaton 🎶  Tomorrow 1-2pm ET  RSVP at  https://t.co/GLN4QX6t2i and let’s rock!     #futureofwork #remote #remotework #music #concert #inspiration #learningeveryday #composer  https://t.co/Zb0NANeVar\n",
      "1392565849995812868 2021-05-13 02:42:25 +0700 <otter_tall> @TokenRingJoe @junebotprolly Mine is a function of Pulse remote software. Part of the deal to allow me work from home (this was pre-COVID) was the monitor snap-in be installed on MY pc. No gaming or wasting on my pc. Now I can block its port on the firewall  or make a virtual but they would know after awhile\n",
      "1392565839078076418 2021-05-13 02:42:23 +0700 <iamjankoch> 20 of the Best Sites to Find Remote Work Online in 2021  https://t.co/hcpVsFf0jT via @codeinwp\n",
      "1392565826235113476 2021-05-13 02:42:20 +0700 <BonnieRing7> #Acoustics  #HomeOffice #Insulation #RemoteWork #KnaufSocialSquad  https://t.co/iMzdKuH6yP\n",
      "1392565251233787905 2021-05-13 02:40:03 +0700 <lkenglish> Smart organizations will follow suit … with the majority of workers wanting #remotework at least some of the time, forcing everyone to return to full-time office life will cost you talent.  https://t.co/79LzsjnP24\n",
      "1392565093230075904 2021-05-13 02:39:25 +0700 <GoRemote1> \"Throughout the last year, we have seen homebuyers across the country, empowered by the newfound ability to work remotely, moving farther and farther from crowded urban downtowns in search of more space, higher quality of life, and a lower cost of living.\"\n",
      "1392565074208956427 2021-05-13 02:39:20 +0700 <jareddees> @AdamMGrant This is not what I expected.   Should remote work = less time in meetings?\n",
      "1392565052755021825 2021-05-13 02:39:15 +0700 <GoRemote1> Nearly 60% of new homeowners who purchased within the last 12 months are working from home, and 62% prefer to be. Yet, despite it being the clear preference, just 48% of that total have been told by their employer they can continue to work remotely.\n",
      "1392565002377248770 2021-05-13 02:39:03 +0700 <rcoffey91> Remote work should be a PRIVLEDGE that has been EARNED by employees.  For young professionals fresh out of college, it's essential to get your ass out of bed and go to work.  Most importantly, it eliminates the ability for \"hustlers\" to differentiate themselves from their peers.\n",
      "1392564756041527296 2021-05-13 02:38:05 +0700 <Souldotna> @morgan_krakow My partner, Jessica’s son and DiL moved back to AK from SF a year ago, when his firm went to remote work. He grew up in Seward and ANC, so has a strong family/friend base here. They also are avid outdoor enthusiasts, so now have better access. They just bought a house here.\n",
      "1392564587032162319 2021-05-13 02:37:24 +0700 <sivori> @PaulSkallas Still allows shift to exurbs (commutes that would be impossible daily) but definitely a strike against work from home / remote work.\n",
      "1392564486867914759 2021-05-13 02:37:00 +0700 <eaterla> At a remote 370-acre resort town in the middle of Death Valley, thousands of diners a day wash through to eat steaks, drink beers, and enjoy an ice cream cone.  What’s it like to work (and eat) in one of the most inhospitable places on Earth?  https://t.co/P2Hug7nZAf  https://t.co/kuBEApWfse\n",
      "1392564430475382784 2021-05-13 02:36:47 +0700 <WorkTrendHCM> Business leaders are also realizing that remote work isn’t just a temporary phase meant for companies to survive the pandemic. Remote work is here to stay. It is the future of work and it will become the new normal.  #WorkTrend #WorkplaceStats #HR #Management #RemoteWork  https://t.co/4vaMq6C141\n",
      "1392564204201119745 2021-05-13 02:35:53 +0700 <remote_work20> コロナ禍で中小企業が「クラウドERP」を導入する意義と注意点とは  #リモート実務検定\n",
      "1392564158105853952 2021-05-13 02:35:42 +0700 <MorganManzer> I have been honoured to learn of your stories. Business owners pivoting operations for the sake of public health. Parents making it work with remote learning. Seniors navigating isolation and loneliness.\n",
      "1392564149163548683 2021-05-13 02:35:40 +0700 <kayla_aniston> @picunurse90 I work in accounting but this specific job wasn’t advertised as remote, I was fortunate enough to have the company work with me since they have a very flexible culture. But there are a lot of remote customer service jobs that I saw in my job search on Indeed. I hope that helps!\n",
      "1392563985594060801 2021-05-13 02:35:01 +0700 <ClipwireGames> We were recently recognized by @GPTW_Canada for how we’ve adapted to remote work life during the pandemic. Read how we strive to show our employees how much we appreciate them:  https://t.co/WxJ3pN1f1A   #GreatPlacetoWork\n",
      "1392563942044536832 2021-05-13 02:34:51 +0700 <caro_milanesi> All these arguments were made about #remotework before the pandemic. Arguing the same is true as we return to work shows that we have not progressed at all from a company culture perspective. And that is so disappointing\n",
      "1392563923224825863 2021-05-13 02:34:46 +0700 <thisismahmoud_> @amanhimself @theworstdev Remote work ftw\n",
      "1392563823547142159 2021-05-13 02:34:22 +0700 <MindiSue00> Would it be helpful for employers to offer a 2nd line of broadband &amp; track usage for your #remotework? Can you just separate the traffic? Quality? Privacy? Security? Web browsing? How many devices are on the network? So many questions! #connus21 #5g #ISP #opportunities #WFH  https://t.co/1Pp96eBi4h\n",
      "1392563785689403393 2021-05-13 02:34:13 +0700 <MaggieSeverns> But who will address the resentment and even paranoia that I’m building from being slowly gaslit by all of these op-eds about the horrors of remote work?\n",
      "1392563766542446601 2021-05-13 02:34:09 +0700 <weworkremotely> 🌏 New Remote Job!  Wells Media Group: Full-Stack PHP/MySQL Team Lead  at   https://t.co/YkWDwgpAcs  #remotework\n",
      "1392563697722093569 2021-05-13 02:33:52 +0700 <lachaiej> It shouldn’t matter if a governor decides to finalize something in regards to Covid for companies and universities to continue remote work or learning.\n",
      "1392563511990104065 2021-05-13 02:33:08 +0700 <BlockchainWorks> Remote Core Protocol Engineer (Remote) $75K - 150K + Equity  Check out this role working with Rust &amp; Substrate  #remotework #remotejobs #rust #substrate   https://t.co/h0HqLcoRj2\n",
      "1392563500669677569 2021-05-13 02:33:05 +0700 <dpistulka> Remote work is the next diversity frontier #dpistulka #leadership #business #success     https://t.co/jSp9QLnfQl\n",
      "1392563458865045509 2021-05-13 02:32:55 +0700 <DoppelGregor> @CZEdwards There's an honest conversation to be had about the trade-offs in remote work, but the Boston globe focuses only on one side of it.  I've worked in a hybrid office for years and there are challenges, but there are also immense gains in accessibility, flexibility, and hiring.\n",
      "1392563452598751234 2021-05-13 02:32:54 +0700 <fast> Why work at Fast?  • Early stage, well-funded start-up • 401k • Equity • Free snacks • Remote office • Impactful work • Competitive salary • Incredible health benefits • Prioritize inclusion and diversity • And of course, an infamous Fast Hoodie   https://t.co/hujFRAD9nF\n",
      "1392563210457436160 2021-05-13 02:31:56 +0700 <whfa_grow> Hi @assetnote are Hiring Remote!  (Anywhere 100% Remote)  👉 Engineer (Backend &amp; API)  Apply now 👇 #remotejob #hiring #developer   https://t.co/svmJYLuyLu\n",
      "1392563051879178241 2021-05-13 02:31:18 +0700 <weworkremotely> New Remote Job! Authory: Senior Backend Engineer   https://t.co/rYaIWlayhJ #remotework\n",
      "1392563007457222659 2021-05-13 02:31:08 +0700 <AbsorbLMS> Remote work isn't going away anytime soon. You’ll need to optimize your toolkit by building a true digital infrastructure that enhances employee experience and meticulously manages output. Learn more, via @Forbes:  #remotework  https://t.co/zrSY81ZbFT\n",
      "1392563000436011011 2021-05-13 02:31:06 +0700 <DisgustedPigs> @HumanBe64947926 @Gin_on_rocks @PaulWHauser So, while I can understand frustration with that element (assuming that reading makes remote sense), it still likely doesn't seem to be much about craft or the broader themes in a manner which keeps all of this in perspective with the work as a whole.\n",
      "1392562913714446337 2021-05-13 02:30:45 +0700 <aulett> Tune in: Executives, workers see future of remote work differently via @Marketplace. PwC's @bhushansethi1 shares why leaders value in-person interactions  https://t.co/J8nwbkyACh\n",
      "1392562895762903041 2021-05-13 02:30:41 +0700 <TokenRingJoe> @otter_tall @junebotprolly I have a desktop with 3 monitors and I remote desktop (single screen) to my work laptop.   No games on the work laptop\n",
      "1392562725088333829 2021-05-13 02:30:00 +0700 <VirtiraRemote> When you engage, you discover.   Find what makes Virtira synonymous with remote productivity. Follow us on LinkedIn today!   https://t.co/qTwxhXSLHN  #RemoteWork #RemoteProductivity #Productivity #RemoteProjects #ProjectManagement  https://t.co/4oYF67mhwA\n",
      "1392562724098424836 2021-05-13 02:30:00 +0700 <BrightfulHQ> There’s a Perfect Number of Days to Work From Home, and It’s 2 @TheAtlantic -  https://t.co/ECXDuSiuac #remotework #remoteworking #remotejobs\n",
      "1392562456397025282 2021-05-13 02:28:56 +0700 <MindiSue00> How many employers are subsidizing broadband for remote workers? #connus21 #remotework #WFH #remoteworkersupport #broadband #growth #futuretrends #innovation  https://t.co/4Q5pG8HR2R\n",
      "1392562409198456832 2021-05-13 02:28:45 +0700 <remoteworkrebel> @simonpaix Very cool\n",
      "1392562373328736256 2021-05-13 02:28:37 +0700 <mar15sa> @dvassallo I went from Product Manager to Head of Product and Operations all while remote. You can absolutely climb the ladder.  I've also found that my most loyal team members are those who work remotely because they value the freedom it allows and are thankful for companies that allow it.\n",
      "1392562366148190210 2021-05-13 02:28:35 +0700 <NachoOliveras> @PaulSkallas I bet it will be both smaller than it has been, and yet still significant. And the distribution of remote work will be fat tailed.\n",
      "1392562364336201738 2021-05-13 02:28:34 +0700 <hellsop> @SwiftOnSecurity I've been a remote-working employee for about 20 years now, longer than I worked at a job site of any kind including scut summer jobs. When I'm done working, I shut down the ThinkPad entirely, and work is gone. Someone would have to call me on the phone to reach me before 0730.\n",
      "1392562277069512713 2021-05-13 02:28:14 +0700 <michelleRPO> Employee Scheduling Trends that Deserve to Continue Even After the Pandemic  https://t.co/6euY0fnrGD #RemoteWork #HR #WorkBalance\n",
      "1392562225760587786 2021-05-13 02:28:01 +0700 <ThuliumCo> #WFH is the new norm – here are some tips to help make it better:  https://t.co/BHVBDRJZUV #RemoteWork #FutureofWork\n",
      "1392562173482868740 2021-05-13 02:27:49 +0700 <SheSoTravels> @Caribbean_beau And the mfs who work remote from home!\n",
      "1392562060509302785 2021-05-13 02:27:22 +0700 <jordan_law21> Just saw this and wanted to append it to the thread: A deep dive into how remote teams can work in legal.  https://t.co/KXPz65qfd9\n",
      "1392562031799279616 2021-05-13 02:27:15 +0700 <remoteworkrebel> @legacybuild1011 Today is the day!\n",
      "1392561864895344641 2021-05-13 02:26:35 +0700 <MindiSue00> Great discussion with our interactive panel! @CoxComm @zobi_ai @MinimSecure @weareeverise @ParksAssociates #connus21 #remotework #smarthome #increasedbroadband #advancedmonitoring #security #networkmanagement  https://t.co/4DO7dU56zK\n",
      "1392561792212082697 2021-05-13 02:26:18 +0700 <HeatherL114> How ya'll change my practice: yesterday, instead of sending remote day work home with a student that I know is celebrating Eid, I put a card in her folder telling them she has no work for remote Thursday and Eid Mubarak. Thank you all for making me better &lt;3\n",
      "1392561723807256576 2021-05-13 02:26:02 +0700 <kerrywekelo> Thank you Bruce Marable of @EmployeeCycle for inviting me on your podcast to discuss, “How to make your remote workforce feel connected.”  https://t.co/PQp5Fit8lg #remotework #WFH #HR  https://t.co/Xsumx5tSsM\n",
      "1392561575383478272 2021-05-13 02:25:26 +0700 <CLSulzberger> @trumbitta At 35? I wouldn't say any job, with COVID I am trying to stay away from people but plenty of remote work. I have applied at numerous places but they don't like the fact I want 50k (although I put that I am willing to negotiate.)\n",
      "1392561528377942018 2021-05-13 02:25:15 +0700 <CryptoJobsList> 👍 Featured opportunity:  💼 Frontend Engineer (with some DevOps/Backend experience) at 🏛️ LocalCoinSwap @Localcoinswap_  🌍 Remote  Apply now,     or share with your friends! 👇  #CryptoJobs #TechJobs #HiringNow #RemoteJobs #RemoteWork  https://t.co/DAwj7PR6Tc\n",
      "1392561480923496451 2021-05-13 02:25:04 +0700 <fabianovivencio> The topic of the hour... #remotework #hybridwork #futureofwork  https://t.co/24SptYXx0H\n",
      "1392561480336216066 2021-05-13 02:25:04 +0700 <LarsRood> One of the key benefits for my teammates during remote work is not being able to smell the fish I am eating during this lunch meeting. 🐟💨👃🏼\n",
      "1392561472518115328 2021-05-13 02:25:02 +0700 <LeadershipInst> Do you want to make the most of your return to the office?  Join the Returning to Work webinar and learn how to make your transition from remote work like a pro and avoid any pitfalls along the way.  Register here ⤵️  https://t.co/v390vt9lNZ\n",
      "1392561420546498563 2021-05-13 02:24:49 +0700 <ifindInsPros> @briankropp Love your well researched intelligent reporting on #remote work.   The news from the other end of the spectrum? @WSJ and the CEO of WeWork get warm fuzzies from people working in office. 🙃🤔   https://t.co/5kubgmo6ZG\n",
      "1392561372874092547 2021-05-13 02:24:38 +0700 <fabianovivencio> As part of our Powering Remote Work Virtual World Tour, we spoke with Sensée, a UK-based work-from-home specialist that has been 100% homeworking for over 16 years for an inside look at how their business is solving for #remotework.  https://t.co/y5z5rV8Fza\n",
      "1392561200685256704 2021-05-13 02:23:57 +0700 <IncluzionJobs> .@ElysianStaffing tweeted a new remote job.  #incluzion #remotejobs #wfh #ReignyDayJobs #remotework #workfromhome #remoteworking #remoteworking #jobsearch #workanywhere #jobs #digitalnomad #hiring #remoteoffice #stayathomejobs #work #remoteworklife   https://t.co/KXBOLArnQG\n",
      "1392561174554714112 2021-05-13 02:23:51 +0700 <alexyoungkwon> Slack Connect is the best way to build your community (for now 😏).   If you want priority access for  https://t.co/huEaKg4JIG and also discuss the ups and downs of remote/hybrid work, DM us for access to the # lounge-beta channel.  https://t.co/97JO1vT9sX\n",
      "1392561160621281289 2021-05-13 02:23:47 +0700 <IncluzionJobs> .@NokomisWarriors tweeted a new remote job.  #incluzion #remotejobs #wfh #ReignyDayJobs #remotework #workfromhome #remoteworking #remoteworking #jobsearch #workanywhere #jobs #digitalnomad #hiring #remoteoffice #stayathomejobs #work #remoteworklife   https://t.co/IUbSNb8Ls3\n",
      "1392561097211846662 2021-05-13 02:23:32 +0700 <IncluzionJobs> .@careersatstride tweeted a new remote job.  #incluzion #remotejobs #wfh #ReignyDayJobs #remotework #workfromhome #remoteworking #remoteworking #jobsearch #workanywhere #jobs #digitalnomad #hiring #remoteoffice #stayathomejobs #work #remoteworklife   https://t.co/ua9zw3MlZp\n",
      "1392560966307655694 2021-05-13 02:23:01 +0700 <golangprojects> .@xteam is looking for: Senior #Go Developer #RemoteWork 🇺🇸 #remote #golang #hiring  https://t.co/w28XigvyyB\n",
      "1392560937366958082 2021-05-13 02:22:54 +0700 <IncluzionJobs> .@Dagnan tweeted a new remote job.  #incluzion #remotejobs #wfh #ReignyDayJobs #remotework #workfromhome #remoteworking #remoteworking #jobsearch #workanywhere #jobs #digitalnomad #hiring #remoteoffice #stayathomejobs #work #remoteworklife   https://t.co/M6bXJ5lZfB\n",
      "1392560914197532672 2021-05-13 02:22:49 +0700 <IncluzionJobs> .@ServicesSlingo tweeted a new remote job.  #incluzion #remotejobs #wfh #ReignyDayJobs #remotework #workfromhome #remoteworking #remoteworking #jobsearch #workanywhere #jobs #digitalnomad #hiring #remoteoffice #stayathomejobs #work #remoteworklife   https://t.co/7m8uWO4dAG\n",
      "1392560897214742529 2021-05-13 02:22:45 +0700 <fabianovivencio> As part of our Powering Remote Work Virtual World Tour, we spoke with Sensée, a UK-based work-from-home specialist that has been 100% homeworking for over 16 years for an inside look at how their business is solving for #remotework.  https://t.co/y5z5rUR4aA\n",
      "1392560894404608006 2021-05-13 02:22:44 +0700 <mindo4u> @loxxyroxxy I’ve tried Energizer, ray-o-vac and Panasonic too. They all last about 2 to 3 days b/c  I keep the TV on for my animals while I’m at work. But I don’t use the remote except for turning it on and putting the channel on. I noticed it started happening after the update.🤔\n",
      "1392560861949140995 2021-05-13 02:22:36 +0700 <IncluzionJobs> .@throughthe_veil tweeted a new remote job.  #incluzion #remotejobs #wfh #ReignyDayJobs #remotework #workfromhome #remoteworking #remoteworking #jobsearch #workanywhere #jobs #digitalnomad #hiring #remoteoffice #stayathomejobs #work #remoteworklife   https://t.co/GY9FMk0WQQ\n",
      "1392560794093727746 2021-05-13 02:22:20 +0700 <IncluzionJobs> .@katebevitt tweeted a new remote job.  #incluzion #remotejobs #wfh #ReignyDayJobs #remotework #workfromhome #remoteworking #remoteworking #jobsearch #workanywhere #jobs #digitalnomad #hiring #remoteoffice #stayathomejobs #work #remoteworklife   https://t.co/yPqaNxpvqU\n",
      "1392560763449999369 2021-05-13 02:22:13 +0700 <hr_flip> The #futureofwork &gt; The #pandemic has accelerated 3 broad sets of #WorkTrends that were visible before: Much greater reliance on #remotework, including more #virtualmeetings and less #worktravel; higher use of e-commerce &amp; #virtualtransactions  https://t.co/NZPuutfnmh @McKinsey\n",
      "1392560713160343558 2021-05-13 02:22:01 +0700 <daily_remote> 👋 Bitfinex is hiring remotely for a Remote Senior NodeJS Engineer.          #RemoteJob #RemoteWork  #Jobtype:      Apply now! 👇      https://t.co/ppvwswhhjZ\n",
      "1392560632491388934 2021-05-13 02:21:41 +0700 <IncluzionJobs> .@loko08 tweeted a new remote job.  #incluzion #remotejobs #wfh #ReignyDayJobs #remotework #workfromhome #remoteworking #remoteworking #jobsearch #workanywhere #jobs #digitalnomad #hiring #remoteoffice #stayathomejobs #work #remoteworklife   https://t.co/ctWXINmYly\n",
      "1392560597519192067 2021-05-13 02:21:33 +0700 <Ainsdale_Gas> New Viessmann Vitodens 100-W H2 ready boiler installed in Ainsdale. Future proofed to work on up to 20% hydrogen! Stainless steel heat exchanger, LCD touchscreen, WiFi inside, climate sensor, remote monitoring and 10-12 year warranty when installed by us 😃  https://t.co/g5JREpW4S7\n",
      "1392560567362236416 2021-05-13 02:21:26 +0700 <IncluzionJobs> .@DatakinHQ tweeted a new remote job.  #incluzion #remotejobs #wfh #ReignyDayJobs #remotework #workfromhome #remoteworking #remoteworking #jobsearch #workanywhere #jobs #digitalnomad #hiring #remoteoffice #stayathomejobs #work #remoteworklife   https://t.co/3lBY8IRoCj\n",
      "1392560566628126723 2021-05-13 02:21:26 +0700 <DustBunnyArt> @dshotlander @sanarshah @secupp They are showing up for work. Remotely.  Can you explain why in office work is valued more than remote work, if the work gets done in both cases? In fact, office culture is often toxic and a huge cause of *lack of productivity*\n",
      "1392560546797477891 2021-05-13 02:21:21 +0700 <IncluzionJobs> .@PeladoCollado tweeted a new remote job.  #incluzion #remotejobs #wfh #ReignyDayJobs #remotework #workfromhome #remoteworking #remoteworking #jobsearch #workanywhere #jobs #digitalnomad #hiring #remoteoffice #stayathomejobs #work #remoteworklife   https://t.co/xywA4Artqs\n",
      "1392560452215836672 2021-05-13 02:20:58 +0700 <ifindInsPros> Here’s a brilliantly well-researched and informed take on #remote work.   An elegant rebuttal to the self serving pablum in the @wsj article below.  👏👏👏to @briankropp for publishing this ➡️   https://t.co/WNLuPT0Lez   ...and not that ⬇️\n",
      "1392560288189321217 2021-05-13 02:20:19 +0700 <coldhealing> @PaulSkallas lindyman sir how do we fight back and make remote work nationalism a reality\n",
      "1392560218089852928 2021-05-13 02:20:03 +0700 <turingcom> Carlos from Mexico 🇲🇽 was recently matched for work as a Fullstack Engineer at a Southern California, USA-based electric adventure vehicel startup. 🇺🇸🛻🌴   #JustMatched #Boundaryless #TuringJobs #NoVisaNeeded\n",
      "1392559957871108099 2021-05-13 02:19:01 +0700 <IncluzionJobs> .@TelnaGlobal tweeted a new remote job.  #incluzion #remotejobs #wfh #ReignyDayJobs #remotework #workfromhome #remoteworking #remoteworking #jobsearch #workanywhere #jobs #digitalnomad #hiring #remoteoffice #stayathomejobs #work #remoteworklife   https://t.co/D5R4PjtWIr\n",
      "1392559919258382346 2021-05-13 02:18:51 +0700 <remotecircle> New Remote Job! Seller Interactive: eCommerce Sales Representative   https://t.co/siEa288YZt  #remotework #weworkremotely\n",
      "1392559907023597571 2021-05-13 02:18:49 +0700 <IncluzionJobs> .@SriLankanMonkey tweeted a new remote job.  #incluzion #remotejobs #wfh #ReignyDayJobs #remotework #workfromhome #remoteworking #remoteworking #jobsearch #workanywhere #jobs #digitalnomad #hiring #remoteoffice #stayathomejobs #work #remoteworklife   https://t.co/NqK9CD4Hd5\n",
      "1392559849708343310 2021-05-13 02:18:35 +0700 <IncluzionJobs> .@SapphireGirl10 tweeted a new remote job.  #incluzion #remotejobs #wfh #ReignyDayJobs #remotework #workfromhome #remoteworking #remoteworking #jobsearch #workanywhere #jobs #digitalnomad #hiring #remoteoffice #stayathomejobs #work #remoteworklife   https://t.co/8UVCLtdyeK\n",
      "1392559837238681603 2021-05-13 02:18:32 +0700 <IncluzionJobs> .@badgerpendous tweeted a new remote job.  #incluzion #remotejobs #wfh #ReignyDayJobs #remotework #workfromhome #remoteworking #remoteworking #jobsearch #workanywhere #jobs #digitalnomad #hiring #remoteoffice #stayathomejobs #work #remoteworklife   https://t.co/WsnPFPmx34\n",
      "1392559800844754950 2021-05-13 02:18:23 +0700 <IncluzionJobs> .@mattjrobson tweeted a new remote job.  #incluzion #remotejobs #wfh #ReignyDayJobs #remotework #workfromhome #remoteworking #remoteworking #jobsearch #workanywhere #jobs #digitalnomad #hiring #remoteoffice #stayathomejobs #work #remoteworklife   https://t.co/AOxEtDnOV9\n",
      "1392559739557621765 2021-05-13 02:18:09 +0700 <Sascha_Lippe> @LeonidLezner Es steht und fällt alles mit der Akzeptanz der Geschäftsführung und der direkten Führungskraft. Nur mit dem richtigen Leadership wird sich Remote Work durchsetzen. Sonst wird es schnell toxisch\n",
      "1392559721928957954 2021-05-13 02:18:04 +0700 <OlamideTowobola> I teach freelancing/remote work excellently. I really don’t know how I do it, but I’m good at it.\n",
      "1392559713544515586 2021-05-13 02:18:02 +0700 <IncluzionJobs> .@PrincetonCEFR tweeted a new remote job.  #incluzion #remotejobs #wfh #ReignyDayJobs #remotework #workfromhome #remoteworking #remoteworking #jobsearch #workanywhere #jobs #digitalnomad #hiring #remoteoffice #stayathomejobs #work #remoteworklife   https://t.co/LbLInwTA8X\n",
      "1392559694779199496 2021-05-13 02:17:58 +0700 <IncluzionJobs> .@attentivemobile tweeted a new remote job.  #incluzion #remotejobs #wfh #ReignyDayJobs #remotework #workfromhome #remoteworking #remoteworking #jobsearch #workanywhere #jobs #digitalnomad #hiring #remoteoffice #stayathomejobs #work #remoteworklife   https://t.co/RZ7ZDkOCrT\n",
      "1392559664404090885 2021-05-13 02:17:51 +0700 <SuziEdwards> What an unsurprisingly terrible take on remote work culture from WeWork.\n",
      "1392559610066874371 2021-05-13 02:17:38 +0700 <IncluzionJobs> .@rivvly tweeted a new remote job.  #incluzion #remotejobs #wfh #ReignyDayJobs #remotework #workfromhome #remoteworking #remoteworking #jobsearch #workanywhere #jobs #digitalnomad #hiring #remoteoffice #stayathomejobs #work #remoteworklife   https://t.co/VHNRJ51oWB\n",
      "1392559588931670016 2021-05-13 02:17:33 +0700 <IncluzionJobs> .@Resilient_Ldr tweeted a new remote job.  #incluzion #remotejobs #wfh #ReignyDayJobs #remotework #workfromhome #remoteworking #remoteworking #jobsearch #workanywhere #jobs #digitalnomad #hiring #remoteoffice #stayathomejobs #work #remoteworklife   https://t.co/2MX4fY1NSQ\n",
      "1392559576160026626 2021-05-13 02:17:30 +0700 <NetBeez> If this is the *case*, is your network ready to support full-time remote work, forever?  https://t.co/RZCokjkb36 #remote #wfh\n",
      "1392559546057494531 2021-05-13 02:17:22 +0700 <MinimSecure> Any questions about the #hybrid work model and what it could mean for businesses, their employees, and the Internet Service Providers keeping us all connected? Direct them towards visionary speaker  @nicolechirps  #CONNUS21 #tech #hybridwork #remotework #hubandspokemodel\n"
     ]
    }
   ],
   "source": [
    "# Configure\n",
    "config = twint.Config()\n",
    "\n",
    "config.Search = \"remote work\"\n",
    "config.Lang = \"en\"\n",
    "config.Since = \"2020-08-01\"\n",
    "config.Until = \"2021-05-13\"\n",
    "config.Limit = 10000\n",
    "config.Pandas = True\n",
    "config.Filter_retweets = True\n",
    "\n",
    "\n",
    "# Run\n",
    "twint.run.Search(config)"
   ]
  },
  {
   "cell_type": "code",
   "execution_count": null,
   "metadata": {
    "scrolled": true
   },
   "outputs": [],
   "source": [
    "# Get column names\n",
    "columns_names = twint.output.panda.Tweets_df.columns\n",
    "columns_names"
   ]
  },
  {
   "cell_type": "code",
   "execution_count": null,
   "metadata": {},
   "outputs": [],
   "source": [
    "# Save as data frame \n",
    "# Lets only keep date, tweet, and username\n",
    "df = twint.output.panda.Tweets_df[['date','tweet', 'username']]\n"
   ]
  },
  {
   "cell_type": "code",
   "execution_count": null,
   "metadata": {},
   "outputs": [],
   "source": [
    "# Save as CSV\n",
    "df.to_csv('tweets.csv',index =False)\n"
   ]
  },
  {
   "cell_type": "code",
   "execution_count": null,
   "metadata": {},
   "outputs": [],
   "source": [
    "# Reload Data\n",
    "df = pd.read_csv('tweets.csv')\n"
   ]
  },
  {
   "cell_type": "markdown",
   "metadata": {},
   "source": [
    "# 2 - Shape Data<a id='2_Shape_Data'></a>"
   ]
  },
  {
   "cell_type": "markdown",
   "metadata": {},
   "source": [
    "<span style=\"background-color:Teal\">\"Many entries will not be useful for our sentiment analysis lets go through the tweets and see what we can remove<span>"
   ]
  },
  {
   "cell_type": "code",
   "execution_count": null,
   "metadata": {},
   "outputs": [],
   "source": [
    "df.head(20).tweet"
   ]
  },
  {
   "cell_type": "markdown",
   "metadata": {},
   "source": [
    "<span style=\"background-color:Teal\">We see on line 19 and 6 that some sentences are not in english and http links<span>"
   ]
  },
  {
   "cell_type": "markdown",
   "metadata": {},
   "source": [
    "## 2.1 Remove non english tweets<a id = '2.1_Remove_Non_English'></a>"
   ]
  },
  {
   "cell_type": "markdown",
   "metadata": {},
   "source": [
    "### 2.1.1 Remove rows that langdetect cannot detect ( links and language with special characters)"
   ]
  },
  {
   "cell_type": "code",
   "execution_count": null,
   "metadata": {},
   "outputs": [],
   "source": [
    "num_of_rows = len(df)\n",
    "indices_with_error = []\n",
    "for i in range(num_of_rows):\n",
    "    # get text\n",
    "    text = df.tweet.iloc[i]\n",
    "    try:\n",
    "        language = langdetect.detect(text)\n",
    "    except:\n",
    "        language = \"error\"\n",
    "        print(\"This row throws and error:\", text, 'at index', i)\n",
    "        # get indices that will throw error\n",
    "        indices_with_error.append(i)\n",
    "    \n",
    "indices_with_error"
   ]
  },
  {
   "cell_type": "code",
   "execution_count": null,
   "metadata": {},
   "outputs": [],
   "source": [
    "# remove rows\n",
    "df = df.drop(indices_with_error,axis = 0)\n",
    "df = df.reset_index(drop = True)\n",
    "df"
   ]
  },
  {
   "cell_type": "code",
   "execution_count": null,
   "metadata": {},
   "outputs": [],
   "source": [
    "# check if it will stil throw error\n",
    "num_of_rows = len(df)\n",
    "indices_with_error = []\n",
    "for i in range(num_of_rows):\n",
    "    # get text\n",
    "    text = df.tweet.iloc[i]\n",
    "    try:\n",
    "        language = langdetect.detect(text)\n",
    "    except:\n",
    "        language = \"error\"\n",
    "        print(\"This row throws and error:\", text, 'at index', i)\n",
    "        # get indices that will throw error\n",
    "        indices_with_error.append(i)\n",
    "  "
   ]
  },
  {
   "cell_type": "code",
   "execution_count": null,
   "metadata": {},
   "outputs": [],
   "source": [
    "indices_with_error  "
   ]
  },
  {
   "cell_type": "markdown",
   "metadata": {},
   "source": [
    "<span style=\"background-color:Teal\">We've removed all rows that has no language. Now lets get all the tweet language. and remove the tweets that are not in english<span>"
   ]
  },
  {
   "cell_type": "markdown",
   "metadata": {},
   "source": [
    "### 2.1.2 Remove tweets that are not english"
   ]
  },
  {
   "cell_type": "code",
   "execution_count": null,
   "metadata": {},
   "outputs": [],
   "source": [
    "# 1. get the list of language\n",
    "language_list = []\n",
    "for i in range(num_of_rows):\n",
    "    # get text\n",
    "    text = df.tweet.iloc[i]\n",
    "    language = langdetect.detect(text)\n",
    "    # get language\n",
    "    language_list.append(language)\n",
    "    "
   ]
  },
  {
   "cell_type": "code",
   "execution_count": null,
   "metadata": {},
   "outputs": [],
   "source": [
    "# 2. append the list to our dataframe\n",
    "df[\"Language\"] = language_list\n",
    "df.iloc[19]"
   ]
  },
  {
   "cell_type": "code",
   "execution_count": null,
   "metadata": {},
   "outputs": [],
   "source": [
    "# 3. remove rows that are not in english\n",
    "df = df[df[\"Language\"] == 'en']"
   ]
  },
  {
   "cell_type": "code",
   "execution_count": null,
   "metadata": {},
   "outputs": [],
   "source": [
    "df.Language.value_counts()"
   ]
  },
  {
   "cell_type": "markdown",
   "metadata": {},
   "source": [
    "All tweets are now in english"
   ]
  },
  {
   "cell_type": "code",
   "execution_count": null,
   "metadata": {},
   "outputs": [],
   "source": [
    "# reset index\n",
    "df = df.reset_index(drop = True)\n",
    "df.head(10)"
   ]
  },
  {
   "cell_type": "markdown",
   "metadata": {},
   "source": [
    "<span style=\"background-color:Teal\">Also notice that all the tweets with http links are mostly job openings and links to articles without sentiments. Lets see the tweets with http links and see if we need them<span>"
   ]
  },
  {
   "cell_type": "markdown",
   "metadata": {},
   "source": [
    "### 2.1.3 Check tweets that have http links"
   ]
  },
  {
   "cell_type": "code",
   "execution_count": null,
   "metadata": {},
   "outputs": [],
   "source": [
    "def match_regex(regex, the_df, column_name):\n",
    "    '''function returns the index in the dataframe that matches the given regex'''\n",
    "    indices_that_match = []\n",
    "    end_index = len(df)\n",
    "    for i in range(end_index):\n",
    "        matched_words = []\n",
    "        if (column_name == 'tweet'):\n",
    "            matched_words = re.findall(regex, df.iloc[i].tweet)\n",
    "        else:\n",
    "            matched_words = re.findall(regex, df.iloc[i].username)\n",
    "            \n",
    "        # if this row is to be removed(because there is a match)    \n",
    "        if len(matched_words) != 0:\n",
    "            indices_that_match.append(i)\n",
    "    return indices_that_match\n"
   ]
  },
  {
   "cell_type": "code",
   "execution_count": null,
   "metadata": {},
   "outputs": [],
   "source": [
    "\n",
    "def print_regex(indices_that_match, the_df, column_name):\n",
    "    '''Function that print all the tweets in indices'''\n",
    "    if (len(the_df)>=20) and (len(indices_that_match) >=20):\n",
    "        for i in range(20):\n",
    "            index = indices_that_match[i] \n",
    "            if column_name == 'tweet':\n",
    "                print(the_df.iloc[index].tweet,'\\n')\n",
    "            else:\n",
    "                print(the_df.iloc[index].username,'\\n')\n",
    "    else:\n",
    "        print('less than 20 entries that in the index')"
   ]
  },
  {
   "cell_type": "code",
   "execution_count": null,
   "metadata": {},
   "outputs": [],
   "source": [
    "# prepare regex\n",
    "regex_url = r'(https?://[^\\s]+)'\n",
    "indices_with_url = []\n",
    "\n",
    "indices_with_url = match_regex(regex_url, df, 'tweet')\n"
   ]
  },
  {
   "cell_type": "markdown",
   "metadata": {},
   "source": [
    "<span style=\"background-color:Teal\">It seems like there are many indices with url lets check the proportion:<span>"
   ]
  },
  {
   "cell_type": "code",
   "execution_count": null,
   "metadata": {},
   "outputs": [],
   "source": [
    "len(indices_with_url)/len(df)"
   ]
  },
  {
   "cell_type": "markdown",
   "metadata": {},
   "source": [
    "<span style=\"background-color:Teal\"><span style=\"background-color:Teal\">More than half have url. Should we get rid of all of them? Lets check the tweet<span>"
   ]
  },
  {
   "cell_type": "code",
   "execution_count": null,
   "metadata": {
    "scrolled": true
   },
   "outputs": [],
   "source": [
    "print_regex(indices_with_url,df,'tweet')"
   ]
  },
  {
   "cell_type": "markdown",
   "metadata": {},
   "source": [
    "<span style=\"background-color:Teal\"> We cannot remove all of the tweets with links because some of them mention the struggle of 'isolation': <br>\n",
    "    \n",
    "<span style=\"background-color:Teal\"> *Another day of isolation done and dusted. I ticked everything off my list again. Today's subject CPD was provided by the Remote CPD section on @LitdriveUK and then this afternoon's session was provided by the Director of Teaching and Learning at work* <br>\n",
    "    \n",
    "<span style=\"background-color:Teal\"> But lets remove tweets with the hashtag #remotejobs #RemoteJobs #Hiring #hiring #HIRINGNOW\n",
    "    </span>\n",
    "\n"
   ]
  },
  {
   "cell_type": "markdown",
   "metadata": {},
   "source": [
    "### 2.1.4 Save df after filtering english only"
   ]
  },
  {
   "cell_type": "code",
   "execution_count": null,
   "metadata": {},
   "outputs": [],
   "source": [
    "df.to_csv('tweets.csv',index =False)\n"
   ]
  },
  {
   "cell_type": "code",
   "execution_count": null,
   "metadata": {},
   "outputs": [],
   "source": [
    "# restart from here\n",
    "df = pd.read_csv('tweets.csv')\n",
    "df"
   ]
  },
  {
   "cell_type": "markdown",
   "metadata": {},
   "source": [
    "## 2.2 Remove advert tweets <a id = '2.2_Remove_Hiring'></a>"
   ]
  },
  {
   "cell_type": "markdown",
   "metadata": {},
   "source": [
    "### 2.2.1 Match by hashtags"
   ]
  },
  {
   "cell_type": "code",
   "execution_count": null,
   "metadata": {},
   "outputs": [],
   "source": [
    "def print_tweet(the_df, end_index):\n",
    "    for i in range(0,end_index):\n",
    "        print(i)\n",
    "        print(the_df.iloc[i].tweet,'\\n')\n",
    "        "
   ]
  },
  {
   "cell_type": "code",
   "execution_count": null,
   "metadata": {
    "scrolled": true
   },
   "outputs": [],
   "source": [
    "# Match by \n",
    "# (?i) makes it match case insensitive and\n",
    "text = 'But lets remove tweets with the hashtag #remotejobs #RemoteJobs #Hiring #hiring #HIRINGNOW #remote'\n",
    "print(re.findall('(?i)\\#(hiring|remotejob)', text))\n"
   ]
  },
  {
   "cell_type": "code",
   "execution_count": null,
   "metadata": {},
   "outputs": [],
   "source": [
    "regex_hiring_hashtag = '(?i)\\#(hiring|remotejob|job)'\n",
    "indices_with_hiring_hashtag = []\n",
    "indices_with_hiring_hashtag = match_regex(regex_hiring_hashtag, df, 'tweet')\n"
   ]
  },
  {
   "cell_type": "markdown",
   "metadata": {},
   "source": [
    "<span style=\"background-color:Teal\"> Lets check these tweets\n",
    "    </span>"
   ]
  },
  {
   "cell_type": "code",
   "execution_count": null,
   "metadata": {
    "scrolled": true
   },
   "outputs": [],
   "source": [
    "print_regex(indices_with_hiring_hashtag,df,'tweet')\n",
    "    "
   ]
  },
  {
   "cell_type": "markdown",
   "metadata": {},
   "source": [
    "<span style=\"background-color:Teal\"> We have succesfully extract all the hiring ads.Lets remove this from our dataframe\n",
    "    </span>"
   ]
  },
  {
   "cell_type": "code",
   "execution_count": null,
   "metadata": {},
   "outputs": [],
   "source": [
    "# drop this hiring tweets\n",
    "df = df.drop(indices_with_hiring_hashtag)\n"
   ]
  },
  {
   "cell_type": "code",
   "execution_count": null,
   "metadata": {},
   "outputs": [],
   "source": [
    "df = df.reset_index(drop = True)\n",
    "df.shape"
   ]
  },
  {
   "cell_type": "markdown",
   "metadata": {},
   "source": [
    "<span style=\"background-color:Teal\">lets check if hiring hashtag still exists</span>"
   ]
  },
  {
   "cell_type": "code",
   "execution_count": null,
   "metadata": {},
   "outputs": [],
   "source": [
    "indices_with_hiring_hashtag = match_regex(regex_hiring_hashtag, df, 'tweet')\n",
    "indices_with_hiring_hashtag"
   ]
  },
  {
   "cell_type": "markdown",
   "metadata": {},
   "source": [
    "### 2.2.2 Match by keyword"
   ]
  },
  {
   "cell_type": "markdown",
   "metadata": {},
   "source": [
    "<span style=\"background-color:Teal\">Lets remove other hiring and ads keywords such as <br>\n",
    "hiring|new remote job|open for|looking for|seeking|Job Vacancy|click here|subscribe|check it out|click|tips|check out|applications|on the lookout for|work with us|available now|Find out more\n",
    "<span>\n",
    "    \n",
    "We also need to remove Tweets that are capture remote work keyword by user name such as: <br>\n",
    "remoteworkrebel @simonpaix Very cool\"<remotework>\n",
    "    "
   ]
  },
  {
   "cell_type": "code",
   "execution_count": null,
   "metadata": {},
   "outputs": [],
   "source": [
    "regex_hiring_keyword = '(?i)(hiring|Microsoft Teams|listen here|new remote job|open for|looking for|seeking|Job Vacancy|subscribe|check it out|click|tips|check out|applications|on the lookout for|work with us|available now)'\n",
    "indices_hiring_keyword = match_regex(regex_hiring_keyword, df, 'tweet')\n"
   ]
  },
  {
   "cell_type": "code",
   "execution_count": null,
   "metadata": {
    "scrolled": true
   },
   "outputs": [],
   "source": [
    "print_regex(indices_hiring_keyword,df, 'tweet')"
   ]
  },
  {
   "cell_type": "code",
   "execution_count": null,
   "metadata": {},
   "outputs": [],
   "source": [
    "df_hiring_removed = df.drop(indices_hiring_keyword)\n",
    "df_hiring_removed = df_hiring_removed.reset_index(drop = True)\n"
   ]
  },
  {
   "cell_type": "markdown",
   "metadata": {},
   "source": [
    "<span style=\"background-color:Teal\"> We've succesfully removed many ads from over 9000 rows to 7000~ rows <span>"
   ]
  },
  {
   "cell_type": "code",
   "execution_count": null,
   "metadata": {
    "scrolled": true
   },
   "outputs": [],
   "source": [
    "df = df_hiring_removed\n",
    "print(df.shape)"
   ]
  },
  {
   "cell_type": "code",
   "execution_count": null,
   "metadata": {},
   "outputs": [],
   "source": [
    "df.to_csv('tweets.csv',index = False)\n"
   ]
  },
  {
   "cell_type": "code",
   "execution_count": null,
   "metadata": {},
   "outputs": [],
   "source": [
    "# restart from here\n",
    "df = pd.read_csv('tweets.csv')"
   ]
  },
  {
   "cell_type": "markdown",
   "metadata": {},
   "source": [
    "## 2.3 Remove username with remote <a id = '2.3_Remove_Username'></a>"
   ]
  },
  {
   "cell_type": "code",
   "execution_count": null,
   "metadata": {
    "tags": []
   },
   "outputs": [],
   "source": [
    "regex_username = '(?i)(remote)'\n",
    "indices_remote_username = match_regex(regex_username, df, 'username')\n",
    "print_regex(indices_remote_username, df, 'username')"
   ]
  },
  {
   "cell_type": "code",
   "execution_count": null,
   "metadata": {},
   "outputs": [],
   "source": [
    "df = df.drop(indices_remote_username, axis = 0)\n",
    "df = df.reset_index(drop = True)"
   ]
  },
  {
   "cell_type": "code",
   "execution_count": null,
   "metadata": {},
   "outputs": [],
   "source": [
    "print(match_regex(regex_username, df, 'username'))"
   ]
  },
  {
   "cell_type": "markdown",
   "metadata": {},
   "source": [
    "# 3-Remove unwanted characters and words<a id='3_Remove_Unwanted'></a>"
   ]
  },
  {
   "cell_type": "markdown",
   "metadata": {},
   "source": [
    "<span style=\"background-color:Teal\"> In this section we will remove unwanted part of our tweet that are not going to be useful for our analysis: <br>\n",
    "<span style=\"background-color:Teal\">\n",
    "- url link<br>\n",
    "- emoji<br>\n",
    "- mention @ some user<br>\n",
    "- Hash tags only tweets. example:<br>\n",
    "#NGOs #NPOs #DigitalNGOs #Tech4Good #NpTech #Productivity #RemoteWork @TechSoup\n",
    "- Questions only tweets. example:<br>\n",
    " Is your desk crammed with papers? Are you sitting properly? What about stretching and resting your eyes?  We wrote a blog post on how to make your work environment work for you and listed some good habits to take on when working remotely<br>\n",
    "<span style=\"background-color:Teal\">\n",
    "    \n"
   ]
  },
  {
   "cell_type": "markdown",
   "metadata": {},
   "source": [
    "-Once we have clearn our text we will finally remove duplicate tweets: <br>\n",
    "'How HPE, Verizon and Mars Wrigley Manage Employees During Remote Work'  https://t.co/FD7Us5BiUY <br>\n",
    "'How HPE, Verizon and Mars Wrigley Manage Employees During Remote Work'  https://t.co/phXphFFwxH <br>"
   ]
  },
  {
   "cell_type": "markdown",
   "metadata": {},
   "source": [
    "## 3.1 Remove Http link<a id = '3.1_Remove_Http'></a>"
   ]
  },
  {
   "cell_type": "code",
   "execution_count": null,
   "metadata": {
    "scrolled": true
   },
   "outputs": [],
   "source": [
    "# 1. our regex\n",
    "regex_new_url = r'(?i)\\b((?:https?://|www\\d{0,3}[.]|[a-z0-9.\\-]+[.][a-z]{2,4}/)(?:[^\\s()<>]+|\\(([^\\s()<>]+|(\\([^\\s()<>]+\\)))*\\))+(?:\\(([^\\s()<>]+|(\\([^\\s()<>]+\\)))*\\)|[^\\s`!()\\[\\]{};:\\'\".,<>?«»\"\"'']))'\n"
   ]
  },
  {
   "cell_type": "code",
   "execution_count": null,
   "metadata": {},
   "outputs": [],
   "source": [
    "\n",
    "def remove_regex(the_regex, the_df):\n",
    "    '''Remove the regex string from our tweets'''\n",
    "    the_df = the_df.replace(to_replace=the_regex, value='', regex=True)\n",
    "    return the_df"
   ]
  },
  {
   "cell_type": "code",
   "execution_count": null,
   "metadata": {
    "scrolled": true
   },
   "outputs": [],
   "source": [
    "df = remove_regex(regex_new_url, df)\n"
   ]
  },
  {
   "cell_type": "markdown",
   "metadata": {},
   "source": [
    "## 3.2 Remove emoji<a id = '3.2_Remove_Emoji'></a>\n"
   ]
  },
  {
   "cell_type": "markdown",
   "metadata": {},
   "source": [
    "<span style=\"background-color:Teal\">We shouldn't simply remove emojis in sentiment analysis as smileys can give huge cue in the sentiment"
   ]
  },
  {
   "cell_type": "code",
   "execution_count": null,
   "metadata": {},
   "outputs": [],
   "source": [
    "import emoji\n",
    "text = \"🇺🇸 #remotework 📚☕ #Iowa 👩‍👧 #homestate 👨‍👦 😎  #remotework #RemoteChat\"\n",
    "emoji.demojize(text)"
   ]
  },
  {
   "cell_type": "code",
   "execution_count": null,
   "metadata": {},
   "outputs": [],
   "source": [
    "# 1. create a list of demojize text\n",
    "demojize_tweets = []\n",
    "\n",
    "# 2. append to dataframe\n",
    "for i in range(len(df)):\n",
    "    text = df.iloc[i].tweet\n",
    "    demojize_tweet = emoji.demojize(text)\n",
    "    demojize_tweets.append(demojize_tweet)\n",
    "    \n",
    "# 3. check our list\n",
    "len(demojize_tweets)"
   ]
  },
  {
   "cell_type": "code",
   "execution_count": null,
   "metadata": {
    "scrolled": true
   },
   "outputs": [],
   "source": [
    "print(demojize_tweets[175])\n",
    "print(demojize_tweets[182])"
   ]
  },
  {
   "cell_type": "code",
   "execution_count": null,
   "metadata": {},
   "outputs": [],
   "source": [
    "demojize_tweets_series = pd.DataFrame(demojize_tweets)\n",
    "df['tweet'] = demojize_tweets_series\n"
   ]
  },
  {
   "cell_type": "markdown",
   "metadata": {},
   "source": [
    "## 3.3 Remove Mention<a id = '3.3_Remove_Mention'></a>"
   ]
  },
  {
   "cell_type": "code",
   "execution_count": null,
   "metadata": {},
   "outputs": [],
   "source": [
    "text = '@TimSackett @lruettimann @FrankZupan @_Lars +1. Real Estate Market would crash if there is no demand for commercial space.   Hybrid work / Remote work works .'\n",
    "regex_mention = '(@[_A-Za-z0-9]+)'\n",
    "\n",
    "re.sub(regex_mention, '',text)"
   ]
  },
  {
   "cell_type": "code",
   "execution_count": null,
   "metadata": {},
   "outputs": [],
   "source": [
    "df = remove_regex(regex_mention, df)\n"
   ]
  },
  {
   "cell_type": "markdown",
   "metadata": {},
   "source": [
    "## 3.4 Remove 'Read, find out, learn more..'"
   ]
  },
  {
   "cell_type": "markdown",
   "metadata": {},
   "source": [
    "<span style=\"background-color:Teal\"> Remove all characters after the phrase **read more, learn more, find our more, read our** . Since these are usally just pointing out to resources"
   ]
  },
  {
   "cell_type": "code",
   "execution_count": null,
   "metadata": {},
   "outputs": [],
   "source": [
    "regex_read_our = '(?s)(?i)(read our)(?<=read our)(.*$)'\n",
    "text = 'Should you invest in Employee Engagement tools for remote work? Read our review of the top tools.    #remotework #wfh  #hr #workplaceculture #business #employees  #employeerecognition #employeeretention #management #employeeengagement #workplace '\n",
    "\n",
    "re.findall(regex_read_our,text)"
   ]
  },
  {
   "cell_type": "code",
   "execution_count": null,
   "metadata": {},
   "outputs": [],
   "source": [
    "regex_learn_more = '(?s)(?i)(learn more)(?<=learn more)(.*$)'\n",
    "regex_read_more = '(?s)(?i)(read more)(?<=read more)(.*$)'\n",
    "regex_find_out_more = '(?s)(?i)(find out more)(?<=find out more)(.*$)'\n",
    "text2 = 'While your office may never become a fully #remote office, remote work for law firms can offer great benefits—as long as you are aware of and can mitigate the risks. Learn more in our recent article.     '\n",
    "re.findall(regex_learn_more,text2)"
   ]
  },
  {
   "cell_type": "code",
   "execution_count": null,
   "metadata": {},
   "outputs": [],
   "source": [
    "df = remove_regex(regex_find_out_more, df)\n",
    "df = remove_regex(regex_learn_more, df)\n",
    "df = remove_regex(regex_read_more, df)\n"
   ]
  },
  {
   "cell_type": "code",
   "execution_count": null,
   "metadata": {},
   "outputs": [],
   "source": [
    "def print_empty_tweet(the_df):\n",
    "    print(df[df.tweet == \"\"])\n",
    "    \n",
    "print_empty_tweet(df)"
   ]
  },
  {
   "cell_type": "code",
   "execution_count": null,
   "metadata": {},
   "outputs": [],
   "source": [
    "# df = df[df.tweet != \"\"]\n",
    "# print_empty_tweet(df)\n",
    "\n",
    "def delete_empty_tweet(the_df):\n",
    "    the_df = the_df[the_df.tweet != \"\"]\n",
    "    \n",
    "delete_empty_tweet(df)\n",
    "print_empty_tweet(df)\n"
   ]
  },
  {
   "cell_type": "code",
   "execution_count": null,
   "metadata": {},
   "outputs": [],
   "source": [
    "df.to_csv('tweets.csv',index =False)"
   ]
  },
  {
   "cell_type": "code",
   "execution_count": null,
   "metadata": {},
   "outputs": [],
   "source": [
    "# restart from here\n",
    "df = pd.read_csv('tweets.csv')\n"
   ]
  },
  {
   "cell_type": "code",
   "execution_count": null,
   "metadata": {},
   "outputs": [],
   "source": [
    "print_empty_tweet(df)"
   ]
  },
  {
   "cell_type": "markdown",
   "metadata": {},
   "source": [
    "## 3.5 Remove Special Characters, Numbers, Punctuation<a id = '3.4_Remove_Specials'></a>"
   ]
  },
  {
   "cell_type": "code",
   "execution_count": null,
   "metadata": {},
   "outputs": [],
   "source": [
    "import string\n",
    "\n",
    "# function to remove special characters and numbers\n",
    "def remove_special_characters(the_text):\n",
    "    # define the pattern to keep\n",
    "    pat = r'[^a-zA-z.,#!?\\\"\\'\\s\\’]' \n",
    "    return re.sub(pat, ' ', the_text)\n",
    "\n",
    "def remove_extra_whitespace_tabs(text):\n",
    "    pattern = '(^\\s*|\\s\\s*)'\n",
    "    return re.sub(pattern, ' ', text).strip()"
   ]
  },
  {
   "cell_type": "code",
   "execution_count": null,
   "metadata": {
    "tags": []
   },
   "outputs": [],
   "source": [
    "df"
   ]
  },
  {
   "cell_type": "code",
   "execution_count": null,
   "metadata": {
    "tags": []
   },
   "outputs": [],
   "source": [
    "df.isnull().value_counts()\n",
    "df.dropna(inplace = True)\n",
    "df.reset_index(drop = True)"
   ]
  },
  {
   "cell_type": "code",
   "execution_count": null,
   "metadata": {
    "scrolled": true
   },
   "outputs": [],
   "source": [
    "new_text_list = []\n",
    "for i in range(len(df)):   \n",
    "    old_text = df.iloc[i].tweet\n",
    "    new_text = df.iloc[i].tweet.replace(\"’\", \"'\")\n",
    "    new_text = new_text.replace(\"-\", \" \")\n",
    "    new_text = remove_special_characters(new_text)\n",
    "    new_text = remove_extra_whitespace_tabs(new_text)\n",
    "    \n",
    "    new_text_list.append(new_text)\n",
    "    \n",
    "df['tweet'] = pd.DataFrame(new_text_list)\n"
   ]
  },
  {
   "cell_type": "code",
   "execution_count": null,
   "metadata": {
    "tags": []
   },
   "outputs": [],
   "source": [
    "print_tweet(df,len(df))"
   ]
  },
  {
   "cell_type": "markdown",
   "metadata": {},
   "source": [
    "## 3.6 Expanding Contractions"
   ]
  },
  {
   "cell_type": "code",
   "execution_count": null,
   "metadata": {},
   "outputs": [],
   "source": [
    "import contractions\n",
    "contractions.fix(\"If a company cared about you they'd ask you to three-days per week\")\n"
   ]
  },
  {
   "cell_type": "code",
   "execution_count": null,
   "metadata": {
    "tags": []
   },
   "outputs": [],
   "source": [
    "df.isnull().value_counts()\n",
    "df.dropna(inplace = True)\n",
    "df.reset_index(drop = True)"
   ]
  },
  {
   "cell_type": "code",
   "execution_count": null,
   "metadata": {},
   "outputs": [],
   "source": [
    "text_list = []\n",
    "for i in range(len(df)):\n",
    "    text = df.iloc[i].tweet\n",
    "    new_text = contractions.fix(df.iloc[i].tweet)\n",
    "    new_text = new_text.strip()\n",
    "    \n",
    "    text_list.append(new_text)\n",
    "    \n",
    "df['tweet'] = pd.DataFrame(text_list)\n"
   ]
  },
  {
   "cell_type": "markdown",
   "metadata": {},
   "source": [
    "# 4 - Lemmatizing<a id='4_Lemmatizing'></a>"
   ]
  },
  {
   "cell_type": "code",
   "execution_count": null,
   "metadata": {},
   "outputs": [],
   "source": [
    "import spacy\n",
    "ori_doc = \"we are eating and swimming; we have been eating and swimming; he eats and swims ; he ate and swam \"\n",
    "nlp = spacy.load('en_core_web_sm')\n",
    "\n",
    "def get_lemmatized(the_text):\n",
    "    the_text = nlp(the_text)\n",
    "    the_text = ' '.join([word.lemma_ if word.lemma_ != '-PRON-' else word.text for word in the_text])\n",
    "    return the_text\n",
    "\n",
    "\n",
    "get_lemmatized(ori_doc)"
   ]
  },
  {
   "cell_type": "code",
   "execution_count": null,
   "metadata": {
    "tags": []
   },
   "outputs": [],
   "source": [
    "df.isnull().value_counts()\n",
    "df.dropna(inplace = True)\n",
    "df.reset_index(drop = True)"
   ]
  },
  {
   "cell_type": "code",
   "execution_count": null,
   "metadata": {},
   "outputs": [],
   "source": [
    "text_list = []\n",
    "for i in range(len(df)):\n",
    "    ori_text = df.iloc[i].tweet\n",
    "    new_text = get_lemmatized(ori_text)\n",
    "    \n",
    "    text_list.append(new_text)\n",
    "\n",
    "df['tweet'] = pd.DataFrame(text_list)    \n",
    "    "
   ]
  },
  {
   "cell_type": "code",
   "execution_count": null,
   "metadata": {},
   "outputs": [],
   "source": [
    "df.to_csv('tweets.csv',index = False)\n"
   ]
  },
  {
   "cell_type": "code",
   "execution_count": null,
   "metadata": {},
   "outputs": [],
   "source": [
    "df = pd.read_csv('tweets.csv')\n"
   ]
  },
  {
   "cell_type": "code",
   "execution_count": null,
   "metadata": {},
   "outputs": [],
   "source": [
    "df.isnull().value_counts()\n",
    "df.dropna(inplace = True)\n",
    "df.reset_index(drop = True)"
   ]
  },
  {
   "cell_type": "markdown",
   "metadata": {},
   "source": [
    "# 5 - Manual Cleaning"
   ]
  },
  {
   "cell_type": "code",
   "execution_count": null,
   "metadata": {},
   "outputs": [],
   "source": [
    "new_text_list = []\n",
    "\n",
    "for i in range(len(df)):\n",
    "    old_text = df.iloc[i].tweet\n",
    "    new_text = remove_extra_whitespace_tabs(old_text)\n",
    "    \n",
    "    # 1. remove spaces before special chars\n",
    "    new_text = new_text.replace(\" .\", \".\")\n",
    "    new_text = new_text.replace(\" ,\", \",\")\n",
    "    new_text = new_text.replace(\" '\", \"'\")\n",
    "    new_text = new_text.replace(\" ?\", \"?\")\n",
    "    new_text = new_text.replace(\" !\", \"!\")\n",
    "    new_text = new_text.replace('  ', ' ')\n",
    "    \n",
    "    # 2. remove repeat chars\n",
    "    new_text = new_text.replace(\"...\", \".\")\n",
    "    new_text = new_text.replace(\"..\", \".\")\n",
    "    new_text = new_text.replace(\",.\", \".\")\n",
    "    new_text = new_text.replace(\",,\", \",\")\n",
    "    \n",
    "    # 3. remove sapce after hashtag\n",
    "    new_text = new_text.replace(\"# \", \"#\")\n",
    "    new_text = new_text.replace('\" ', '')\n",
    "    \n",
    "    # 4. remove double quote\n",
    "    new_text = new_text.replace('\"', '')\n",
    "    new_text = new_text.replace(\"'\", \"\")\n",
    "    \n",
    "    # 5. remove 2 char word\n",
    "    new_text = re.sub('(\\b[a-z]{2}\\b)', \" \", new_text)\n",
    "    \n",
    "    # 6. remove K or k\n",
    "    new_text = re.sub('(\\b[Kk]{1}\\b)', \"\", new_text)\n",
    "    \n",
    "    # 7. remove non-alphanumeric character at the beg. of a sentence\n",
    "    new_text = re.sub('(^\\W\\s)', \"\", new_text) \n",
    "    \n",
    "    new_text_list.append(new_text)\n",
    "    \n",
    "df['tweet'] = pd.DataFrame(new_text_list)"
   ]
  },
  {
   "cell_type": "code",
   "execution_count": null,
   "metadata": {},
   "outputs": [],
   "source": [
    "df.isnull().value_counts()\n",
    "df.dropna(inplace = True)\n",
    "df.reset_index(drop = True)"
   ]
  },
  {
   "cell_type": "markdown",
   "metadata": {},
   "source": [
    "# 6 - Remove duplicates<a id ='7_Remove_Duplicates'></a>"
   ]
  },
  {
   "cell_type": "code",
   "execution_count": null,
   "metadata": {},
   "outputs": [],
   "source": [
    "df_duplicates_removed = df.drop_duplicates(subset=['tweet'], keep='first')"
   ]
  },
  {
   "cell_type": "code",
   "execution_count": null,
   "metadata": {},
   "outputs": [],
   "source": [
    "print(df.shape)\n",
    "print(df_duplicates_removed.shape)\n"
   ]
  },
  {
   "cell_type": "code",
   "execution_count": null,
   "metadata": {},
   "outputs": [],
   "source": [
    "df = df_duplicates_removed.reset_index(drop = True)"
   ]
  },
  {
   "cell_type": "code",
   "execution_count": null,
   "metadata": {
    "scrolled": true,
    "tags": []
   },
   "outputs": [],
   "source": [
    "print_tweet(df, len(df))"
   ]
  },
  {
   "cell_type": "markdown",
   "metadata": {},
   "source": [
    "# 7- Save Final Data"
   ]
  },
  {
   "cell_type": "code",
   "execution_count": null,
   "metadata": {},
   "outputs": [],
   "source": [
    "df.to_csv('tweets.csv', index = False)"
   ]
  },
  {
   "cell_type": "markdown",
   "metadata": {},
   "source": [
    "# 8-Pipeline<a id = '9_Pipeline'></a>"
   ]
  },
  {
   "cell_type": "markdown",
   "metadata": {},
   "source": [
    "<span style=\"background-color:Teal\">Remove hashtag-only sentences: <br> \n",
    "- #wfh articles. #WorkFromHomeJobs #workfromhome #remotework #remoteworking\n",
    "    \n",
    "<span style=\"background-color:Teal\">Since we don't want to just remove all hashtags, lets just remote hashtags that apear at the end of sentences since these won't affect the sentiment of the the text. Unlike hashtags that are in the middle of sentences"
   ]
  },
  {
   "cell_type": "markdown",
   "metadata": {},
   "source": [
    "## 8.1 Remove ending hashtags (Add to pipeline 1) <a id= '9.1_Remove_Ending_Hashtags'></a>\n"
   ]
  },
  {
   "cell_type": "code",
   "execution_count": null,
   "metadata": {},
   "outputs": [],
   "source": [
    "\n",
    "def remove_end_hashtag(the_df, end_index):  \n",
    "    'Remove hashtags at the end of every tweet(rows) in a dataframe'\n",
    "    regex_hashtag = '(#[A-Za-z0-9]+)'\n",
    "    \n",
    "    # create list to be appended to our df\n",
    "    new_text_list = []\n",
    "    # get text in each row\n",
    "    for index_row in range(end_index):\n",
    "\n",
    "        text = the_df.iloc[index_row].tweet\n",
    "        \n",
    "        # split the text\n",
    "        text_list = text.split()\n",
    "        \n",
    "        index_list = -1     \n",
    "        \n",
    "        # get word in each list from the back\n",
    "        for word in reversed(text_list):\n",
    "            #if its a hashtag, remove it\n",
    "            if(re.match(regex_hashtag,word) != None):\n",
    "                text_list.pop(index_list)\n",
    "            else:\n",
    "                break\n",
    "        # join back\n",
    "        new_text = ' '.join(text_list)\n",
    "        new_text_list.append(new_text)\n",
    "    \n",
    "    # update the_df\n",
    "    the_df['tweet'] = pd.DataFrame(new_text_list)\n",
    "    \n",
    "    #drop nan\n",
    "    the_df.dropna(inplace = True)\n",
    "    the_df.reset_index(drop = True)\n",
    "    "
   ]
  },
  {
   "cell_type": "code",
   "execution_count": null,
   "metadata": {},
   "outputs": [],
   "source": [
    "# Test removing end hashtags\n",
    "# df_removed_end_hashtag = df.copy()\n",
    "# remove_end_hashtag(df_removed_end_hashtag, len(df_removed_end_hashtag))"
   ]
  },
  {
   "cell_type": "code",
   "execution_count": null,
   "metadata": {},
   "outputs": [],
   "source": [
    "print_tweet(df_removed_end_hashtag, 4)"
   ]
  },
  {
   "cell_type": "markdown",
   "metadata": {},
   "source": [
    "Our original df will not have its hashtag removed. We will only do this in the pipeline"
   ]
  },
  {
   "cell_type": "code",
   "execution_count": null,
   "metadata": {},
   "outputs": [],
   "source": [
    "print_tweet(df, 4)"
   ]
  },
  {
   "cell_type": "markdown",
   "metadata": {},
   "source": [
    "## 8.2 Split hashtag words (Add to pipeline 2)<a id= '8.2_Split_Hashtags_Words'></a>"
   ]
  },
  {
   "cell_type": "markdown",
   "metadata": {},
   "source": [
    "<span style=\"background-color:Teal\">We want to split hash tag words that are part of the tweet that consist of two words. E.g: <br> \n",
    "convert: <br>\n",
    "- Some buy #SecondHome before #PrimaryResidence! <br>\n",
    "to: <br>\n",
    "- Some buy second home before primary residence!"
   ]
  },
  {
   "cell_type": "code",
   "execution_count": null,
   "metadata": {},
   "outputs": [],
   "source": [
    "from __future__ import division\n",
    "from collections import Counter\n",
    "import re, nltk\n",
    "# nltk.download('brown')\n",
    "\n",
    "WORDS = nltk.corpus.brown.words()\n",
    "COUNTS = Counter(WORDS)\n",
    "\n",
    "def pdist(counter):\n",
    "    \"Make a probability distribution, given evidence from a Counter.\"\n",
    "    N = sum(counter.values())\n",
    "    return lambda x: counter[x]/N\n",
    "\n",
    "P = pdist(COUNTS)\n",
    "\n",
    "def Pwords(words):\n",
    "    \"Probability of words, assuming each word is independent of others.\"\n",
    "    return product(P(w) for w in words)\n",
    "\n",
    "def product(nums):\n",
    "    \"Multiply the numbers together.  (Like `sum`, but with multiplication.)\"\n",
    "    result = 1\n",
    "    for x in nums:\n",
    "        result *= x\n",
    "    return result\n",
    "\n",
    "def splits(text, start=0, L=20):\n",
    "    \"Return a list of all (first, rest) pairs; start <= len(first) <= L.\"\n",
    "    return [(text[:i], text[i:]) \n",
    "            for i in range(start, min(len(text), L)+1)]\n",
    "\n",
    "def segment(text):\n",
    "    \"Return a list of words that is the most probable segmentation of text.\"\n",
    "    if not text: \n",
    "        return []\n",
    "    else:\n",
    "        candidates = ([first] + segment(rest) \n",
    "                      for (first, rest) in splits(text, 1))\n",
    "        return max(candidates, key=Pwords)\n",
    "\n",
    "print(segment('primary'))\n",
    "\n"
   ]
  },
  {
   "cell_type": "code",
   "execution_count": null,
   "metadata": {},
   "outputs": [],
   "source": [
    "# #create function that takes in 1 hashtag word, and convert to split word\n",
    "\n",
    "def get_capital_letter_index(the_word):\n",
    "    \"get the first index of the capital letter\"\n",
    "    for i in range(1, len(the_word)):\n",
    "        if((the_word[i]).isupper()):\n",
    "            return i\n",
    "    return -1\n",
    "\n",
    "def isAllCapital(the_word):\n",
    "    \"Check if a word is all capital letters\"\n",
    "    for i in range(1, len(the_word)):\n",
    "        if(not(the_word[i]).isupper() and(the_word[i].isalpha())):\n",
    "            return False\n",
    "    return True\n",
    "    \n",
    "\n",
    "def get_split_word(the_word):\n",
    "    'function that takes in 1 hashtag word, and convert to split words'\n",
    "    final_word_list = []\n",
    "    loose_char_list = []\n",
    "    \n",
    "    # CASE A: if all is capital return as is\n",
    "    if(isAllCapital(the_word)):\n",
    "\n",
    "        return the_word\n",
    "    \n",
    "    # CASE B: capital is in the middle, then split before the capital\n",
    "    index_capital = get_capital_letter_index(the_word)\n",
    "    if(index_capital != -1):\n",
    "        string1 = the_word[0:index_capital]\n",
    "        string2 = the_word[index_capital: len(the_word)]\n",
    "        final_word_list = [string1, string2]\n",
    "        return ' '.join(final_word_list)\n",
    "    \n",
    "    # CASE C: the word are not split by capital letter\n",
    "    else:\n",
    "        # 1. segment the word\n",
    "        final_word_list = segment(the_word)  \n",
    "\n",
    "        # 2. now we want to make sure word less than 3 chars is merged to previous word\n",
    "        index = 1\n",
    "        end_index = len(final_word_list)\n",
    "        while(index < end_index):\n",
    "            # 3. if length of current word is less than 2\n",
    "            if( len(final_word_list[index]) <= 2):\n",
    "                \n",
    "                # 4. join current word to previous word\n",
    "                final_word_list[index-1] = ''.join(final_word_list[(index-1):(index+1)])\n",
    "                \n",
    "                # 5. delete word at current\n",
    "                final_word_list.pop(index)\n",
    "                \n",
    "                # 6. update end index after pop\n",
    "                end_index = len(final_word_list)\n",
    "            else:\n",
    "                index += 1\n",
    "\n",
    "    return ' '.join(final_word_list)   \n",
    "\n",
    "print(get_split_word('remotework'))\n",
    "\n",
    "                        "
   ]
  },
  {
   "cell_type": "code",
   "execution_count": null,
   "metadata": {},
   "outputs": [],
   "source": [
    "# my_list = ['start','up', 'growth']\n",
    "# merge_tuples = [(1, 3), (5, 7)]\n",
    "\n",
    "# index = 1\n",
    "# end_index = len(my_list)\n",
    "# while(index < end_index):\n",
    "#     print('\\nindex:', index)\n",
    "#     print('word:', my_list[index])\n",
    "#     if( len(my_list[index]) <= 3):\n",
    "#         print('len of word is smaller than 3:')\n",
    "#         my_list[index-1] = ''.join(my_list[(index-1):(index+1)])\n",
    "        \n",
    "#         my_list.pop(index)\n",
    "#         print('my_list:',my_list)\n",
    "#         end_index = len(my_list)\n",
    "#         print('end index', end_index)\n",
    "#     else:\n",
    "#         index += 1\n",
    "\n",
    "# print(' '.join(my_list))\n",
    "\n"
   ]
  },
  {
   "cell_type": "code",
   "execution_count": null,
   "metadata": {},
   "outputs": [],
   "source": [
    "def split_hash_tag(the_df):\n",
    "    'Split the hashtags in a given data frame'\n",
    "    regex_hashtag = '#(\\S*)'\n",
    "    final_tweet_list = []\n",
    "    \n",
    "    # loop through each row and add modfied text to our final_tweet_list\n",
    "    for i in range(len(the_df)):\n",
    "        print(i)\n",
    "        hashtag_word_dict = {}\n",
    "        # 1. get list of merged words in a tweet: hashtag_word_list\n",
    "        text = the_df.iloc[i].tweet\n",
    "        hashtag_words_list = re.findall(regex_hashtag, text)      \n",
    "    \n",
    "        # 2. if there is merged words\n",
    "        if(len(hashtag_words_list)!=0):  \n",
    "            print('################')\n",
    "#             print(hashtag_words_list)\n",
    "            # for each word\n",
    "            for i in range(len(hashtag_words_list)):\n",
    "           \n",
    "                # 3. get the word in each list, start from char 1 not 0. 0 is a symbol assign as key\n",
    "                key_before_split = hashtag_words_list[i][0:len(hashtag_words_list[i])]\n",
    "    \n",
    "                # 4. split this word, assign as value\n",
    "                value_after_split = get_split_word(key_before_split)\n",
    "#                 print(key_before_split, \":  \", value_after_split)\n",
    "            \n",
    "                # 5. create dict \n",
    "                hashtag_word_dict[key_before_split] = value_after_split\n",
    "            \n",
    "    \n",
    "        # 6. remove hashtag symbol from the text\n",
    "        text = text.replace('#', '')\n",
    "        text_list = text.split(' ')\n",
    "    \n",
    "        # 7. loop through the text. if it finds the word in our key, replace with our value\n",
    "        for i in range(len(text_list)):\n",
    "            for key, value in hashtag_word_dict.items():\n",
    "                if(text_list[i] == key):\n",
    "                    text_list[i] = value\n",
    "    \n",
    "        new_text = ' '.join(text_list)\n",
    "        final_tweet_list.append(new_text)\n",
    "#         print(new_text)\n",
    "\n",
    "    # update df\n",
    "    the_df['tweet'] = pd.DataFrame(final_tweet_list)\n",
    "    \n",
    "    #drop nan\n",
    "    the_df.dropna(inplace = True)\n",
    "    the_df.reset_index(drop = True)\n"
   ]
  },
  {
   "cell_type": "code",
   "execution_count": null,
   "metadata": {},
   "outputs": [],
   "source": [
    "# Test split hashtag after removing ending hashtag"
   ]
  },
  {
   "cell_type": "markdown",
   "metadata": {},
   "source": [
    "## 8.3 - Remove Stopwords"
   ]
  },
  {
   "cell_type": "code",
   "execution_count": null,
   "metadata": {
    "tags": []
   },
   "outputs": [],
   "source": [
    "import nltk.corpus\n",
    "from nltk.corpus import stopwords\n",
    "# nltk.download('stopwords')\n",
    "\n",
    "stop = stopwords.words('english')\n",
    "stop.remove('not')\n",
    "stop.extend([\"amp\",\"gt\", \"click\"])\n",
    "\n",
    "df.tweet = df.tweet.apply(lambda x: ' '.join([word for word in x.split() if word not in (stop)]))\n"
   ]
  },
  {
   "cell_type": "code",
   "execution_count": null,
   "metadata": {},
   "outputs": [],
   "source": [
    "text = 'asds amp gt click here'\n",
    "text = ' '.join([word for word in text.split() if word not in (stop)])\n",
    "text"
   ]
  },
  {
   "cell_type": "markdown",
   "metadata": {},
   "source": [
    "## 8.4 Remove senteces less than 4 words <a id='9.3_Remove_Less_Than_4'></a>"
   ]
  },
  {
   "cell_type": "code",
   "execution_count": null,
   "metadata": {},
   "outputs": [],
   "source": [
    "def remove_short_tweets(the_df):\n",
    "    \n",
    "    indices_to_drop = []\n",
    "    for i in range(len(df)):\n",
    "        # 1. split text\n",
    "        word_list = df.iloc[i].tweet.split()\n",
    "        print(word_list)\n",
    "        \n",
    "        # 2. check len\n",
    "        if(len(word_list) <= 4):\n",
    "            indices_to_drop.append(i)\n",
    "    \n",
    "    the_df.drop(indices_to_drop, axis = 0)\n",
    "    the_df.reset_index(drop = True)\n",
    "        "
   ]
  },
  {
   "cell_type": "code",
   "execution_count": null,
   "metadata": {},
   "outputs": [],
   "source": []
  },
  {
   "cell_type": "code",
   "execution_count": null,
   "metadata": {},
   "outputs": [],
   "source": []
  }
 ],
 "metadata": {
  "kernelspec": {
   "display_name": "Python [conda env:root] *",
   "language": "python",
   "name": "conda-root-py"
  },
  "language_info": {
   "codemirror_mode": {
    "name": "ipython",
    "version": 3
   },
   "file_extension": ".py",
   "mimetype": "text/x-python",
   "name": "python",
   "nbconvert_exporter": "python",
   "pygments_lexer": "ipython3",
   "version": "3.8.5"
  }
 },
 "nbformat": 4,
 "nbformat_minor": 4
}
